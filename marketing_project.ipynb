{
 "cells": [
  {
   "cell_type": "markdown",
   "metadata": {},
   "source": [
    "# Resumo do pedido\n",
    "\n",
    "Sua primeira tarefa é ajudar a empresa a otimizar suas despesas com marketing.\n",
    "\n",
    "Você tem:\n",
    "\n",
    "- Logs do servidor com dados sobre os acessos a Y.Afisha de janeiro de 2017 até dezembro de 2018\n",
    "\n",
    "- Arquivo de despejo com todos os pedidos feitos durante o período\n",
    "\n",
    "- Estatísticas de despesas com marketing\n",
    "\n",
    "Você vai analisar:\n",
    "\n",
    "- Como as pessoas usam o produto\n",
    "\n",
    "- Quando elas começam a comprar\n",
    "\n",
    "- Quanto dinheiro cada cliente traz para a empresa\n",
    "\n",
    "- Quando as despesas serão cobertas"
   ]
  },
  {
   "cell_type": "markdown",
   "metadata": {},
   "source": [
    "# 1.1 Carregando bibliotecas necessárias"
   ]
  },
  {
   "cell_type": "code",
   "execution_count": 1,
   "metadata": {},
   "outputs": [],
   "source": [
    "import pandas as pd\n",
    "from scipy import stats as st\n",
    "import matplotlib.pyplot as plt\n",
    "import numpy as np"
   ]
  },
  {
   "cell_type": "markdown",
   "metadata": {},
   "source": [
    "# 1.2 Carregando dados fornecidos"
   ]
  },
  {
   "cell_type": "code",
   "execution_count": 2,
   "metadata": {},
   "outputs": [],
   "source": [
    "visits_logs = pd.read_csv('/datasets/visits_log_us.csv')\n",
    "orders_logs = pd.read_csv('/datasets/orders_log_us.csv')\n",
    "costs_logs = pd.read_csv('/datasets/costs_us.csv')"
   ]
  },
  {
   "cell_type": "markdown",
   "metadata": {},
   "source": [
    "# 2.1 Pré-processamento dos dados"
   ]
  },
  {
   "cell_type": "markdown",
   "metadata": {},
   "source": [
    "# 2.2.1 Análises Iniciais"
   ]
  },
  {
   "cell_type": "markdown",
   "metadata": {},
   "source": [
    "Primeiro, vamos checar as informações dos datasets fornecidos: checar os dados presentes, quais são os tipos de dados que temos, checar valores ausentes e duplicatas. \n",
    "\n",
    "Após essas checagens, vamos fazer as mudanças necessárias. \n",
    "\n",
    "Como temos 3 logs, faremos um por vez."
   ]
  },
  {
   "cell_type": "markdown",
   "metadata": {},
   "source": [
    "# 2.2.1.1 Analisando o dataframe 'visits_logs'"
   ]
  },
  {
   "cell_type": "code",
   "execution_count": 3,
   "metadata": {},
   "outputs": [
    {
     "name": "stdout",
     "output_type": "stream",
     "text": [
      "<class 'pandas.core.frame.DataFrame'>\n",
      "RangeIndex: 359400 entries, 0 to 359399\n",
      "Data columns (total 5 columns):\n",
      " #   Column     Non-Null Count   Dtype \n",
      "---  ------     --------------   ----- \n",
      " 0   Device     359400 non-null  object\n",
      " 1   End Ts     359400 non-null  object\n",
      " 2   Source Id  359400 non-null  int64 \n",
      " 3   Start Ts   359400 non-null  object\n",
      " 4   Uid        359400 non-null  uint64\n",
      "dtypes: int64(1), object(3), uint64(1)\n",
      "memory usage: 13.7+ MB\n"
     ]
    }
   ],
   "source": [
    "visits_logs.info()"
   ]
  },
  {
   "cell_type": "markdown",
   "metadata": {},
   "source": [
    "Checando valores ausentes e duplicatas:"
   ]
  },
  {
   "cell_type": "code",
   "execution_count": 4,
   "metadata": {},
   "outputs": [
    {
     "data": {
      "text/plain": [
       "Device       0\n",
       "End Ts       0\n",
       "Source Id    0\n",
       "Start Ts     0\n",
       "Uid          0\n",
       "dtype: int64"
      ]
     },
     "execution_count": 4,
     "metadata": {},
     "output_type": "execute_result"
    }
   ],
   "source": [
    "visits_logs.isna().sum()"
   ]
  },
  {
   "cell_type": "code",
   "execution_count": 5,
   "metadata": {},
   "outputs": [
    {
     "data": {
      "text/plain": [
       "0"
      ]
     },
     "execution_count": 5,
     "metadata": {},
     "output_type": "execute_result"
    }
   ],
   "source": [
    "visits_logs.duplicated().sum()"
   ]
  },
  {
   "cell_type": "markdown",
   "metadata": {},
   "source": [
    "Vamos ver uma fatia do dataframe pra ver como ele está dividido:"
   ]
  },
  {
   "cell_type": "code",
   "execution_count": 6,
   "metadata": {},
   "outputs": [
    {
     "data": {
      "text/html": [
       "<div>\n",
       "<style scoped>\n",
       "    .dataframe tbody tr th:only-of-type {\n",
       "        vertical-align: middle;\n",
       "    }\n",
       "\n",
       "    .dataframe tbody tr th {\n",
       "        vertical-align: top;\n",
       "    }\n",
       "\n",
       "    .dataframe thead th {\n",
       "        text-align: right;\n",
       "    }\n",
       "</style>\n",
       "<table border=\"1\" class=\"dataframe\">\n",
       "  <thead>\n",
       "    <tr style=\"text-align: right;\">\n",
       "      <th></th>\n",
       "      <th>Device</th>\n",
       "      <th>End Ts</th>\n",
       "      <th>Source Id</th>\n",
       "      <th>Start Ts</th>\n",
       "      <th>Uid</th>\n",
       "    </tr>\n",
       "  </thead>\n",
       "  <tbody>\n",
       "    <tr>\n",
       "      <th>0</th>\n",
       "      <td>touch</td>\n",
       "      <td>2017-12-20 17:38:00</td>\n",
       "      <td>4</td>\n",
       "      <td>2017-12-20 17:20:00</td>\n",
       "      <td>16879256277535980062</td>\n",
       "    </tr>\n",
       "    <tr>\n",
       "      <th>1</th>\n",
       "      <td>desktop</td>\n",
       "      <td>2018-02-19 17:21:00</td>\n",
       "      <td>2</td>\n",
       "      <td>2018-02-19 16:53:00</td>\n",
       "      <td>104060357244891740</td>\n",
       "    </tr>\n",
       "    <tr>\n",
       "      <th>2</th>\n",
       "      <td>touch</td>\n",
       "      <td>2017-07-01 01:54:00</td>\n",
       "      <td>5</td>\n",
       "      <td>2017-07-01 01:54:00</td>\n",
       "      <td>7459035603376831527</td>\n",
       "    </tr>\n",
       "    <tr>\n",
       "      <th>3</th>\n",
       "      <td>desktop</td>\n",
       "      <td>2018-05-20 11:23:00</td>\n",
       "      <td>9</td>\n",
       "      <td>2018-05-20 10:59:00</td>\n",
       "      <td>16174680259334210214</td>\n",
       "    </tr>\n",
       "    <tr>\n",
       "      <th>4</th>\n",
       "      <td>desktop</td>\n",
       "      <td>2017-12-27 14:06:00</td>\n",
       "      <td>3</td>\n",
       "      <td>2017-12-27 14:06:00</td>\n",
       "      <td>9969694820036681168</td>\n",
       "    </tr>\n",
       "    <tr>\n",
       "      <th>5</th>\n",
       "      <td>desktop</td>\n",
       "      <td>2017-09-03 21:36:00</td>\n",
       "      <td>5</td>\n",
       "      <td>2017-09-03 21:35:00</td>\n",
       "      <td>16007536194108375387</td>\n",
       "    </tr>\n",
       "    <tr>\n",
       "      <th>6</th>\n",
       "      <td>desktop</td>\n",
       "      <td>2018-01-30 12:09:00</td>\n",
       "      <td>1</td>\n",
       "      <td>2018-01-30 11:13:00</td>\n",
       "      <td>6661610529277171451</td>\n",
       "    </tr>\n",
       "    <tr>\n",
       "      <th>7</th>\n",
       "      <td>touch</td>\n",
       "      <td>2017-11-05 15:15:00</td>\n",
       "      <td>3</td>\n",
       "      <td>2017-11-05 15:14:00</td>\n",
       "      <td>11423865690854540312</td>\n",
       "    </tr>\n",
       "    <tr>\n",
       "      <th>8</th>\n",
       "      <td>desktop</td>\n",
       "      <td>2017-07-19 10:44:00</td>\n",
       "      <td>3</td>\n",
       "      <td>2017-07-19 10:41:00</td>\n",
       "      <td>2987360259350925644</td>\n",
       "    </tr>\n",
       "    <tr>\n",
       "      <th>9</th>\n",
       "      <td>desktop</td>\n",
       "      <td>2017-11-08 13:43:00</td>\n",
       "      <td>5</td>\n",
       "      <td>2017-11-08 13:42:00</td>\n",
       "      <td>1289240080042562063</td>\n",
       "    </tr>\n",
       "    <tr>\n",
       "      <th>10</th>\n",
       "      <td>desktop</td>\n",
       "      <td>2017-07-14 12:44:00</td>\n",
       "      <td>5</td>\n",
       "      <td>2017-07-14 12:43:00</td>\n",
       "      <td>14879997728223227242</td>\n",
       "    </tr>\n",
       "    <tr>\n",
       "      <th>11</th>\n",
       "      <td>desktop</td>\n",
       "      <td>2018-01-25 19:41:00</td>\n",
       "      <td>1</td>\n",
       "      <td>2018-01-25 19:37:00</td>\n",
       "      <td>7478054213403174082</td>\n",
       "    </tr>\n",
       "    <tr>\n",
       "      <th>12</th>\n",
       "      <td>desktop</td>\n",
       "      <td>2018-02-06 15:50:00</td>\n",
       "      <td>4</td>\n",
       "      <td>2018-02-06 15:45:00</td>\n",
       "      <td>8056418121947262981</td>\n",
       "    </tr>\n",
       "    <tr>\n",
       "      <th>13</th>\n",
       "      <td>desktop</td>\n",
       "      <td>2017-11-27 14:43:00</td>\n",
       "      <td>3</td>\n",
       "      <td>2017-11-27 14:42:00</td>\n",
       "      <td>1989613820989570316</td>\n",
       "    </tr>\n",
       "    <tr>\n",
       "      <th>14</th>\n",
       "      <td>touch</td>\n",
       "      <td>2018-04-23 18:01:00</td>\n",
       "      <td>9</td>\n",
       "      <td>2018-04-23 18:00:00</td>\n",
       "      <td>18026419100367255411</td>\n",
       "    </tr>\n",
       "    <tr>\n",
       "      <th>15</th>\n",
       "      <td>touch</td>\n",
       "      <td>2018-02-12 20:30:00</td>\n",
       "      <td>2</td>\n",
       "      <td>2018-02-12 19:24:00</td>\n",
       "      <td>18188358787673499603</td>\n",
       "    </tr>\n",
       "    <tr>\n",
       "      <th>16</th>\n",
       "      <td>desktop</td>\n",
       "      <td>2018-05-14 08:45:00</td>\n",
       "      <td>5</td>\n",
       "      <td>2018-05-14 08:39:00</td>\n",
       "      <td>13958332529722257330</td>\n",
       "    </tr>\n",
       "    <tr>\n",
       "      <th>17</th>\n",
       "      <td>desktop</td>\n",
       "      <td>2018-05-30 08:51:00</td>\n",
       "      <td>5</td>\n",
       "      <td>2018-05-30 08:49:00</td>\n",
       "      <td>7415904268540941371</td>\n",
       "    </tr>\n",
       "    <tr>\n",
       "      <th>18</th>\n",
       "      <td>desktop</td>\n",
       "      <td>2018-04-05 16:35:00</td>\n",
       "      <td>10</td>\n",
       "      <td>2018-04-05 16:28:00</td>\n",
       "      <td>17023906935283809754</td>\n",
       "    </tr>\n",
       "    <tr>\n",
       "      <th>19</th>\n",
       "      <td>desktop</td>\n",
       "      <td>2018-05-17 19:26:00</td>\n",
       "      <td>2</td>\n",
       "      <td>2018-05-17 18:10:00</td>\n",
       "      <td>14243397340327062268</td>\n",
       "    </tr>\n",
       "  </tbody>\n",
       "</table>\n",
       "</div>"
      ],
      "text/plain": [
       "     Device               End Ts  Source Id             Start Ts  \\\n",
       "0     touch  2017-12-20 17:38:00          4  2017-12-20 17:20:00   \n",
       "1   desktop  2018-02-19 17:21:00          2  2018-02-19 16:53:00   \n",
       "2     touch  2017-07-01 01:54:00          5  2017-07-01 01:54:00   \n",
       "3   desktop  2018-05-20 11:23:00          9  2018-05-20 10:59:00   \n",
       "4   desktop  2017-12-27 14:06:00          3  2017-12-27 14:06:00   \n",
       "5   desktop  2017-09-03 21:36:00          5  2017-09-03 21:35:00   \n",
       "6   desktop  2018-01-30 12:09:00          1  2018-01-30 11:13:00   \n",
       "7     touch  2017-11-05 15:15:00          3  2017-11-05 15:14:00   \n",
       "8   desktop  2017-07-19 10:44:00          3  2017-07-19 10:41:00   \n",
       "9   desktop  2017-11-08 13:43:00          5  2017-11-08 13:42:00   \n",
       "10  desktop  2017-07-14 12:44:00          5  2017-07-14 12:43:00   \n",
       "11  desktop  2018-01-25 19:41:00          1  2018-01-25 19:37:00   \n",
       "12  desktop  2018-02-06 15:50:00          4  2018-02-06 15:45:00   \n",
       "13  desktop  2017-11-27 14:43:00          3  2017-11-27 14:42:00   \n",
       "14    touch  2018-04-23 18:01:00          9  2018-04-23 18:00:00   \n",
       "15    touch  2018-02-12 20:30:00          2  2018-02-12 19:24:00   \n",
       "16  desktop  2018-05-14 08:45:00          5  2018-05-14 08:39:00   \n",
       "17  desktop  2018-05-30 08:51:00          5  2018-05-30 08:49:00   \n",
       "18  desktop  2018-04-05 16:35:00         10  2018-04-05 16:28:00   \n",
       "19  desktop  2018-05-17 19:26:00          2  2018-05-17 18:10:00   \n",
       "\n",
       "                     Uid  \n",
       "0   16879256277535980062  \n",
       "1     104060357244891740  \n",
       "2    7459035603376831527  \n",
       "3   16174680259334210214  \n",
       "4    9969694820036681168  \n",
       "5   16007536194108375387  \n",
       "6    6661610529277171451  \n",
       "7   11423865690854540312  \n",
       "8    2987360259350925644  \n",
       "9    1289240080042562063  \n",
       "10  14879997728223227242  \n",
       "11   7478054213403174082  \n",
       "12   8056418121947262981  \n",
       "13   1989613820989570316  \n",
       "14  18026419100367255411  \n",
       "15  18188358787673499603  \n",
       "16  13958332529722257330  \n",
       "17   7415904268540941371  \n",
       "18  17023906935283809754  \n",
       "19  14243397340327062268  "
      ]
     },
     "execution_count": 6,
     "metadata": {},
     "output_type": "execute_result"
    }
   ],
   "source": [
    "visits_logs.head(20)"
   ]
  },
  {
   "cell_type": "markdown",
   "metadata": {},
   "source": [
    "Resultados da primeira análise:\n",
    "\n",
    "1) Os nomes de todas as colunas estão em maiúsculo. Não é adequado manter as colunas com título em maiúsculo, então vamos mudar todos pra letra minúscula. Além disso, as colunas com duas palavras possuem um ' ' entre elas. Vamos adicionar um '_'.\n",
    "\n",
    "2) Com relação aos tipos de dados das colunas:\n",
    "   - End Ts e Start Ts: são datas, então precisam ser convertidas pra um tipo datetime. \n",
    "    \n",
    "3) Não encontramos valores ausentes nem duplicatas."
   ]
  },
  {
   "cell_type": "code",
   "execution_count": 7,
   "metadata": {
    "scrolled": true
   },
   "outputs": [
    {
     "data": {
      "text/plain": [
       "Index(['device', 'end_ts', 'source_id', 'start_ts', 'uid'], dtype='object')"
      ]
     },
     "execution_count": 7,
     "metadata": {},
     "output_type": "execute_result"
    }
   ],
   "source": [
    "visits_logs = visits_logs.rename(columns = str.lower)\n",
    "visits_logs = visits_logs.rename(columns={'start ts': 'start_ts', 'end ts': 'end_ts', 'source id': 'source_id'})\n",
    "visits_logs.columns"
   ]
  },
  {
   "cell_type": "code",
   "execution_count": 8,
   "metadata": {},
   "outputs": [
    {
     "name": "stdout",
     "output_type": "stream",
     "text": [
      "<class 'pandas.core.frame.DataFrame'>\n",
      "RangeIndex: 359400 entries, 0 to 359399\n",
      "Data columns (total 5 columns):\n",
      " #   Column     Non-Null Count   Dtype         \n",
      "---  ------     --------------   -----         \n",
      " 0   device     359400 non-null  object        \n",
      " 1   end_ts     359400 non-null  datetime64[ns]\n",
      " 2   source_id  359400 non-null  int64         \n",
      " 3   start_ts   359400 non-null  datetime64[ns]\n",
      " 4   uid        359400 non-null  uint64        \n",
      "dtypes: datetime64[ns](2), int64(1), object(1), uint64(1)\n",
      "memory usage: 13.7+ MB\n"
     ]
    }
   ],
   "source": [
    "visits_logs['start_ts'] = pd.to_datetime(visits_logs['start_ts'], format='%Y-%m-%d %H:%M:%S')\n",
    "visits_logs['end_ts'] = pd.to_datetime(visits_logs['end_ts'], format='%Y-%m-%d %H:%M:%S')\n",
    "visits_logs.info()"
   ]
  },
  {
   "cell_type": "markdown",
   "metadata": {},
   "source": [
    "Conclusão: corrigi os nomes das colunas mudando o formato para todas letras minúsculas e adicionando '_' nas colunas que possuiam ' '. Além disso, realizei a conversão das colunas de data para o tipo datetime."
   ]
  },
  {
   "cell_type": "markdown",
   "metadata": {},
   "source": [
    "# 2.2.1.2 Analisando o dataframe 'orders_logs'"
   ]
  },
  {
   "cell_type": "code",
   "execution_count": 9,
   "metadata": {},
   "outputs": [
    {
     "name": "stdout",
     "output_type": "stream",
     "text": [
      "<class 'pandas.core.frame.DataFrame'>\n",
      "RangeIndex: 50415 entries, 0 to 50414\n",
      "Data columns (total 3 columns):\n",
      " #   Column   Non-Null Count  Dtype  \n",
      "---  ------   --------------  -----  \n",
      " 0   Buy Ts   50415 non-null  object \n",
      " 1   Revenue  50415 non-null  float64\n",
      " 2   Uid      50415 non-null  uint64 \n",
      "dtypes: float64(1), object(1), uint64(1)\n",
      "memory usage: 1.2+ MB\n"
     ]
    }
   ],
   "source": [
    "orders_logs.info()"
   ]
  },
  {
   "cell_type": "markdown",
   "metadata": {},
   "source": [
    "Checando valores ausentes e duplicatas:"
   ]
  },
  {
   "cell_type": "code",
   "execution_count": 10,
   "metadata": {},
   "outputs": [
    {
     "data": {
      "text/plain": [
       "Buy Ts     0\n",
       "Revenue    0\n",
       "Uid        0\n",
       "dtype: int64"
      ]
     },
     "execution_count": 10,
     "metadata": {},
     "output_type": "execute_result"
    }
   ],
   "source": [
    "orders_logs.isna().sum()"
   ]
  },
  {
   "cell_type": "code",
   "execution_count": 11,
   "metadata": {},
   "outputs": [
    {
     "data": {
      "text/plain": [
       "0"
      ]
     },
     "execution_count": 11,
     "metadata": {},
     "output_type": "execute_result"
    }
   ],
   "source": [
    "orders_logs.duplicated().sum()"
   ]
  },
  {
   "cell_type": "markdown",
   "metadata": {},
   "source": [
    "Analisando uma fatia do df:"
   ]
  },
  {
   "cell_type": "code",
   "execution_count": 12,
   "metadata": {},
   "outputs": [
    {
     "data": {
      "text/html": [
       "<div>\n",
       "<style scoped>\n",
       "    .dataframe tbody tr th:only-of-type {\n",
       "        vertical-align: middle;\n",
       "    }\n",
       "\n",
       "    .dataframe tbody tr th {\n",
       "        vertical-align: top;\n",
       "    }\n",
       "\n",
       "    .dataframe thead th {\n",
       "        text-align: right;\n",
       "    }\n",
       "</style>\n",
       "<table border=\"1\" class=\"dataframe\">\n",
       "  <thead>\n",
       "    <tr style=\"text-align: right;\">\n",
       "      <th></th>\n",
       "      <th>Buy Ts</th>\n",
       "      <th>Revenue</th>\n",
       "      <th>Uid</th>\n",
       "    </tr>\n",
       "  </thead>\n",
       "  <tbody>\n",
       "    <tr>\n",
       "      <th>0</th>\n",
       "      <td>2017-06-01 00:10:00</td>\n",
       "      <td>17.00</td>\n",
       "      <td>10329302124590727494</td>\n",
       "    </tr>\n",
       "    <tr>\n",
       "      <th>1</th>\n",
       "      <td>2017-06-01 00:25:00</td>\n",
       "      <td>0.55</td>\n",
       "      <td>11627257723692907447</td>\n",
       "    </tr>\n",
       "    <tr>\n",
       "      <th>2</th>\n",
       "      <td>2017-06-01 00:27:00</td>\n",
       "      <td>0.37</td>\n",
       "      <td>17903680561304213844</td>\n",
       "    </tr>\n",
       "    <tr>\n",
       "      <th>3</th>\n",
       "      <td>2017-06-01 00:29:00</td>\n",
       "      <td>0.55</td>\n",
       "      <td>16109239769442553005</td>\n",
       "    </tr>\n",
       "    <tr>\n",
       "      <th>4</th>\n",
       "      <td>2017-06-01 07:58:00</td>\n",
       "      <td>0.37</td>\n",
       "      <td>14200605875248379450</td>\n",
       "    </tr>\n",
       "    <tr>\n",
       "      <th>5</th>\n",
       "      <td>2017-06-01 08:43:00</td>\n",
       "      <td>0.18</td>\n",
       "      <td>10402394430196413321</td>\n",
       "    </tr>\n",
       "    <tr>\n",
       "      <th>6</th>\n",
       "      <td>2017-06-01 08:54:00</td>\n",
       "      <td>1.83</td>\n",
       "      <td>12464626743129688638</td>\n",
       "    </tr>\n",
       "    <tr>\n",
       "      <th>7</th>\n",
       "      <td>2017-06-01 09:22:00</td>\n",
       "      <td>1.22</td>\n",
       "      <td>3644482766749211722</td>\n",
       "    </tr>\n",
       "    <tr>\n",
       "      <th>8</th>\n",
       "      <td>2017-06-01 09:22:00</td>\n",
       "      <td>3.30</td>\n",
       "      <td>17542070709969841479</td>\n",
       "    </tr>\n",
       "    <tr>\n",
       "      <th>9</th>\n",
       "      <td>2017-06-01 09:23:00</td>\n",
       "      <td>0.37</td>\n",
       "      <td>1074355127080856382</td>\n",
       "    </tr>\n",
       "    <tr>\n",
       "      <th>10</th>\n",
       "      <td>2017-06-01 09:58:00</td>\n",
       "      <td>2.81</td>\n",
       "      <td>12888070354554424008</td>\n",
       "    </tr>\n",
       "    <tr>\n",
       "      <th>11</th>\n",
       "      <td>2017-06-01 10:27:00</td>\n",
       "      <td>1.22</td>\n",
       "      <td>4409266971612110231</td>\n",
       "    </tr>\n",
       "    <tr>\n",
       "      <th>12</th>\n",
       "      <td>2017-06-01 10:33:00</td>\n",
       "      <td>9.78</td>\n",
       "      <td>8635489015105716934</td>\n",
       "    </tr>\n",
       "    <tr>\n",
       "      <th>13</th>\n",
       "      <td>2017-06-01 10:38:00</td>\n",
       "      <td>1.83</td>\n",
       "      <td>8995168848618027177</td>\n",
       "    </tr>\n",
       "    <tr>\n",
       "      <th>14</th>\n",
       "      <td>2017-06-01 10:38:00</td>\n",
       "      <td>2.08</td>\n",
       "      <td>2050423809815667474</td>\n",
       "    </tr>\n",
       "    <tr>\n",
       "      <th>15</th>\n",
       "      <td>2017-06-01 10:43:00</td>\n",
       "      <td>4.15</td>\n",
       "      <td>18335282082749800806</td>\n",
       "    </tr>\n",
       "    <tr>\n",
       "      <th>16</th>\n",
       "      <td>2017-06-01 10:49:00</td>\n",
       "      <td>7.33</td>\n",
       "      <td>9454788256069675152</td>\n",
       "    </tr>\n",
       "    <tr>\n",
       "      <th>17</th>\n",
       "      <td>2017-06-01 10:58:00</td>\n",
       "      <td>3.73</td>\n",
       "      <td>11062788618907079633</td>\n",
       "    </tr>\n",
       "    <tr>\n",
       "      <th>18</th>\n",
       "      <td>2017-06-01 11:01:00</td>\n",
       "      <td>1.67</td>\n",
       "      <td>6481195116107172636</td>\n",
       "    </tr>\n",
       "    <tr>\n",
       "      <th>19</th>\n",
       "      <td>2017-06-01 11:06:00</td>\n",
       "      <td>0.49</td>\n",
       "      <td>7161516173674142289</td>\n",
       "    </tr>\n",
       "  </tbody>\n",
       "</table>\n",
       "</div>"
      ],
      "text/plain": [
       "                 Buy Ts  Revenue                   Uid\n",
       "0   2017-06-01 00:10:00    17.00  10329302124590727494\n",
       "1   2017-06-01 00:25:00     0.55  11627257723692907447\n",
       "2   2017-06-01 00:27:00     0.37  17903680561304213844\n",
       "3   2017-06-01 00:29:00     0.55  16109239769442553005\n",
       "4   2017-06-01 07:58:00     0.37  14200605875248379450\n",
       "5   2017-06-01 08:43:00     0.18  10402394430196413321\n",
       "6   2017-06-01 08:54:00     1.83  12464626743129688638\n",
       "7   2017-06-01 09:22:00     1.22   3644482766749211722\n",
       "8   2017-06-01 09:22:00     3.30  17542070709969841479\n",
       "9   2017-06-01 09:23:00     0.37   1074355127080856382\n",
       "10  2017-06-01 09:58:00     2.81  12888070354554424008\n",
       "11  2017-06-01 10:27:00     1.22   4409266971612110231\n",
       "12  2017-06-01 10:33:00     9.78   8635489015105716934\n",
       "13  2017-06-01 10:38:00     1.83   8995168848618027177\n",
       "14  2017-06-01 10:38:00     2.08   2050423809815667474\n",
       "15  2017-06-01 10:43:00     4.15  18335282082749800806\n",
       "16  2017-06-01 10:49:00     7.33   9454788256069675152\n",
       "17  2017-06-01 10:58:00     3.73  11062788618907079633\n",
       "18  2017-06-01 11:01:00     1.67   6481195116107172636\n",
       "19  2017-06-01 11:06:00     0.49   7161516173674142289"
      ]
     },
     "execution_count": 12,
     "metadata": {},
     "output_type": "execute_result"
    }
   ],
   "source": [
    "orders_logs.head(20)"
   ]
  },
  {
   "cell_type": "markdown",
   "metadata": {},
   "source": [
    "Resultados da primeira análise:\n",
    "\n",
    "1) Novamente os nomes de todas as colunas estão em maiúsculo e com ' '. Vamos adicionar um '_'.\n",
    "\n",
    "2) Com relação aos tipos de dados das colunas:\n",
    "   - Buy Ts: é uma data, então precisa ser convertidas pra um tipo datetime. \n",
    "    \n",
    "3) Não encontramos valores ausentes nem duplicatas."
   ]
  },
  {
   "cell_type": "code",
   "execution_count": 13,
   "metadata": {},
   "outputs": [
    {
     "data": {
      "text/plain": [
       "Index(['buy_ts', 'revenue', 'uid'], dtype='object')"
      ]
     },
     "execution_count": 13,
     "metadata": {},
     "output_type": "execute_result"
    }
   ],
   "source": [
    "orders_logs = orders_logs.rename(columns = str.lower)\n",
    "orders_logs = orders_logs.rename(columns={'buy ts': 'buy_ts'})\n",
    "orders_logs.columns"
   ]
  },
  {
   "cell_type": "code",
   "execution_count": 14,
   "metadata": {},
   "outputs": [
    {
     "name": "stdout",
     "output_type": "stream",
     "text": [
      "<class 'pandas.core.frame.DataFrame'>\n",
      "RangeIndex: 50415 entries, 0 to 50414\n",
      "Data columns (total 3 columns):\n",
      " #   Column   Non-Null Count  Dtype         \n",
      "---  ------   --------------  -----         \n",
      " 0   buy_ts   50415 non-null  datetime64[ns]\n",
      " 1   revenue  50415 non-null  float64       \n",
      " 2   uid      50415 non-null  uint64        \n",
      "dtypes: datetime64[ns](1), float64(1), uint64(1)\n",
      "memory usage: 1.2 MB\n"
     ]
    }
   ],
   "source": [
    "orders_logs['buy_ts'] = pd.to_datetime(orders_logs['buy_ts'], format='%Y-%m-%d %H:%M:%S')\n",
    "orders_logs.info()"
   ]
  },
  {
   "cell_type": "markdown",
   "metadata": {},
   "source": [
    "Conclusão: corrigi os nomes das colunas mudando o formato para todas letras minúsculas e adicionando '_' nas colunas que possuiam ' '. Além disso, realizei a conversão da coluna de data para o tipo datetime."
   ]
  },
  {
   "cell_type": "markdown",
   "metadata": {},
   "source": [
    "# 2.2.1.3 Analisando o dataframe 'costs_logs'"
   ]
  },
  {
   "cell_type": "code",
   "execution_count": 15,
   "metadata": {},
   "outputs": [
    {
     "name": "stdout",
     "output_type": "stream",
     "text": [
      "<class 'pandas.core.frame.DataFrame'>\n",
      "RangeIndex: 2542 entries, 0 to 2541\n",
      "Data columns (total 3 columns):\n",
      " #   Column     Non-Null Count  Dtype  \n",
      "---  ------     --------------  -----  \n",
      " 0   source_id  2542 non-null   int64  \n",
      " 1   dt         2542 non-null   object \n",
      " 2   costs      2542 non-null   float64\n",
      "dtypes: float64(1), int64(1), object(1)\n",
      "memory usage: 59.7+ KB\n"
     ]
    }
   ],
   "source": [
    "costs_logs.info()"
   ]
  },
  {
   "cell_type": "markdown",
   "metadata": {},
   "source": [
    "Checando valores ausentes e duplicatas:"
   ]
  },
  {
   "cell_type": "code",
   "execution_count": 16,
   "metadata": {},
   "outputs": [
    {
     "data": {
      "text/plain": [
       "source_id    0\n",
       "dt           0\n",
       "costs        0\n",
       "dtype: int64"
      ]
     },
     "execution_count": 16,
     "metadata": {},
     "output_type": "execute_result"
    }
   ],
   "source": [
    "costs_logs.isna().sum()"
   ]
  },
  {
   "cell_type": "code",
   "execution_count": 17,
   "metadata": {},
   "outputs": [
    {
     "data": {
      "text/plain": [
       "0"
      ]
     },
     "execution_count": 17,
     "metadata": {},
     "output_type": "execute_result"
    }
   ],
   "source": [
    "costs_logs.duplicated().sum()"
   ]
  },
  {
   "cell_type": "markdown",
   "metadata": {},
   "source": [
    "Analisando uma fatia do df:"
   ]
  },
  {
   "cell_type": "code",
   "execution_count": 18,
   "metadata": {},
   "outputs": [
    {
     "data": {
      "text/html": [
       "<div>\n",
       "<style scoped>\n",
       "    .dataframe tbody tr th:only-of-type {\n",
       "        vertical-align: middle;\n",
       "    }\n",
       "\n",
       "    .dataframe tbody tr th {\n",
       "        vertical-align: top;\n",
       "    }\n",
       "\n",
       "    .dataframe thead th {\n",
       "        text-align: right;\n",
       "    }\n",
       "</style>\n",
       "<table border=\"1\" class=\"dataframe\">\n",
       "  <thead>\n",
       "    <tr style=\"text-align: right;\">\n",
       "      <th></th>\n",
       "      <th>source_id</th>\n",
       "      <th>dt</th>\n",
       "      <th>costs</th>\n",
       "    </tr>\n",
       "  </thead>\n",
       "  <tbody>\n",
       "    <tr>\n",
       "      <th>0</th>\n",
       "      <td>1</td>\n",
       "      <td>2017-06-01</td>\n",
       "      <td>75.20</td>\n",
       "    </tr>\n",
       "    <tr>\n",
       "      <th>1</th>\n",
       "      <td>1</td>\n",
       "      <td>2017-06-02</td>\n",
       "      <td>62.25</td>\n",
       "    </tr>\n",
       "    <tr>\n",
       "      <th>2</th>\n",
       "      <td>1</td>\n",
       "      <td>2017-06-03</td>\n",
       "      <td>36.53</td>\n",
       "    </tr>\n",
       "    <tr>\n",
       "      <th>3</th>\n",
       "      <td>1</td>\n",
       "      <td>2017-06-04</td>\n",
       "      <td>55.00</td>\n",
       "    </tr>\n",
       "    <tr>\n",
       "      <th>4</th>\n",
       "      <td>1</td>\n",
       "      <td>2017-06-05</td>\n",
       "      <td>57.08</td>\n",
       "    </tr>\n",
       "    <tr>\n",
       "      <th>5</th>\n",
       "      <td>1</td>\n",
       "      <td>2017-06-06</td>\n",
       "      <td>40.39</td>\n",
       "    </tr>\n",
       "    <tr>\n",
       "      <th>6</th>\n",
       "      <td>1</td>\n",
       "      <td>2017-06-07</td>\n",
       "      <td>40.59</td>\n",
       "    </tr>\n",
       "    <tr>\n",
       "      <th>7</th>\n",
       "      <td>1</td>\n",
       "      <td>2017-06-08</td>\n",
       "      <td>56.63</td>\n",
       "    </tr>\n",
       "    <tr>\n",
       "      <th>8</th>\n",
       "      <td>1</td>\n",
       "      <td>2017-06-09</td>\n",
       "      <td>40.16</td>\n",
       "    </tr>\n",
       "    <tr>\n",
       "      <th>9</th>\n",
       "      <td>1</td>\n",
       "      <td>2017-06-10</td>\n",
       "      <td>43.24</td>\n",
       "    </tr>\n",
       "    <tr>\n",
       "      <th>10</th>\n",
       "      <td>1</td>\n",
       "      <td>2017-06-11</td>\n",
       "      <td>21.68</td>\n",
       "    </tr>\n",
       "    <tr>\n",
       "      <th>11</th>\n",
       "      <td>1</td>\n",
       "      <td>2017-06-12</td>\n",
       "      <td>27.48</td>\n",
       "    </tr>\n",
       "    <tr>\n",
       "      <th>12</th>\n",
       "      <td>1</td>\n",
       "      <td>2017-06-13</td>\n",
       "      <td>44.66</td>\n",
       "    </tr>\n",
       "    <tr>\n",
       "      <th>13</th>\n",
       "      <td>1</td>\n",
       "      <td>2017-06-14</td>\n",
       "      <td>30.70</td>\n",
       "    </tr>\n",
       "    <tr>\n",
       "      <th>14</th>\n",
       "      <td>1</td>\n",
       "      <td>2017-06-15</td>\n",
       "      <td>39.71</td>\n",
       "    </tr>\n",
       "    <tr>\n",
       "      <th>15</th>\n",
       "      <td>1</td>\n",
       "      <td>2017-06-16</td>\n",
       "      <td>39.10</td>\n",
       "    </tr>\n",
       "    <tr>\n",
       "      <th>16</th>\n",
       "      <td>1</td>\n",
       "      <td>2017-06-17</td>\n",
       "      <td>21.41</td>\n",
       "    </tr>\n",
       "    <tr>\n",
       "      <th>17</th>\n",
       "      <td>1</td>\n",
       "      <td>2017-06-18</td>\n",
       "      <td>50.04</td>\n",
       "    </tr>\n",
       "    <tr>\n",
       "      <th>18</th>\n",
       "      <td>1</td>\n",
       "      <td>2017-06-19</td>\n",
       "      <td>25.08</td>\n",
       "    </tr>\n",
       "    <tr>\n",
       "      <th>19</th>\n",
       "      <td>1</td>\n",
       "      <td>2017-06-20</td>\n",
       "      <td>25.37</td>\n",
       "    </tr>\n",
       "  </tbody>\n",
       "</table>\n",
       "</div>"
      ],
      "text/plain": [
       "    source_id          dt  costs\n",
       "0           1  2017-06-01  75.20\n",
       "1           1  2017-06-02  62.25\n",
       "2           1  2017-06-03  36.53\n",
       "3           1  2017-06-04  55.00\n",
       "4           1  2017-06-05  57.08\n",
       "5           1  2017-06-06  40.39\n",
       "6           1  2017-06-07  40.59\n",
       "7           1  2017-06-08  56.63\n",
       "8           1  2017-06-09  40.16\n",
       "9           1  2017-06-10  43.24\n",
       "10          1  2017-06-11  21.68\n",
       "11          1  2017-06-12  27.48\n",
       "12          1  2017-06-13  44.66\n",
       "13          1  2017-06-14  30.70\n",
       "14          1  2017-06-15  39.71\n",
       "15          1  2017-06-16  39.10\n",
       "16          1  2017-06-17  21.41\n",
       "17          1  2017-06-18  50.04\n",
       "18          1  2017-06-19  25.08\n",
       "19          1  2017-06-20  25.37"
      ]
     },
     "execution_count": 18,
     "metadata": {},
     "output_type": "execute_result"
    }
   ],
   "source": [
    "costs_logs.head(20)"
   ]
  },
  {
   "cell_type": "markdown",
   "metadata": {},
   "source": [
    "Resultados da primeira análise:\n",
    "\n",
    "1) Dessa vez os nomes das colunas estão todos adequados\n",
    "\n",
    "2) Com relação aos tipos de dados das colunas:\n",
    "   - dt: é uma data, então precisa ser convertidas pra um tipo datetime. \n",
    "    \n",
    "3) Não encontramos valores ausentes nem duplicatas."
   ]
  },
  {
   "cell_type": "code",
   "execution_count": 19,
   "metadata": {},
   "outputs": [
    {
     "name": "stdout",
     "output_type": "stream",
     "text": [
      "<class 'pandas.core.frame.DataFrame'>\n",
      "RangeIndex: 2542 entries, 0 to 2541\n",
      "Data columns (total 3 columns):\n",
      " #   Column     Non-Null Count  Dtype         \n",
      "---  ------     --------------  -----         \n",
      " 0   source_id  2542 non-null   int64         \n",
      " 1   dt         2542 non-null   datetime64[ns]\n",
      " 2   costs      2542 non-null   float64       \n",
      "dtypes: datetime64[ns](1), float64(1), int64(1)\n",
      "memory usage: 59.7 KB\n"
     ]
    }
   ],
   "source": [
    "costs_logs['dt'] = pd.to_datetime(costs_logs['dt'], format='%Y-%m-%d %H:%M:%S')\n",
    "costs_logs.info()"
   ]
  },
  {
   "cell_type": "markdown",
   "metadata": {},
   "source": [
    "Conclusão: modifiquei o tipo de dado da coluna dt para datetime."
   ]
  },
  {
   "cell_type": "markdown",
   "metadata": {},
   "source": [
    "# 3.1 Analisando produtos, vendas e marketing"
   ]
  },
  {
   "cell_type": "markdown",
   "metadata": {},
   "source": [
    "# 3.1.1 Analisando os visitantes"
   ]
  },
  {
   "cell_type": "markdown",
   "metadata": {},
   "source": [
    "# 3.1.1.1 Quantidade de Acessos, DAU/WAU/MAU e Taxa de Retenção"
   ]
  },
  {
   "cell_type": "markdown",
   "metadata": {},
   "source": [
    "Recapitulando, temos os dataframes de 3 logs:\n",
    "\n",
    "    - Visitantes (visits_logs): que mostra o acesso e tempo de permanência de cada usuário, além do anúncio que direcionou o usuário pro site\n",
    "    - Orders (orders_logs): mostra a data e o horário dos pedidos dos clientes e a receita de cada pedido\n",
    "    - Custos (costs_logs): mostra o custo que tivemos com cada tipo de anúnio em cada dia"
   ]
  },
  {
   "cell_type": "markdown",
   "metadata": {},
   "source": [
    "Primeiramente, vou encontrar a quantidade de acessos. Como uma mesma pessoa pode acessar mais de uma vez no dia, vou primeiro fazer uma checagem diária, semanal e mensal de usuários únicos, e depois farei uma checagem sem distinção mas somente para os dias."
   ]
  },
  {
   "cell_type": "code",
   "execution_count": 20,
   "metadata": {},
   "outputs": [
    {
     "name": "stdout",
     "output_type": "stream",
     "text": [
      "A média de acessos únicos diários é: 907.9917582417582\n",
      "A média de acessos únicos semanais é: 5716.245283018868\n",
      "A média de acessos únicos mensais é: 23228.416666666668\n",
      "A média de acessos diários é: 987.3626373626373\n"
     ]
    }
   ],
   "source": [
    "dau = visits_logs.groupby(visits_logs['start_ts'].dt.date)['uid'].nunique()\n",
    "wau = visits_logs.groupby(visits_logs['start_ts'].dt.to_period('W'))['uid'].nunique()\n",
    "mau = visits_logs.groupby(visits_logs['start_ts'].dt.to_period('M'))['uid'].nunique()\n",
    "daily_users = visits_logs.groupby(visits_logs['start_ts'].dt.date)['uid'].count()\n",
    "\n",
    "\n",
    "print(f'A média de acessos únicos diários é: {dau.mean()}')\n",
    "print(f'A média de acessos únicos semanais é: {wau.mean()}')\n",
    "print(f'A média de acessos únicos mensais é: {mau.mean()}')\n",
    "print(f'A média de acessos diários é: {daily_users.mean()}')\n"
   ]
  },
  {
   "cell_type": "markdown",
   "metadata": {},
   "source": [
    "Considerando somente acessos unívocos, a média de acessos não é constante por dia. Se fosse, a média mensal teria que ser próxima de 908 * 30 (acessos diários * dias do mês). \n",
    "Porém, considerando os acessos diários não-unívocos vemos que existe uma reincidência dos mesmos IDs em um mesmo dia, mostrando que os usuários podem acessar várias vezes em um dia só.\n",
    "\n",
    "Esses valores são as métricas DAU, WAU e MAU (Daily/Weekly/Monthly Active User). A partir delas vamos encontrar as taxas de retenção."
   ]
  },
  {
   "cell_type": "code",
   "execution_count": 21,
   "metadata": {},
   "outputs": [
    {
     "name": "stdout",
     "output_type": "stream",
     "text": [
      "15.88440861589881\n",
      "3.908969652437603\n"
     ]
    }
   ],
   "source": [
    "week_retention_rate = dau.mean()/wau.mean()*100\n",
    "month_retention_rate = dau.mean()/mau.mean()*100\n",
    "print(week_retention_rate)\n",
    "print(month_retention_rate)"
   ]
  },
  {
   "cell_type": "markdown",
   "metadata": {},
   "source": [
    "A taxa de retenção de clientes unívocos é semanal é de 15%, enquanto a mensal é de quase 4%. Não é muito alta, então é algo que podemos ficar atentos e que pode ser melhorada."
   ]
  },
  {
   "cell_type": "markdown",
   "metadata": {},
   "source": [
    "# 3.1.1.2 Duração do Acesso (ASL)"
   ]
  },
  {
   "cell_type": "markdown",
   "metadata": {},
   "source": [
    "Vou descobrir quanto tempo os visitantes passam dentro do produto e vamos visualizar com um gráfico:"
   ]
  },
  {
   "cell_type": "code",
   "execution_count": 22,
   "metadata": {},
   "outputs": [],
   "source": [
    "visits_logs['session_duration_secs'] = (visits_logs['end_ts'] - visits_logs['start_ts']).dt.seconds"
   ]
  },
  {
   "cell_type": "code",
   "execution_count": 23,
   "metadata": {},
   "outputs": [
    {
     "data": {
      "image/png": "[encoded data removed]",
      "text/plain": [
       "<Figure size 432x288 with 1 Axes>"
      ]
     },
     "metadata": {
      "needs_background": "light"
     },
     "output_type": "display_data"
    }
   ],
   "source": [
    "plt.hist(visits_logs['session_duration_secs'], bins=100, color='skyblue')\n",
    "plt.xlabel('Duração da Sessão (segundos)')\n",
    "plt.ylabel('Frequência')\n",
    "plt.title('Histograma de Duração das Sessões')\n",
    "plt.show()"
   ]
  },
  {
   "cell_type": "markdown",
   "metadata": {},
   "source": [
    "A distribuição não segue uma distribuição normal, então não podemos utilizar a média pra encontrar um valor padronizado pra duração de cada sessão. Nesse caso então usaremos a moda."
   ]
  },
  {
   "cell_type": "code",
   "execution_count": 24,
   "metadata": {},
   "outputs": [
    {
     "name": "stdout",
     "output_type": "stream",
     "text": [
      "0    60\n",
      "dtype: int64\n"
     ]
    }
   ],
   "source": [
    "asl = visits_logs['session_duration_secs'].mode()\n",
    "print(asl)"
   ]
  },
  {
   "cell_type": "markdown",
   "metadata": {},
   "source": [
    "Então grande parte dos usuários passam 60 segundos no produto!"
   ]
  },
  {
   "cell_type": "markdown",
   "metadata": {},
   "source": [
    "# 3.1.1.3 Retorno dos Usuários"
   ]
  },
  {
   "cell_type": "markdown",
   "metadata": {},
   "source": [
    "Vamos encontrar agora a frequência de retorno dos usuários."
   ]
  },
  {
   "cell_type": "code",
   "execution_count": 25,
   "metadata": {},
   "outputs": [
    {
     "name": "stdout",
     "output_type": "stream",
     "text": [
      "2      30926\n",
      "3      10184\n",
      "4       4357\n",
      "5       2283\n",
      "6       1243\n",
      "       ...  \n",
      "343        1\n",
      "357        1\n",
      "551        1\n",
      "615        1\n",
      "893        1\n",
      "Name: uid, Length: 144, dtype: int64\n"
     ]
    }
   ],
   "source": [
    "repeated = visits_logs['uid'][visits_logs['uid'].duplicated(keep=False)]\n",
    "repeated_uids = visits_logs[visits_logs['uid'].isin(repeated)]\n",
    "print((repeated_uids['uid'].value_counts()).value_counts().sort_index())"
   ]
  },
  {
   "cell_type": "markdown",
   "metadata": {},
   "source": [
    "Essas são quantas vezes os usuários retornaram. Existem usuários que voltaram muitas vezes, mas 80% dos usuários voltaram uma ou duas vezes. \n",
    "\n",
    "Pra encontrar então a frequência de retorno, é mais vantajoso investigarmos o tempo que levou para cada uid retornar entre o primeiro e o segundo acesso, e entre o segundo e o terceiro acesso."
   ]
  },
  {
   "cell_type": "code",
   "execution_count": 26,
   "metadata": {},
   "outputs": [
    {
     "name": "stdout",
     "output_type": "stream",
     "text": [
      "35 days 04:37:39.656998158\n",
      "0 days 13:06:33.053485520\n"
     ]
    }
   ],
   "source": [
    "first_access = repeated_uids.groupby('uid')['start_ts'].min()\n",
    "second_access = repeated_uids.groupby('uid')['start_ts'].nth(1)\n",
    "third_access = repeated_uids.groupby('uid')['start_ts'].nth(2)\n",
    "print((second_access - first_access).mean())\n",
    "print((third_access - second_access).mean())\n"
   ]
  },
  {
   "cell_type": "markdown",
   "metadata": {},
   "source": [
    "O intervalo de tempo entre o primeiro acesso e o segundo é, em média, de 35 dias. \n",
    "Enquanto isso, a média de acesso entre o segundo acesso e o terceiro é de apenas horas. Isso pode apontar alguma anomalia no produto.  "
   ]
  },
  {
   "cell_type": "markdown",
   "metadata": {},
   "source": [
    "# 3.1.2 Analisando os pedidos"
   ]
  },
  {
   "cell_type": "markdown",
   "metadata": {},
   "source": [
    "# 3.1.2.1 Tempo de Conversão"
   ]
  },
  {
   "cell_type": "markdown",
   "metadata": {},
   "source": [
    "Vamos ter uma visão novamente dos logs de pedidos"
   ]
  },
  {
   "cell_type": "code",
   "execution_count": 27,
   "metadata": {},
   "outputs": [
    {
     "data": {
      "text/html": [
       "<div>\n",
       "<style scoped>\n",
       "    .dataframe tbody tr th:only-of-type {\n",
       "        vertical-align: middle;\n",
       "    }\n",
       "\n",
       "    .dataframe tbody tr th {\n",
       "        vertical-align: top;\n",
       "    }\n",
       "\n",
       "    .dataframe thead th {\n",
       "        text-align: right;\n",
       "    }\n",
       "</style>\n",
       "<table border=\"1\" class=\"dataframe\">\n",
       "  <thead>\n",
       "    <tr style=\"text-align: right;\">\n",
       "      <th></th>\n",
       "      <th>buy_ts</th>\n",
       "      <th>revenue</th>\n",
       "      <th>uid</th>\n",
       "    </tr>\n",
       "  </thead>\n",
       "  <tbody>\n",
       "    <tr>\n",
       "      <th>0</th>\n",
       "      <td>2017-06-01 00:10:00</td>\n",
       "      <td>17.00</td>\n",
       "      <td>10329302124590727494</td>\n",
       "    </tr>\n",
       "    <tr>\n",
       "      <th>1</th>\n",
       "      <td>2017-06-01 00:25:00</td>\n",
       "      <td>0.55</td>\n",
       "      <td>11627257723692907447</td>\n",
       "    </tr>\n",
       "    <tr>\n",
       "      <th>2</th>\n",
       "      <td>2017-06-01 00:27:00</td>\n",
       "      <td>0.37</td>\n",
       "      <td>17903680561304213844</td>\n",
       "    </tr>\n",
       "    <tr>\n",
       "      <th>3</th>\n",
       "      <td>2017-06-01 00:29:00</td>\n",
       "      <td>0.55</td>\n",
       "      <td>16109239769442553005</td>\n",
       "    </tr>\n",
       "    <tr>\n",
       "      <th>4</th>\n",
       "      <td>2017-06-01 07:58:00</td>\n",
       "      <td>0.37</td>\n",
       "      <td>14200605875248379450</td>\n",
       "    </tr>\n",
       "  </tbody>\n",
       "</table>\n",
       "</div>"
      ],
      "text/plain": [
       "               buy_ts  revenue                   uid\n",
       "0 2017-06-01 00:10:00    17.00  10329302124590727494\n",
       "1 2017-06-01 00:25:00     0.55  11627257723692907447\n",
       "2 2017-06-01 00:27:00     0.37  17903680561304213844\n",
       "3 2017-06-01 00:29:00     0.55  16109239769442553005\n",
       "4 2017-06-01 07:58:00     0.37  14200605875248379450"
      ]
     },
     "execution_count": 27,
     "metadata": {},
     "output_type": "execute_result"
    }
   ],
   "source": [
    "orders_logs.head()"
   ]
  },
  {
   "cell_type": "markdown",
   "metadata": {},
   "source": [
    "Tenho certeza que todos uid presentes na tabela de orders_logs estão presente na tabela visits_logs. Ninguém pode realizar o pedido sem antes realizar o acesso. Para essa análise vamos remover os acessos duplicados. É importante focar na primeira venda  e depois analisamos os retornos."
   ]
  },
  {
   "cell_type": "code",
   "execution_count": 28,
   "metadata": {},
   "outputs": [
    {
     "data": {
      "text/html": [
       "<div>\n",
       "<style scoped>\n",
       "    .dataframe tbody tr th:only-of-type {\n",
       "        vertical-align: middle;\n",
       "    }\n",
       "\n",
       "    .dataframe tbody tr th {\n",
       "        vertical-align: top;\n",
       "    }\n",
       "\n",
       "    .dataframe thead th {\n",
       "        text-align: right;\n",
       "    }\n",
       "</style>\n",
       "<table border=\"1\" class=\"dataframe\">\n",
       "  <thead>\n",
       "    <tr style=\"text-align: right;\">\n",
       "      <th></th>\n",
       "      <th>buy_ts</th>\n",
       "      <th>revenue</th>\n",
       "      <th>uid</th>\n",
       "      <th>device</th>\n",
       "      <th>end_ts</th>\n",
       "      <th>source_id</th>\n",
       "      <th>start_ts</th>\n",
       "      <th>session_duration_secs</th>\n",
       "    </tr>\n",
       "  </thead>\n",
       "  <tbody>\n",
       "    <tr>\n",
       "      <th>0</th>\n",
       "      <td>2017-06-01 00:10:00</td>\n",
       "      <td>17.00</td>\n",
       "      <td>10329302124590727494</td>\n",
       "      <td>desktop</td>\n",
       "      <td>2017-06-01 00:11:00</td>\n",
       "      <td>1</td>\n",
       "      <td>2017-06-01 00:09:00</td>\n",
       "      <td>120</td>\n",
       "    </tr>\n",
       "    <tr>\n",
       "      <th>1</th>\n",
       "      <td>2017-06-01 00:25:00</td>\n",
       "      <td>0.55</td>\n",
       "      <td>11627257723692907447</td>\n",
       "      <td>desktop</td>\n",
       "      <td>2017-06-01 00:25:00</td>\n",
       "      <td>2</td>\n",
       "      <td>2017-06-01 00:14:00</td>\n",
       "      <td>660</td>\n",
       "    </tr>\n",
       "    <tr>\n",
       "      <th>2</th>\n",
       "      <td>2017-06-01 00:27:00</td>\n",
       "      <td>0.37</td>\n",
       "      <td>17903680561304213844</td>\n",
       "      <td>desktop</td>\n",
       "      <td>2017-06-01 00:34:00</td>\n",
       "      <td>2</td>\n",
       "      <td>2017-06-01 00:25:00</td>\n",
       "      <td>540</td>\n",
       "    </tr>\n",
       "    <tr>\n",
       "      <th>3</th>\n",
       "      <td>2017-06-01 00:29:00</td>\n",
       "      <td>0.55</td>\n",
       "      <td>16109239769442553005</td>\n",
       "      <td>desktop</td>\n",
       "      <td>2017-06-01 00:33:00</td>\n",
       "      <td>2</td>\n",
       "      <td>2017-06-01 00:14:00</td>\n",
       "      <td>1140</td>\n",
       "    </tr>\n",
       "    <tr>\n",
       "      <th>4</th>\n",
       "      <td>2017-06-01 07:58:00</td>\n",
       "      <td>0.37</td>\n",
       "      <td>14200605875248379450</td>\n",
       "      <td>desktop</td>\n",
       "      <td>2017-06-01 07:59:00</td>\n",
       "      <td>3</td>\n",
       "      <td>2017-06-01 07:31:00</td>\n",
       "      <td>1680</td>\n",
       "    </tr>\n",
       "    <tr>\n",
       "      <th>...</th>\n",
       "      <td>...</td>\n",
       "      <td>...</td>\n",
       "      <td>...</td>\n",
       "      <td>...</td>\n",
       "      <td>...</td>\n",
       "      <td>...</td>\n",
       "      <td>...</td>\n",
       "      <td>...</td>\n",
       "    </tr>\n",
       "    <tr>\n",
       "      <th>36518</th>\n",
       "      <td>2018-05-31 23:50:00</td>\n",
       "      <td>4.64</td>\n",
       "      <td>12296626599487328624</td>\n",
       "      <td>desktop</td>\n",
       "      <td>2018-06-01 00:13:00</td>\n",
       "      <td>4</td>\n",
       "      <td>2018-05-31 23:46:00</td>\n",
       "      <td>1620</td>\n",
       "    </tr>\n",
       "    <tr>\n",
       "      <th>36519</th>\n",
       "      <td>2018-05-31 23:50:00</td>\n",
       "      <td>5.80</td>\n",
       "      <td>11369640365507475976</td>\n",
       "      <td>desktop</td>\n",
       "      <td>2018-05-31 23:55:00</td>\n",
       "      <td>10</td>\n",
       "      <td>2018-05-31 23:05:00</td>\n",
       "      <td>3000</td>\n",
       "    </tr>\n",
       "    <tr>\n",
       "      <th>36520</th>\n",
       "      <td>2018-05-31 23:54:00</td>\n",
       "      <td>0.30</td>\n",
       "      <td>1786462140797698849</td>\n",
       "      <td>desktop</td>\n",
       "      <td>2018-05-31 23:55:00</td>\n",
       "      <td>3</td>\n",
       "      <td>2018-05-31 23:52:00</td>\n",
       "      <td>180</td>\n",
       "    </tr>\n",
       "    <tr>\n",
       "      <th>36521</th>\n",
       "      <td>2018-05-31 23:56:00</td>\n",
       "      <td>3.67</td>\n",
       "      <td>3993697860786194247</td>\n",
       "      <td>desktop</td>\n",
       "      <td>2018-01-15 10:47:00</td>\n",
       "      <td>4</td>\n",
       "      <td>2018-01-15 10:39:00</td>\n",
       "      <td>480</td>\n",
       "    </tr>\n",
       "    <tr>\n",
       "      <th>36522</th>\n",
       "      <td>2018-06-01 00:02:00</td>\n",
       "      <td>3.42</td>\n",
       "      <td>83872787173869366</td>\n",
       "      <td>desktop</td>\n",
       "      <td>2018-06-01 00:04:00</td>\n",
       "      <td>4</td>\n",
       "      <td>2018-05-31 23:59:00</td>\n",
       "      <td>300</td>\n",
       "    </tr>\n",
       "  </tbody>\n",
       "</table>\n",
       "<p>36523 rows × 8 columns</p>\n",
       "</div>"
      ],
      "text/plain": [
       "                   buy_ts  revenue                   uid   device  \\\n",
       "0     2017-06-01 00:10:00    17.00  10329302124590727494  desktop   \n",
       "1     2017-06-01 00:25:00     0.55  11627257723692907447  desktop   \n",
       "2     2017-06-01 00:27:00     0.37  17903680561304213844  desktop   \n",
       "3     2017-06-01 00:29:00     0.55  16109239769442553005  desktop   \n",
       "4     2017-06-01 07:58:00     0.37  14200605875248379450  desktop   \n",
       "...                   ...      ...                   ...      ...   \n",
       "36518 2018-05-31 23:50:00     4.64  12296626599487328624  desktop   \n",
       "36519 2018-05-31 23:50:00     5.80  11369640365507475976  desktop   \n",
       "36520 2018-05-31 23:54:00     0.30   1786462140797698849  desktop   \n",
       "36521 2018-05-31 23:56:00     3.67   3993697860786194247  desktop   \n",
       "36522 2018-06-01 00:02:00     3.42     83872787173869366  desktop   \n",
       "\n",
       "                   end_ts  source_id            start_ts  \\\n",
       "0     2017-06-01 00:11:00          1 2017-06-01 00:09:00   \n",
       "1     2017-06-01 00:25:00          2 2017-06-01 00:14:00   \n",
       "2     2017-06-01 00:34:00          2 2017-06-01 00:25:00   \n",
       "3     2017-06-01 00:33:00          2 2017-06-01 00:14:00   \n",
       "4     2017-06-01 07:59:00          3 2017-06-01 07:31:00   \n",
       "...                   ...        ...                 ...   \n",
       "36518 2018-06-01 00:13:00          4 2018-05-31 23:46:00   \n",
       "36519 2018-05-31 23:55:00         10 2018-05-31 23:05:00   \n",
       "36520 2018-05-31 23:55:00          3 2018-05-31 23:52:00   \n",
       "36521 2018-01-15 10:47:00          4 2018-01-15 10:39:00   \n",
       "36522 2018-06-01 00:04:00          4 2018-05-31 23:59:00   \n",
       "\n",
       "       session_duration_secs  \n",
       "0                        120  \n",
       "1                        660  \n",
       "2                        540  \n",
       "3                       1140  \n",
       "4                       1680  \n",
       "...                      ...  \n",
       "36518                   1620  \n",
       "36519                   3000  \n",
       "36520                    180  \n",
       "36521                    480  \n",
       "36522                    300  \n",
       "\n",
       "[36523 rows x 8 columns]"
      ]
     },
     "execution_count": 28,
     "metadata": {},
     "output_type": "execute_result"
    }
   ],
   "source": [
    "orders_logs_unique = orders_logs.drop_duplicates(subset='uid')\n",
    "visits_logs_unique = visits_logs.drop_duplicates(subset='uid')\n",
    "\n",
    "correlated_logs = orders_logs_unique.merge(visits_logs_unique, on='uid', how='left')\n",
    "correlated_logs"
   ]
  },
  {
   "cell_type": "markdown",
   "metadata": {},
   "source": [
    "Perdemos cerca de 30% de vendas (50415 - 36523). Um valor relevante, mas vamos focar na primeira compra no momento."
   ]
  },
  {
   "cell_type": "code",
   "execution_count": 29,
   "metadata": {
    "scrolled": true
   },
   "outputs": [
    {
     "data": {
      "text/plain": [
       "1h                  28026\n",
       "more than 1 week     4021\n",
       "0d                   2700\n",
       "1w                   1137\n",
       "1d                    639\n",
       "Name: buy_category, dtype: int64"
      ]
     },
     "execution_count": 29,
     "metadata": {},
     "output_type": "execute_result"
    }
   ],
   "source": [
    "correlated_logs['time_between_access_and_purchase'] = (correlated_logs['buy_ts'] - correlated_logs['start_ts']).dt.total_seconds()\n",
    "\n",
    "conditions = [(correlated_logs['time_between_access_and_purchase'] <= 3600),  \n",
    "    ((correlated_logs['time_between_access_and_purchase'] > 3600) & (correlated_logs['time_between_access_and_purchase'] <= 86400)),  \n",
    "    ((correlated_logs['time_between_access_and_purchase'] > 86400) & (correlated_logs['time_between_access_and_purchase'] <= 172800)), \n",
    "    ((correlated_logs['time_between_access_and_purchase'] > 172800) & (correlated_logs['time_between_access_and_purchase'] <= 604800)),  \n",
    "    (correlated_logs['time_between_access_and_purchase'] > 604800)]\n",
    "              \n",
    "values = ['1h', '0d', '1d', '1w', 'more than 1 week']\n",
    "\n",
    "correlated_logs['buy_category'] = np.select(conditions, values, 'outro')\n",
    "correlated_logs['buy_category'].value_counts()"
   ]
  },
  {
   "cell_type": "code",
   "execution_count": 30,
   "metadata": {},
   "outputs": [
    {
     "data": {
      "image/png": "[encoded data removed]",
      "text/plain": [
       "<Figure size 720x432 with 1 Axes>"
      ]
     },
     "metadata": {
      "needs_background": "light"
     },
     "output_type": "display_data"
    }
   ],
   "source": [
    "category_counts = correlated_logs['buy_category'].value_counts()\n",
    "plt.figure(figsize=(10, 6))\n",
    "category_counts.plot(kind='bar', color='skyblue')\n",
    "plt.title('Tempo de conversão entre o registro e a compra')\n",
    "plt.xlabel('Intervalos de Tempo')\n",
    "plt.ylabel('Frequência')\n",
    "plt.xticks(rotation=45)\n",
    "plt.show()\n"
   ]
  },
  {
   "cell_type": "markdown",
   "metadata": {},
   "source": [
    "Então a grande maioria das pessoas finalizam a compra na primeira hora que acessam o serviço (28026). Lembrando que esse é o valor para o primeiro acesso. \n",
    "\n",
    "Com isso encontramos também quantos pedidos são realizados por coorte."
   ]
  },
  {
   "cell_type": "markdown",
   "metadata": {},
   "source": [
    "# 3.1.2.2 Volume médio de compras"
   ]
  },
  {
   "cell_type": "markdown",
   "metadata": {},
   "source": [
    "Podemos basear os valores de receita da média de compras para as compras unívocas ou para o montante total.\n",
    "\n",
    "Para usuários unívocos, temos:"
   ]
  },
  {
   "cell_type": "code",
   "execution_count": 31,
   "metadata": {},
   "outputs": [
    {
     "name": "stdout",
     "output_type": "stream",
     "text": [
      "4.140423021109986\n"
     ]
    }
   ],
   "source": [
    "print(correlated_logs['revenue'].mean())"
   ]
  },
  {
   "cell_type": "markdown",
   "metadata": {},
   "source": [
    "E para usuários que realizaram mais de uma compra:"
   ]
  },
  {
   "cell_type": "code",
   "execution_count": 32,
   "metadata": {},
   "outputs": [
    {
     "name": "stdout",
     "output_type": "stream",
     "text": [
      "4.999646930477041\n"
     ]
    }
   ],
   "source": [
    "print(orders_logs['revenue'].mean())"
   ]
  },
  {
   "cell_type": "markdown",
   "metadata": {},
   "source": [
    "Ou seja, a fatia de usuários que repetem a compra é significativa, pois aumenta o valor médio de cada compra. Então esses usuários constantes apresentam uma fatia importante do negócio."
   ]
  },
  {
   "cell_type": "markdown",
   "metadata": {},
   "source": [
    "# 3.1.2.3 Receita dos clientes (LTV)"
   ]
  },
  {
   "cell_type": "markdown",
   "metadata": {},
   "source": [
    "Os clientes que repetem compras impactam positivamente nossas finanças. Vamos encontrar quanto foi a receita de cada um desses clientes individualmente e comparar a soma dos clientes que fizeram uma única compra com os clientes que compram constantemente.\n",
    "\n",
    "Irei calcular o LTV, que é o lucro bruto dividido pelo número de clientes no período."
   ]
  },
  {
   "cell_type": "code",
   "execution_count": 33,
   "metadata": {},
   "outputs": [
    {
     "data": {
      "text/html": [
       "<div>\n",
       "<style scoped>\n",
       "    .dataframe tbody tr th:only-of-type {\n",
       "        vertical-align: middle;\n",
       "    }\n",
       "\n",
       "    .dataframe tbody tr th {\n",
       "        vertical-align: top;\n",
       "    }\n",
       "\n",
       "    .dataframe thead th {\n",
       "        text-align: right;\n",
       "    }\n",
       "</style>\n",
       "<table border=\"1\" class=\"dataframe\">\n",
       "  <thead>\n",
       "    <tr style=\"text-align: right;\">\n",
       "      <th></th>\n",
       "      <th>uid</th>\n",
       "      <th>revenue</th>\n",
       "    </tr>\n",
       "  </thead>\n",
       "  <tbody>\n",
       "    <tr>\n",
       "      <th>0</th>\n",
       "      <td>1575281904278712</td>\n",
       "      <td>3.05</td>\n",
       "    </tr>\n",
       "    <tr>\n",
       "      <th>1</th>\n",
       "      <td>2551852515556206</td>\n",
       "      <td>10.99</td>\n",
       "    </tr>\n",
       "    <tr>\n",
       "      <th>2</th>\n",
       "      <td>3605148382144603</td>\n",
       "      <td>0.69</td>\n",
       "    </tr>\n",
       "    <tr>\n",
       "      <th>3</th>\n",
       "      <td>9757981411973753</td>\n",
       "      <td>8.80</td>\n",
       "    </tr>\n",
       "    <tr>\n",
       "      <th>4</th>\n",
       "      <td>12695041396440380</td>\n",
       "      <td>14.66</td>\n",
       "    </tr>\n",
       "    <tr>\n",
       "      <th>...</th>\n",
       "      <td>...</td>\n",
       "      <td>...</td>\n",
       "    </tr>\n",
       "    <tr>\n",
       "      <th>6287</th>\n",
       "      <td>18433282115640022096</td>\n",
       "      <td>33.85</td>\n",
       "    </tr>\n",
       "    <tr>\n",
       "      <th>6288</th>\n",
       "      <td>18433518600992672269</td>\n",
       "      <td>10.25</td>\n",
       "    </tr>\n",
       "    <tr>\n",
       "      <th>6289</th>\n",
       "      <td>18433668464649487724</td>\n",
       "      <td>2.44</td>\n",
       "    </tr>\n",
       "    <tr>\n",
       "      <th>6290</th>\n",
       "      <td>18437195840292658200</td>\n",
       "      <td>2.94</td>\n",
       "    </tr>\n",
       "    <tr>\n",
       "      <th>6291</th>\n",
       "      <td>18445407535914413204</td>\n",
       "      <td>0.88</td>\n",
       "    </tr>\n",
       "  </tbody>\n",
       "</table>\n",
       "<p>6292 rows × 2 columns</p>\n",
       "</div>"
      ],
      "text/plain": [
       "                       uid  revenue\n",
       "0         1575281904278712     3.05\n",
       "1         2551852515556206    10.99\n",
       "2         3605148382144603     0.69\n",
       "3         9757981411973753     8.80\n",
       "4        12695041396440380    14.66\n",
       "...                    ...      ...\n",
       "6287  18433282115640022096    33.85\n",
       "6288  18433518600992672269    10.25\n",
       "6289  18433668464649487724     2.44\n",
       "6290  18437195840292658200     2.94\n",
       "6291  18445407535914413204     0.88\n",
       "\n",
       "[6292 rows x 2 columns]"
      ]
     },
     "execution_count": 33,
     "metadata": {},
     "output_type": "execute_result"
    }
   ],
   "source": [
    "repeated_uids = orders_logs['uid'][orders_logs['uid'].duplicated(keep=False)].unique()\n",
    "repeated_orders = orders_logs[orders_logs['uid'].isin(repeated_uids)]\n",
    "revenue_per_customer = repeated_orders.groupby('uid')['revenue'].sum().reset_index()\n",
    "revenue_per_customer"
   ]
  },
  {
   "cell_type": "code",
   "execution_count": 34,
   "metadata": {},
   "outputs": [
    {
     "data": {
      "text/plain": [
       "20.879561347743167"
      ]
     },
     "execution_count": 34,
     "metadata": {},
     "output_type": "execute_result"
    }
   ],
   "source": [
    "revenue_per_customer['revenue'].mean()"
   ]
  },
  {
   "cell_type": "markdown",
   "metadata": {},
   "source": [
    "A média de receita dos clientes (Lifetime value) que repetem as compras é de 20$. Isso é muito maior do que a média geral considerando os clientes que compram somente uma vez. \n",
    "\n",
    "Vamos verificar se na totalidade a soma das vendas dos clientes que realizaram somente uma compra é maior do que os clientes que repetiram compras."
   ]
  },
  {
   "cell_type": "code",
   "execution_count": 35,
   "metadata": {},
   "outputs": [
    {
     "data": {
      "text/plain": [
       "131374.2"
      ]
     },
     "execution_count": 35,
     "metadata": {},
     "output_type": "execute_result"
    }
   ],
   "source": [
    "revenue_per_customer['revenue'].sum()\n"
   ]
  },
  {
   "cell_type": "code",
   "execution_count": 36,
   "metadata": {},
   "outputs": [
    {
     "data": {
      "text/plain": [
       "151220.67"
      ]
     },
     "execution_count": 36,
     "metadata": {},
     "output_type": "execute_result"
    }
   ],
   "source": [
    "correlated_logs['revenue'].sum()"
   ]
  },
  {
   "cell_type": "markdown",
   "metadata": {},
   "source": [
    "Por muito pouco a soma total da receita dos clientes que compraram somente uma vez é maior. \n",
    "Mas lembrando, os clientes repetidos representavam 30% dos dados originais. \n",
    "Isso mostra que esses clientes que representam 30% de todos clientes representam quase o mesmo do que todos os outros que fizeram somente uma compra juntos (70%).\n",
    "\n",
    "Desse modo, podemos garantir aqui que uma estratégia de retenção de clientes é muito lucrativa. Quanto mais clientes convertermos a repetirem compras, maior será a receita."
   ]
  },
  {
   "cell_type": "markdown",
   "metadata": {},
   "source": [
    "# 3.1.3 Analisando os custos"
   ]
  },
  {
   "cell_type": "markdown",
   "metadata": {},
   "source": [
    "Vamos agora analisar os custos com marketing. Vamos encontrar quais foram os anúncios mais rentáveis e encontrar pontos de melhoria."
   ]
  },
  {
   "cell_type": "markdown",
   "metadata": {},
   "source": [
    "# 3.1.3.1 Somando os gastos totais, por anúncio e ao longo do tempo"
   ]
  },
  {
   "cell_type": "markdown",
   "metadata": {},
   "source": [
    "Vamos analisar os gastos totais, pra cada tipo de anúncio e ao longo do tempo por mês."
   ]
  },
  {
   "cell_type": "code",
   "execution_count": 37,
   "metadata": {},
   "outputs": [
    {
     "name": "stdout",
     "output_type": "stream",
     "text": [
      "329131.62\n",
      "   source_id      costs\n",
      "0          1   20833.27\n",
      "1          2   42806.04\n",
      "2          3  141321.63\n",
      "3          4   61073.60\n",
      "4          5   51757.10\n",
      "5          9    5517.49\n",
      "6         10    5822.49\n",
      "        month     costs\n",
      "0  2017-06-01  18015.00\n",
      "1  2017-07-01  18240.59\n",
      "2  2017-08-01  14790.54\n",
      "3  2017-09-01  24368.91\n",
      "4  2017-10-01  36322.88\n",
      "5  2017-11-01  37907.88\n",
      "6  2017-12-01  38315.35\n",
      "7  2018-01-01  33518.52\n",
      "8  2018-02-01  32723.03\n",
      "9  2018-03-01  30415.27\n",
      "10 2018-04-01  22289.38\n",
      "11 2018-05-01  22224.27\n"
     ]
    }
   ],
   "source": [
    "total_cost = costs_logs['costs'].sum()\n",
    "\n",
    "source_costs = costs_logs.groupby('source_id')['costs'].sum().reset_index()\n",
    "\n",
    "costs_logs['month'] = costs_logs['dt'].dt.to_period('M').dt.to_timestamp()\n",
    "costs_by_month = costs_logs.groupby('month')['costs'].sum().reset_index()\n",
    "\n",
    "\n",
    "print(total_cost)\n",
    "print(source_costs)\n",
    "print(costs_by_month)"
   ]
  },
  {
   "cell_type": "code",
   "execution_count": 38,
   "metadata": {},
   "outputs": [
    {
     "data": {
      "text/plain": [
       "<Figure size 720x432 with 0 Axes>"
      ]
     },
     "metadata": {},
     "output_type": "display_data"
    },
    {
     "data": {
      "image/png": "[encoded data removed]",
      "text/plain": [
       "<Figure size 432x288 with 1 Axes>"
      ]
     },
     "metadata": {
      "needs_background": "light"
     },
     "output_type": "display_data"
    }
   ],
   "source": [
    "plt.figure(figsize=(10, 6))\n",
    "source_costs.plot(kind='bar', color='skyblue')\n",
    "plt.title('Gastos por Origem de Anúncio')\n",
    "plt.xlabel('Origem de Anúncio')\n",
    "plt.ylabel('Gastos')\n",
    "plt.xticks(rotation=0) \n",
    "plt.show()"
   ]
  },
  {
   "cell_type": "code",
   "execution_count": 39,
   "metadata": {},
   "outputs": [
    {
     "data": {
      "image/png": "[encoded data removed]",
      "text/plain": [
       "<Figure size 720x432 with 1 Axes>"
      ]
     },
     "metadata": {
      "needs_background": "light"
     },
     "output_type": "display_data"
    }
   ],
   "source": [
    "plt.figure(figsize=(10, 6))\n",
    "plt.bar(costs_by_month['month'], costs_by_month['costs'], color='skyblue', width = 20)\n",
    "plt.title('Gastos por Mês')\n",
    "plt.xlabel('Mês')\n",
    "plt.ylabel('Gastos')\n",
    "plt.xticks(rotation=45)\n",
    "plt.show()\n"
   ]
  },
  {
   "cell_type": "markdown",
   "metadata": {},
   "source": [
    "Visualizamos que o anúncio 2 foi o que custou mais caro por muito. \n",
    "Com relação aos meses, conseguimos identificar sazonalidade no período de fim de ano, tendo um aumento de gastos com anúncios no período entre outubro e dezembro.\n",
    "Vamos correlacionar o anúncio 2 com os meses pra encontrar quando teve mais gastos com esse anúncio."
   ]
  },
  {
   "cell_type": "code",
   "execution_count": 40,
   "metadata": {},
   "outputs": [
    {
     "name": "stderr",
     "output_type": "stream",
     "text": [
      "/tmp/ipykernel_247/3863668103.py:2: SettingWithCopyWarning: \n",
      "A value is trying to be set on a copy of a slice from a DataFrame.\n",
      "Try using .loc[row_indexer,col_indexer] = value instead\n",
      "\n",
      "See the caveats in the documentation: https://pandas.pydata.org/pandas-docs/stable/user_guide/indexing.html#returning-a-view-versus-a-copy\n",
      "  costs_source_2['dt'] = costs_source_2['dt'].dt.to_period('M').dt.to_timestamp()\n"
     ]
    },
    {
     "data": {
      "image/png": "[encoded data removed]",
      "text/plain": [
       "<Figure size 864x432 with 1 Axes>"
      ]
     },
     "metadata": {
      "needs_background": "light"
     },
     "output_type": "display_data"
    }
   ],
   "source": [
    "costs_source_2 = costs_logs[costs_logs['source_id'] == 2]\n",
    "costs_source_2['dt'] = costs_source_2['dt'].dt.to_period('M').dt.to_timestamp()\n",
    "costs_by_month_source_2 = costs_source_2.groupby('dt')['costs'].sum().reset_index()\n",
    "\n",
    "plt.figure(figsize=(12, 6))\n",
    "plt.bar(costs_by_month_source_2['dt'], costs_by_month_source_2['costs'], color='skyblue', width = 20)\n",
    "plt.title('Gastos por Mês para o anúncio 2')\n",
    "plt.xlabel('Mês')\n",
    "plt.ylabel('Gastos')\n",
    "plt.xticks(rotation=45)\n",
    "plt.show()"
   ]
  },
  {
   "cell_type": "markdown",
   "metadata": {},
   "source": [
    "Os gastos com o anúncio 2 acompanham o efeito de sazonalidade, mas os gastos não somam o mesmo tanto. Ou seja, o anúncio 2 ter custado mais não necessariamente tem a ver com o período de fim de ano."
   ]
  },
  {
   "cell_type": "markdown",
   "metadata": {},
   "source": [
    "# 3.1.3.2 Custos da aquisição de clientes para cada origem (CAC)"
   ]
  },
  {
   "cell_type": "markdown",
   "metadata": {},
   "source": [
    "Para calcular o CAC precisamos calcular a razão dos custos de marketing e da quantidade de clientes novos que vieram de cada fonte de marketing pra cada mês.\n"
   ]
  },
  {
   "cell_type": "code",
   "execution_count": 41,
   "metadata": {},
   "outputs": [
    {
     "data": {
      "text/html": [
       "<div>\n",
       "<style scoped>\n",
       "    .dataframe tbody tr th:only-of-type {\n",
       "        vertical-align: middle;\n",
       "    }\n",
       "\n",
       "    .dataframe tbody tr th {\n",
       "        vertical-align: top;\n",
       "    }\n",
       "\n",
       "    .dataframe thead th {\n",
       "        text-align: right;\n",
       "    }\n",
       "</style>\n",
       "<table border=\"1\" class=\"dataframe\">\n",
       "  <thead>\n",
       "    <tr style=\"text-align: right;\">\n",
       "      <th>quarter</th>\n",
       "      <th>2018Q1</th>\n",
       "      <th>2018Q2</th>\n",
       "      <th>2018Q3</th>\n",
       "      <th>2018Q4</th>\n",
       "    </tr>\n",
       "    <tr>\n",
       "      <th>source_id</th>\n",
       "      <th></th>\n",
       "      <th></th>\n",
       "      <th></th>\n",
       "      <th></th>\n",
       "    </tr>\n",
       "  </thead>\n",
       "  <tbody>\n",
       "    <tr>\n",
       "      <th>1</th>\n",
       "      <td>3150.30</td>\n",
       "      <td>6262.92</td>\n",
       "      <td>6731.86</td>\n",
       "      <td>4688.19</td>\n",
       "    </tr>\n",
       "    <tr>\n",
       "      <th>2</th>\n",
       "      <td>6571.54</td>\n",
       "      <td>13078.34</td>\n",
       "      <td>13529.88</td>\n",
       "      <td>9626.28</td>\n",
       "    </tr>\n",
       "    <tr>\n",
       "      <th>3</th>\n",
       "      <td>21549.56</td>\n",
       "      <td>42726.13</td>\n",
       "      <td>45256.86</td>\n",
       "      <td>31789.08</td>\n",
       "    </tr>\n",
       "    <tr>\n",
       "      <th>4</th>\n",
       "      <td>10261.89</td>\n",
       "      <td>17001.92</td>\n",
       "      <td>19225.22</td>\n",
       "      <td>14584.57</td>\n",
       "    </tr>\n",
       "    <tr>\n",
       "      <th>5</th>\n",
       "      <td>7799.54</td>\n",
       "      <td>15941.88</td>\n",
       "      <td>16315.35</td>\n",
       "      <td>11700.33</td>\n",
       "    </tr>\n",
       "    <tr>\n",
       "      <th>9</th>\n",
       "      <td>836.69</td>\n",
       "      <td>1708.21</td>\n",
       "      <td>1756.64</td>\n",
       "      <td>1215.95</td>\n",
       "    </tr>\n",
       "    <tr>\n",
       "      <th>10</th>\n",
       "      <td>876.61</td>\n",
       "      <td>1880.27</td>\n",
       "      <td>1741.09</td>\n",
       "      <td>1324.52</td>\n",
       "    </tr>\n",
       "  </tbody>\n",
       "</table>\n",
       "</div>"
      ],
      "text/plain": [
       "quarter      2018Q1    2018Q2    2018Q3    2018Q4\n",
       "source_id                                        \n",
       "1           3150.30   6262.92   6731.86   4688.19\n",
       "2           6571.54  13078.34  13529.88   9626.28\n",
       "3          21549.56  42726.13  45256.86  31789.08\n",
       "4          10261.89  17001.92  19225.22  14584.57\n",
       "5           7799.54  15941.88  16315.35  11700.33\n",
       "9            836.69   1708.21   1756.64   1215.95\n",
       "10           876.61   1880.27   1741.09   1324.52"
      ]
     },
     "execution_count": 41,
     "metadata": {},
     "output_type": "execute_result"
    }
   ],
   "source": [
    "costs_logs['quarter'] = costs_logs['dt'].dt.to_period('Q-MAY')\n",
    "source_costs = pd.pivot_table(costs_logs,\n",
    "    values='costs',\n",
    "    index='source_id',\n",
    "    columns='quarter',\n",
    "    aggfunc='sum')\n",
    "source_costs = source_costs.fillna(0)\n",
    "source_costs"
   ]
  },
  {
   "cell_type": "markdown",
   "metadata": {},
   "source": [
    "Aqui temos os custos de 4 trimestres de jun/2017 a maio/2018. Os nomes estão representados como quartis de 2018 pois o ano fiscal termina em 2018, mas os Q1 e Q2 são referentes a 2017, e Dezembro/2017 está incluso no Q3 com Janeiro e Fevereiro."
   ]
  },
  {
   "cell_type": "code",
   "execution_count": 42,
   "metadata": {},
   "outputs": [
    {
     "data": {
      "image/png": "[encoded data removed]",
      "text/plain": [
       "<Figure size 720x432 with 1 Axes>"
      ]
     },
     "metadata": {
      "needs_background": "light"
     },
     "output_type": "display_data"
    }
   ],
   "source": [
    "quarters = source_costs.columns.astype(str)\n",
    "source_ids = source_costs.index\n",
    "plt.figure(figsize=(10, 6))\n",
    "for source_id in source_ids:\n",
    "    costs = source_costs.loc[source_id].values\n",
    "    plt.plot(quarters, costs, label=f'Source ID {source_id}')\n",
    "\n",
    "plt.xlabel('Quarters')\n",
    "plt.ylabel('$ Value')\n",
    "plt.title('Marketing costs by quarters')\n",
    "plt.legend()\n",
    "plt.show()"
   ]
  },
  {
   "cell_type": "code",
   "execution_count": 43,
   "metadata": {},
   "outputs": [
    {
     "data": {
      "text/html": [
       "<div>\n",
       "<style scoped>\n",
       "    .dataframe tbody tr th:only-of-type {\n",
       "        vertical-align: middle;\n",
       "    }\n",
       "\n",
       "    .dataframe tbody tr th {\n",
       "        vertical-align: top;\n",
       "    }\n",
       "\n",
       "    .dataframe thead th {\n",
       "        text-align: right;\n",
       "    }\n",
       "</style>\n",
       "<table border=\"1\" class=\"dataframe\">\n",
       "  <thead>\n",
       "    <tr style=\"text-align: right;\">\n",
       "      <th>quarter</th>\n",
       "      <th>2018Q1</th>\n",
       "      <th>2018Q2</th>\n",
       "      <th>2018Q3</th>\n",
       "      <th>2018Q4</th>\n",
       "      <th>2019Q1</th>\n",
       "    </tr>\n",
       "    <tr>\n",
       "      <th>source_id</th>\n",
       "      <th></th>\n",
       "      <th></th>\n",
       "      <th></th>\n",
       "      <th></th>\n",
       "      <th></th>\n",
       "    </tr>\n",
       "  </thead>\n",
       "  <tbody>\n",
       "    <tr>\n",
       "      <th>1</th>\n",
       "      <td>559.0</td>\n",
       "      <td>1144.0</td>\n",
       "      <td>1140.0</td>\n",
       "      <td>900.0</td>\n",
       "      <td>0.0</td>\n",
       "    </tr>\n",
       "    <tr>\n",
       "      <th>2</th>\n",
       "      <td>681.0</td>\n",
       "      <td>1325.0</td>\n",
       "      <td>1233.0</td>\n",
       "      <td>1084.0</td>\n",
       "      <td>0.0</td>\n",
       "    </tr>\n",
       "    <tr>\n",
       "      <th>3</th>\n",
       "      <td>1307.0</td>\n",
       "      <td>2710.0</td>\n",
       "      <td>2961.0</td>\n",
       "      <td>2160.0</td>\n",
       "      <td>0.0</td>\n",
       "    </tr>\n",
       "    <tr>\n",
       "      <th>4</th>\n",
       "      <td>1234.0</td>\n",
       "      <td>2814.0</td>\n",
       "      <td>3330.0</td>\n",
       "      <td>2444.0</td>\n",
       "      <td>1.0</td>\n",
       "    </tr>\n",
       "    <tr>\n",
       "      <th>5</th>\n",
       "      <td>1102.0</td>\n",
       "      <td>2170.0</td>\n",
       "      <td>2058.0</td>\n",
       "      <td>1509.0</td>\n",
       "      <td>0.0</td>\n",
       "    </tr>\n",
       "    <tr>\n",
       "      <th>7</th>\n",
       "      <td>1.0</td>\n",
       "      <td>0.0</td>\n",
       "      <td>0.0</td>\n",
       "      <td>0.0</td>\n",
       "      <td>0.0</td>\n",
       "    </tr>\n",
       "    <tr>\n",
       "      <th>9</th>\n",
       "      <td>262.0</td>\n",
       "      <td>467.0</td>\n",
       "      <td>393.0</td>\n",
       "      <td>293.0</td>\n",
       "      <td>0.0</td>\n",
       "    </tr>\n",
       "    <tr>\n",
       "      <th>10</th>\n",
       "      <td>170.0</td>\n",
       "      <td>372.0</td>\n",
       "      <td>292.0</td>\n",
       "      <td>407.0</td>\n",
       "      <td>0.0</td>\n",
       "    </tr>\n",
       "  </tbody>\n",
       "</table>\n",
       "</div>"
      ],
      "text/plain": [
       "quarter    2018Q1  2018Q2  2018Q3  2018Q4  2019Q1\n",
       "source_id                                        \n",
       "1           559.0  1144.0  1140.0   900.0     0.0\n",
       "2           681.0  1325.0  1233.0  1084.0     0.0\n",
       "3          1307.0  2710.0  2961.0  2160.0     0.0\n",
       "4          1234.0  2814.0  3330.0  2444.0     1.0\n",
       "5          1102.0  2170.0  2058.0  1509.0     0.0\n",
       "7             1.0     0.0     0.0     0.0     0.0\n",
       "9           262.0   467.0   393.0   293.0     0.0\n",
       "10          170.0   372.0   292.0   407.0     0.0"
      ]
     },
     "execution_count": 43,
     "metadata": {},
     "output_type": "execute_result"
    }
   ],
   "source": [
    "correlated_logs['quarter'] = correlated_logs['buy_ts'].dt.to_period('Q-MAY')\n",
    "source_uid_count = pd.pivot_table(correlated_logs,\n",
    "    values='uid',\n",
    "    index='source_id',\n",
    "    columns='quarter',\n",
    "    aggfunc=pd.Series.nunique)\n",
    "source_uid_count = source_uid_count.fillna(0)\n",
    "\n",
    "source_uid_count"
   ]
  },
  {
   "cell_type": "code",
   "execution_count": 44,
   "metadata": {},
   "outputs": [
    {
     "data": {
      "text/html": [
       "<div>\n",
       "<style scoped>\n",
       "    .dataframe tbody tr th:only-of-type {\n",
       "        vertical-align: middle;\n",
       "    }\n",
       "\n",
       "    .dataframe tbody tr th {\n",
       "        vertical-align: top;\n",
       "    }\n",
       "\n",
       "    .dataframe thead th {\n",
       "        text-align: right;\n",
       "    }\n",
       "</style>\n",
       "<table border=\"1\" class=\"dataframe\">\n",
       "  <thead>\n",
       "    <tr style=\"text-align: right;\">\n",
       "      <th></th>\n",
       "      <th>buy_ts</th>\n",
       "      <th>revenue</th>\n",
       "      <th>uid</th>\n",
       "      <th>device</th>\n",
       "      <th>end_ts</th>\n",
       "      <th>source_id</th>\n",
       "      <th>start_ts</th>\n",
       "      <th>session_duration_secs</th>\n",
       "      <th>time_between_access_and_purchase</th>\n",
       "      <th>buy_category</th>\n",
       "      <th>quarter</th>\n",
       "    </tr>\n",
       "  </thead>\n",
       "  <tbody>\n",
       "    <tr>\n",
       "      <th>36522</th>\n",
       "      <td>2018-06-01 00:02:00</td>\n",
       "      <td>3.42</td>\n",
       "      <td>83872787173869366</td>\n",
       "      <td>desktop</td>\n",
       "      <td>2018-06-01 00:04:00</td>\n",
       "      <td>4</td>\n",
       "      <td>2018-05-31 23:59:00</td>\n",
       "      <td>300</td>\n",
       "      <td>180.0</td>\n",
       "      <td>1h</td>\n",
       "      <td>2019Q1</td>\n",
       "    </tr>\n",
       "  </tbody>\n",
       "</table>\n",
       "</div>"
      ],
      "text/plain": [
       "                   buy_ts  revenue                uid   device  \\\n",
       "36522 2018-06-01 00:02:00     3.42  83872787173869366  desktop   \n",
       "\n",
       "                   end_ts  source_id            start_ts  \\\n",
       "36522 2018-06-01 00:04:00          4 2018-05-31 23:59:00   \n",
       "\n",
       "       session_duration_secs  time_between_access_and_purchase buy_category  \\\n",
       "36522                    300                             180.0           1h   \n",
       "\n",
       "      quarter  \n",
       "36522  2019Q1  "
      ]
     },
     "execution_count": 44,
     "metadata": {},
     "output_type": "execute_result"
    }
   ],
   "source": [
    "correlated_logs[correlated_logs['buy_ts'] > '2018-06-01']"
   ]
  },
  {
   "cell_type": "markdown",
   "metadata": {},
   "source": [
    "Temos uma venda referente ao mês 06 do ano 2018 pois o usuário acessou o serviço quase 00h e efetuou a compra em 3 minutos. Por isso essa compra foi computada em Junho de 2018. Como tivemos somente um caso desse acontecimento, vou excluir essa compra da nossa análise pois ela pode ser analisada no próximo ano fiscal."
   ]
  },
  {
   "cell_type": "markdown",
   "metadata": {},
   "source": [
    "Além disso, no Q1 temos uma compra referente à fonte de marketing 7. Mas quando olhamos nos gastos com anúncios, vemos que não tivemos investimento nessa fonte. Então provavelmente é um acesso de uma fonte antiga. Vou olhar a data e remove-la do dataframe também."
   ]
  },
  {
   "cell_type": "code",
   "execution_count": 45,
   "metadata": {},
   "outputs": [
    {
     "data": {
      "text/html": [
       "<div>\n",
       "<style scoped>\n",
       "    .dataframe tbody tr th:only-of-type {\n",
       "        vertical-align: middle;\n",
       "    }\n",
       "\n",
       "    .dataframe tbody tr th {\n",
       "        vertical-align: top;\n",
       "    }\n",
       "\n",
       "    .dataframe thead th {\n",
       "        text-align: right;\n",
       "    }\n",
       "</style>\n",
       "<table border=\"1\" class=\"dataframe\">\n",
       "  <thead>\n",
       "    <tr style=\"text-align: right;\">\n",
       "      <th></th>\n",
       "      <th>buy_ts</th>\n",
       "      <th>revenue</th>\n",
       "      <th>uid</th>\n",
       "      <th>device</th>\n",
       "      <th>end_ts</th>\n",
       "      <th>source_id</th>\n",
       "      <th>start_ts</th>\n",
       "      <th>session_duration_secs</th>\n",
       "      <th>time_between_access_and_purchase</th>\n",
       "      <th>buy_category</th>\n",
       "      <th>quarter</th>\n",
       "    </tr>\n",
       "  </thead>\n",
       "  <tbody>\n",
       "    <tr>\n",
       "      <th>4529</th>\n",
       "      <td>2017-08-17 11:20:00</td>\n",
       "      <td>1.22</td>\n",
       "      <td>11377414203346034748</td>\n",
       "      <td>desktop</td>\n",
       "      <td>2017-08-17 11:56:00</td>\n",
       "      <td>7</td>\n",
       "      <td>2017-08-17 10:28:00</td>\n",
       "      <td>5280</td>\n",
       "      <td>3120.0</td>\n",
       "      <td>1h</td>\n",
       "      <td>2018Q1</td>\n",
       "    </tr>\n",
       "  </tbody>\n",
       "</table>\n",
       "</div>"
      ],
      "text/plain": [
       "                  buy_ts  revenue                   uid   device  \\\n",
       "4529 2017-08-17 11:20:00     1.22  11377414203346034748  desktop   \n",
       "\n",
       "                  end_ts  source_id            start_ts  \\\n",
       "4529 2017-08-17 11:56:00          7 2017-08-17 10:28:00   \n",
       "\n",
       "      session_duration_secs  time_between_access_and_purchase buy_category  \\\n",
       "4529                   5280                            3120.0           1h   \n",
       "\n",
       "     quarter  \n",
       "4529  2018Q1  "
      ]
     },
     "execution_count": 45,
     "metadata": {},
     "output_type": "execute_result"
    }
   ],
   "source": [
    "correlated_logs[correlated_logs['source_id'] == 7]"
   ]
  },
  {
   "cell_type": "markdown",
   "metadata": {},
   "source": [
    "A data é do mês de agosto, então não é referente ao ano fiscal anterior. Mas de qualquer modo, não é uma fonte relevante pra nossa análise."
   ]
  },
  {
   "cell_type": "code",
   "execution_count": 46,
   "metadata": {},
   "outputs": [
    {
     "data": {
      "text/html": [
       "<div>\n",
       "<style scoped>\n",
       "    .dataframe tbody tr th:only-of-type {\n",
       "        vertical-align: middle;\n",
       "    }\n",
       "\n",
       "    .dataframe tbody tr th {\n",
       "        vertical-align: top;\n",
       "    }\n",
       "\n",
       "    .dataframe thead th {\n",
       "        text-align: right;\n",
       "    }\n",
       "</style>\n",
       "<table border=\"1\" class=\"dataframe\">\n",
       "  <thead>\n",
       "    <tr style=\"text-align: right;\">\n",
       "      <th>quarter</th>\n",
       "      <th>2018Q1</th>\n",
       "      <th>2018Q2</th>\n",
       "      <th>2018Q3</th>\n",
       "      <th>2018Q4</th>\n",
       "    </tr>\n",
       "    <tr>\n",
       "      <th>source_id</th>\n",
       "      <th></th>\n",
       "      <th></th>\n",
       "      <th></th>\n",
       "      <th></th>\n",
       "    </tr>\n",
       "  </thead>\n",
       "  <tbody>\n",
       "    <tr>\n",
       "      <th>1</th>\n",
       "      <td>559</td>\n",
       "      <td>1144</td>\n",
       "      <td>1140</td>\n",
       "      <td>900</td>\n",
       "    </tr>\n",
       "    <tr>\n",
       "      <th>2</th>\n",
       "      <td>681</td>\n",
       "      <td>1325</td>\n",
       "      <td>1233</td>\n",
       "      <td>1084</td>\n",
       "    </tr>\n",
       "    <tr>\n",
       "      <th>3</th>\n",
       "      <td>1307</td>\n",
       "      <td>2710</td>\n",
       "      <td>2961</td>\n",
       "      <td>2160</td>\n",
       "    </tr>\n",
       "    <tr>\n",
       "      <th>4</th>\n",
       "      <td>1234</td>\n",
       "      <td>2814</td>\n",
       "      <td>3330</td>\n",
       "      <td>2444</td>\n",
       "    </tr>\n",
       "    <tr>\n",
       "      <th>5</th>\n",
       "      <td>1102</td>\n",
       "      <td>2170</td>\n",
       "      <td>2058</td>\n",
       "      <td>1509</td>\n",
       "    </tr>\n",
       "    <tr>\n",
       "      <th>9</th>\n",
       "      <td>262</td>\n",
       "      <td>467</td>\n",
       "      <td>393</td>\n",
       "      <td>293</td>\n",
       "    </tr>\n",
       "    <tr>\n",
       "      <th>10</th>\n",
       "      <td>170</td>\n",
       "      <td>372</td>\n",
       "      <td>292</td>\n",
       "      <td>407</td>\n",
       "    </tr>\n",
       "  </tbody>\n",
       "</table>\n",
       "</div>"
      ],
      "text/plain": [
       "quarter    2018Q1  2018Q2  2018Q3  2018Q4\n",
       "source_id                                \n",
       "1             559    1144    1140     900\n",
       "2             681    1325    1233    1084\n",
       "3            1307    2710    2961    2160\n",
       "4            1234    2814    3330    2444\n",
       "5            1102    2170    2058    1509\n",
       "9             262     467     393     293\n",
       "10            170     372     292     407"
      ]
     },
     "execution_count": 46,
     "metadata": {},
     "output_type": "execute_result"
    }
   ],
   "source": [
    "correlated_logs = correlated_logs.drop(correlated_logs[correlated_logs['buy_ts'] > '2018-06-01'].index)\n",
    "correlated_logs = correlated_logs.drop(correlated_logs[correlated_logs['source_id'] == 7].index)\n",
    "\n",
    "source_uid_count = pd.pivot_table(correlated_logs,\n",
    "    values='uid',\n",
    "    index='source_id',\n",
    "    columns='quarter',\n",
    "    aggfunc=pd.Series.nunique)\n",
    "source_uid_count = source_uid_count.fillna(0)\n",
    "\n",
    "source_uid_count"
   ]
  },
  {
   "cell_type": "code",
   "execution_count": 47,
   "metadata": {},
   "outputs": [
    {
     "data": {
      "image/png": "[encoded data removed]",
      "text/plain": [
       "<Figure size 720x432 with 1 Axes>"
      ]
     },
     "metadata": {
      "needs_background": "light"
     },
     "output_type": "display_data"
    }
   ],
   "source": [
    "quarters = source_uid_count.columns.astype(str)\n",
    "source_ids = source_uid_count.index\n",
    "plt.figure(figsize=(10, 6))\n",
    "for source_id in source_ids:\n",
    "    uid = source_uid_count.loc[source_id].values\n",
    "    plt.plot(quarters, uid, label=f'Source ID {source_id}')\n",
    "plt.xlabel('Quarters')\n",
    "plt.ylabel('Users')\n",
    "plt.title('Users acess by quarters')\n",
    "plt.legend()\n",
    "\n",
    "plt.show()\n"
   ]
  },
  {
   "cell_type": "markdown",
   "metadata": {},
   "source": []
  },
  {
   "cell_type": "code",
   "execution_count": 48,
   "metadata": {},
   "outputs": [
    {
     "data": {
      "image/png": "[encoded data removed]",
      "text/plain": [
       "<Figure size 1008x432 with 2 Axes>"
      ]
     },
     "metadata": {
      "needs_background": "light"
     },
     "output_type": "display_data"
    }
   ],
   "source": [
    "quarters = source_costs.columns.astype(str)\n",
    "source_ids = source_costs.index\n",
    "plt.figure(figsize=(14, 6))\n",
    "\n",
    "plt.subplot(1, 2, 1)\n",
    "plt.plot(quarters, source_costs.T, label=f'Source ID {source_id}')\n",
    "plt.xlabel('Quarters')\n",
    "plt.ylabel('$ Value')\n",
    "plt.title('Marketing costs by quarters')\n",
    "plt.subplot(1, 2, 2)\n",
    "\n",
    "for i, source_id in enumerate(source_uid_count.index):\n",
    "    plt.plot(quarters, source_uid_count.loc[source_id], label=f'Source ID {source_id}')\n",
    "plt.ylabel('Users')\n",
    "plt.xlabel('Quarters')\n",
    "plt.title('Users acess by quarters')\n",
    "plt.legend(loc='upper left')\n",
    "plt.tight_layout()\n",
    "plt.show()\n"
   ]
  },
  {
   "cell_type": "markdown",
   "metadata": {},
   "source": [
    "Comparando visualmente os gráficos de custos por anúncio com o gráfico de acessos únicos por anúncios vemos que nem todos anúncios são tão eficientes quanto ouros.\n",
    "O anúncio 3 por exemplo é o mais caro, mas não é o que traz mais clientes. Já o anúncio 3 é o que apresenta maior taxa de conversão, e custa muito menos que o anúncio mais caro.\n",
    "\n",
    "Com essa análise a equipe de marketing pode reduzir os gastos com o anúncio 3."
   ]
  },
  {
   "cell_type": "markdown",
   "metadata": {},
   "source": [
    "Agora vou calcular o LTV por quartis e depois o CAC, que é o custo de aquisição de cliente."
   ]
  },
  {
   "cell_type": "code",
   "execution_count": 49,
   "metadata": {},
   "outputs": [
    {
     "data": {
      "text/html": [
       "<div>\n",
       "<style scoped>\n",
       "    .dataframe tbody tr th:only-of-type {\n",
       "        vertical-align: middle;\n",
       "    }\n",
       "\n",
       "    .dataframe tbody tr th {\n",
       "        vertical-align: top;\n",
       "    }\n",
       "\n",
       "    .dataframe thead th {\n",
       "        text-align: right;\n",
       "    }\n",
       "</style>\n",
       "<table border=\"1\" class=\"dataframe\">\n",
       "  <thead>\n",
       "    <tr style=\"text-align: right;\">\n",
       "      <th>quarter_revenue</th>\n",
       "      <th>2018Q1</th>\n",
       "      <th>2018Q2</th>\n",
       "      <th>2018Q3</th>\n",
       "      <th>2018Q4</th>\n",
       "    </tr>\n",
       "    <tr>\n",
       "      <th>source_id</th>\n",
       "      <th></th>\n",
       "      <th></th>\n",
       "      <th></th>\n",
       "      <th></th>\n",
       "    </tr>\n",
       "  </thead>\n",
       "  <tbody>\n",
       "    <tr>\n",
       "      <th>1</th>\n",
       "      <td>2882.98</td>\n",
       "      <td>5105.68</td>\n",
       "      <td>4407.71</td>\n",
       "      <td>3783.89</td>\n",
       "    </tr>\n",
       "    <tr>\n",
       "      <th>2</th>\n",
       "      <td>3376.51</td>\n",
       "      <td>6184.34</td>\n",
       "      <td>5869.82</td>\n",
       "      <td>5588.70</td>\n",
       "    </tr>\n",
       "    <tr>\n",
       "      <th>3</th>\n",
       "      <td>5946.48</td>\n",
       "      <td>11259.69</td>\n",
       "      <td>11064.86</td>\n",
       "      <td>8304.41</td>\n",
       "    </tr>\n",
       "    <tr>\n",
       "      <th>4</th>\n",
       "      <td>5584.76</td>\n",
       "      <td>11611.24</td>\n",
       "      <td>12349.52</td>\n",
       "      <td>10619.50</td>\n",
       "    </tr>\n",
       "    <tr>\n",
       "      <th>5</th>\n",
       "      <td>4961.91</td>\n",
       "      <td>9714.48</td>\n",
       "      <td>8354.98</td>\n",
       "      <td>5976.72</td>\n",
       "    </tr>\n",
       "    <tr>\n",
       "      <th>9</th>\n",
       "      <td>1045.40</td>\n",
       "      <td>1671.12</td>\n",
       "      <td>1244.33</td>\n",
       "      <td>841.15</td>\n",
       "    </tr>\n",
       "    <tr>\n",
       "      <th>10</th>\n",
       "      <td>443.98</td>\n",
       "      <td>1026.96</td>\n",
       "      <td>830.96</td>\n",
       "      <td>1163.95</td>\n",
       "    </tr>\n",
       "  </tbody>\n",
       "</table>\n",
       "</div>"
      ],
      "text/plain": [
       "quarter_revenue   2018Q1    2018Q2    2018Q3    2018Q4\n",
       "source_id                                             \n",
       "1                2882.98   5105.68   4407.71   3783.89\n",
       "2                3376.51   6184.34   5869.82   5588.70\n",
       "3                5946.48  11259.69  11064.86   8304.41\n",
       "4                5584.76  11611.24  12349.52  10619.50\n",
       "5                4961.91   9714.48   8354.98   5976.72\n",
       "9                1045.40   1671.12   1244.33    841.15\n",
       "10                443.98   1026.96    830.96   1163.95"
      ]
     },
     "execution_count": 49,
     "metadata": {},
     "output_type": "execute_result"
    }
   ],
   "source": [
    "correlated_logs['quarter_revenue'] = correlated_logs['buy_ts'].dt.to_period('Q-MAY')\n",
    "quarter_revenue = correlated_logs.groupby(['source_id', 'quarter_revenue'])['revenue'].sum().reset_index()\n",
    "revenue_pivot = pd.pivot_table(quarter_revenue, values='revenue', index='source_id', columns='quarter_revenue', aggfunc='sum')\n",
    "revenue_pivot\n",
    "\n"
   ]
  },
  {
   "cell_type": "code",
   "execution_count": 50,
   "metadata": {},
   "outputs": [
    {
     "data": {
      "text/html": [
       "<div>\n",
       "<style scoped>\n",
       "    .dataframe tbody tr th:only-of-type {\n",
       "        vertical-align: middle;\n",
       "    }\n",
       "\n",
       "    .dataframe tbody tr th {\n",
       "        vertical-align: top;\n",
       "    }\n",
       "\n",
       "    .dataframe thead th {\n",
       "        text-align: right;\n",
       "    }\n",
       "</style>\n",
       "<table border=\"1\" class=\"dataframe\">\n",
       "  <thead>\n",
       "    <tr style=\"text-align: right;\">\n",
       "      <th>quarter_revenue</th>\n",
       "      <th>2018Q1</th>\n",
       "      <th>2018Q2</th>\n",
       "      <th>2018Q3</th>\n",
       "      <th>2018Q4</th>\n",
       "    </tr>\n",
       "    <tr>\n",
       "      <th>source_id</th>\n",
       "      <th></th>\n",
       "      <th></th>\n",
       "      <th></th>\n",
       "      <th></th>\n",
       "    </tr>\n",
       "  </thead>\n",
       "  <tbody>\n",
       "    <tr>\n",
       "      <th>1</th>\n",
       "      <td>5.157388</td>\n",
       "      <td>4.463007</td>\n",
       "      <td>3.866412</td>\n",
       "      <td>4.204322</td>\n",
       "    </tr>\n",
       "    <tr>\n",
       "      <th>2</th>\n",
       "      <td>4.958164</td>\n",
       "      <td>4.667426</td>\n",
       "      <td>4.760600</td>\n",
       "      <td>5.155627</td>\n",
       "    </tr>\n",
       "    <tr>\n",
       "      <th>3</th>\n",
       "      <td>4.549717</td>\n",
       "      <td>4.154867</td>\n",
       "      <td>3.736866</td>\n",
       "      <td>3.844634</td>\n",
       "    </tr>\n",
       "    <tr>\n",
       "      <th>4</th>\n",
       "      <td>4.525737</td>\n",
       "      <td>4.126240</td>\n",
       "      <td>3.708565</td>\n",
       "      <td>4.345131</td>\n",
       "    </tr>\n",
       "    <tr>\n",
       "      <th>5</th>\n",
       "      <td>4.502641</td>\n",
       "      <td>4.476719</td>\n",
       "      <td>4.059757</td>\n",
       "      <td>3.960716</td>\n",
       "    </tr>\n",
       "    <tr>\n",
       "      <th>9</th>\n",
       "      <td>3.990076</td>\n",
       "      <td>3.578415</td>\n",
       "      <td>3.166234</td>\n",
       "      <td>2.870819</td>\n",
       "    </tr>\n",
       "    <tr>\n",
       "      <th>10</th>\n",
       "      <td>2.611647</td>\n",
       "      <td>2.760645</td>\n",
       "      <td>2.845753</td>\n",
       "      <td>2.859828</td>\n",
       "    </tr>\n",
       "  </tbody>\n",
       "</table>\n",
       "</div>"
      ],
      "text/plain": [
       "quarter_revenue    2018Q1    2018Q2    2018Q3    2018Q4\n",
       "source_id                                              \n",
       "1                5.157388  4.463007  3.866412  4.204322\n",
       "2                4.958164  4.667426  4.760600  5.155627\n",
       "3                4.549717  4.154867  3.736866  3.844634\n",
       "4                4.525737  4.126240  3.708565  4.345131\n",
       "5                4.502641  4.476719  4.059757  3.960716\n",
       "9                3.990076  3.578415  3.166234  2.870819\n",
       "10               2.611647  2.760645  2.845753  2.859828"
      ]
     },
     "execution_count": 50,
     "metadata": {},
     "output_type": "execute_result"
    }
   ],
   "source": [
    "revenue_pivot_div = revenue_pivot.div(source_uid_count, axis=0)\n",
    "ltv_quarters = pd.DataFrame(revenue_pivot_div, columns=revenue_pivot.columns)\n",
    "ltv_quarters\n",
    "\n"
   ]
  },
  {
   "cell_type": "markdown",
   "metadata": {},
   "source": [
    "Esse é o LTV (Lifetime Value) de todos os clientes divididos por trimestres.\n",
    "Agora vou calcular o CAC."
   ]
  },
  {
   "cell_type": "code",
   "execution_count": 51,
   "metadata": {},
   "outputs": [
    {
     "data": {
      "text/html": [
       "<div>\n",
       "<style scoped>\n",
       "    .dataframe tbody tr th:only-of-type {\n",
       "        vertical-align: middle;\n",
       "    }\n",
       "\n",
       "    .dataframe tbody tr th {\n",
       "        vertical-align: top;\n",
       "    }\n",
       "\n",
       "    .dataframe thead th {\n",
       "        text-align: right;\n",
       "    }\n",
       "</style>\n",
       "<table border=\"1\" class=\"dataframe\">\n",
       "  <thead>\n",
       "    <tr style=\"text-align: right;\">\n",
       "      <th>quarter</th>\n",
       "      <th>2018Q1</th>\n",
       "      <th>2018Q2</th>\n",
       "      <th>2018Q3</th>\n",
       "      <th>2018Q4</th>\n",
       "    </tr>\n",
       "    <tr>\n",
       "      <th>source_id</th>\n",
       "      <th></th>\n",
       "      <th></th>\n",
       "      <th></th>\n",
       "      <th></th>\n",
       "    </tr>\n",
       "  </thead>\n",
       "  <tbody>\n",
       "    <tr>\n",
       "      <th>1</th>\n",
       "      <td>5.635599</td>\n",
       "      <td>5.474580</td>\n",
       "      <td>5.905140</td>\n",
       "      <td>5.209100</td>\n",
       "    </tr>\n",
       "    <tr>\n",
       "      <th>2</th>\n",
       "      <td>9.649838</td>\n",
       "      <td>9.870445</td>\n",
       "      <td>10.973139</td>\n",
       "      <td>8.880332</td>\n",
       "    </tr>\n",
       "    <tr>\n",
       "      <th>3</th>\n",
       "      <td>16.487804</td>\n",
       "      <td>15.766100</td>\n",
       "      <td>15.284316</td>\n",
       "      <td>14.717167</td>\n",
       "    </tr>\n",
       "    <tr>\n",
       "      <th>4</th>\n",
       "      <td>8.315956</td>\n",
       "      <td>6.041905</td>\n",
       "      <td>5.773339</td>\n",
       "      <td>5.967500</td>\n",
       "    </tr>\n",
       "    <tr>\n",
       "      <th>5</th>\n",
       "      <td>7.077623</td>\n",
       "      <td>7.346488</td>\n",
       "      <td>7.927770</td>\n",
       "      <td>7.753698</td>\n",
       "    </tr>\n",
       "    <tr>\n",
       "      <th>9</th>\n",
       "      <td>3.193473</td>\n",
       "      <td>3.657837</td>\n",
       "      <td>4.469822</td>\n",
       "      <td>4.150000</td>\n",
       "    </tr>\n",
       "    <tr>\n",
       "      <th>10</th>\n",
       "      <td>5.156529</td>\n",
       "      <td>5.054489</td>\n",
       "      <td>5.962637</td>\n",
       "      <td>3.254349</td>\n",
       "    </tr>\n",
       "  </tbody>\n",
       "</table>\n",
       "</div>"
      ],
      "text/plain": [
       "quarter       2018Q1     2018Q2     2018Q3     2018Q4\n",
       "source_id                                            \n",
       "1           5.635599   5.474580   5.905140   5.209100\n",
       "2           9.649838   9.870445  10.973139   8.880332\n",
       "3          16.487804  15.766100  15.284316  14.717167\n",
       "4           8.315956   6.041905   5.773339   5.967500\n",
       "5           7.077623   7.346488   7.927770   7.753698\n",
       "9           3.193473   3.657837   4.469822   4.150000\n",
       "10          5.156529   5.054489   5.962637   3.254349"
      ]
     },
     "execution_count": 51,
     "metadata": {},
     "output_type": "execute_result"
    }
   ],
   "source": [
    "source_costs_div = source_costs.div(source_uid_count, axis = 0)\n",
    "cac_quarters = pd.DataFrame(source_costs_div, columns = source_costs.columns)\n",
    "cac_quarters"
   ]
  },
  {
   "cell_type": "markdown",
   "metadata": {},
   "source": [
    "Encontramos então o custo de aquisição de clientes pra cada trimestre.\n",
    "\n",
    "Vamos colocar em um gráficos para melhor visualização."
   ]
  },
  {
   "cell_type": "code",
   "execution_count": 52,
   "metadata": {
    "scrolled": false
   },
   "outputs": [
    {
     "data": {
      "image/png": "[encoded data removed]",
      "text/plain": [
       "<Figure size 1008x432 with 2 Axes>"
      ]
     },
     "metadata": {
      "needs_background": "light"
     },
     "output_type": "display_data"
    }
   ],
   "source": [
    "quarters = ltv_quarters.columns.astype(str)\n",
    "source_ids = ltv_quarters.index\n",
    "plt.figure(figsize=(14, 6))\n",
    "\n",
    "plt.subplot(1, 2, 1)\n",
    "plt.plot(quarters, ltv_quarters.T, label=f'Source ID {source_id}')\n",
    "plt.xlabel('Quarters')\n",
    "plt.ylabel('Lifetime Value')\n",
    "plt.title('LTV by Quarters')\n",
    "\n",
    "plt.subplot(1, 2, 2)\n",
    "for i, source_id in enumerate(cac_quarters.index):\n",
    "    plt.plot(quarters, cac_quarters.loc[source_id], label=f'Source ID {source_id}')\n",
    "plt.ylabel('Customer Acquisition Costs')\n",
    "plt.xlabel('Quarters')\n",
    "plt.title('CAC by quarters')\n",
    "plt.legend(loc='upper left')\n",
    "plt.tight_layout()\n",
    "plt.show()"
   ]
  },
  {
   "cell_type": "markdown",
   "metadata": {},
   "source": [
    "Visualmente podemos ver que o custo de aquisição por cliente da fonte 3 é muito maior do que das outras, que já tinhamos discutido anteriormente. \n",
    "Ao longo do tempo podemos visualizar que a fonte 9 não mantém novos clientes, enquanto outras oscilam com o tempo. \n",
    "A fonte de anúncios 2 é uma das mais vantajosas, pois se mantém alta em todo ano fiscal, com apenas um leve aumento no custo de aquisição."
   ]
  },
  {
   "cell_type": "markdown",
   "metadata": {},
   "source": [
    "# 3.1.3.3 Retorno dos Investimentos"
   ]
  },
  {
   "cell_type": "markdown",
   "metadata": {},
   "source": [
    "Calculando o Retorno dos Investimentos iremos verificar se os gastos com marketing estão sendo rentáveis. Para isso, vamos realizar a divisão do LTV pelo CAC."
   ]
  },
  {
   "cell_type": "code",
   "execution_count": 53,
   "metadata": {},
   "outputs": [
    {
     "data": {
      "text/html": [
       "<div>\n",
       "<style scoped>\n",
       "    .dataframe tbody tr th:only-of-type {\n",
       "        vertical-align: middle;\n",
       "    }\n",
       "\n",
       "    .dataframe tbody tr th {\n",
       "        vertical-align: top;\n",
       "    }\n",
       "\n",
       "    .dataframe thead th {\n",
       "        text-align: right;\n",
       "    }\n",
       "</style>\n",
       "<table border=\"1\" class=\"dataframe\">\n",
       "  <thead>\n",
       "    <tr style=\"text-align: right;\">\n",
       "      <th>quarter_revenue</th>\n",
       "      <th>2018Q1</th>\n",
       "      <th>2018Q2</th>\n",
       "      <th>2018Q3</th>\n",
       "      <th>2018Q4</th>\n",
       "    </tr>\n",
       "    <tr>\n",
       "      <th>source_id</th>\n",
       "      <th></th>\n",
       "      <th></th>\n",
       "      <th></th>\n",
       "      <th></th>\n",
       "    </tr>\n",
       "  </thead>\n",
       "  <tbody>\n",
       "    <tr>\n",
       "      <th>1</th>\n",
       "      <td>0.92</td>\n",
       "      <td>1.73</td>\n",
       "      <td>2.39</td>\n",
       "      <td>3.19</td>\n",
       "    </tr>\n",
       "    <tr>\n",
       "      <th>2</th>\n",
       "      <td>0.51</td>\n",
       "      <td>0.99</td>\n",
       "      <td>1.42</td>\n",
       "      <td>2.00</td>\n",
       "    </tr>\n",
       "    <tr>\n",
       "      <th>3</th>\n",
       "      <td>0.28</td>\n",
       "      <td>0.54</td>\n",
       "      <td>0.78</td>\n",
       "      <td>1.05</td>\n",
       "    </tr>\n",
       "    <tr>\n",
       "      <th>4</th>\n",
       "      <td>0.54</td>\n",
       "      <td>1.23</td>\n",
       "      <td>1.87</td>\n",
       "      <td>2.60</td>\n",
       "    </tr>\n",
       "    <tr>\n",
       "      <th>5</th>\n",
       "      <td>0.64</td>\n",
       "      <td>1.25</td>\n",
       "      <td>1.76</td>\n",
       "      <td>2.27</td>\n",
       "    </tr>\n",
       "    <tr>\n",
       "      <th>9</th>\n",
       "      <td>1.25</td>\n",
       "      <td>2.23</td>\n",
       "      <td>2.94</td>\n",
       "      <td>3.63</td>\n",
       "    </tr>\n",
       "    <tr>\n",
       "      <th>10</th>\n",
       "      <td>0.51</td>\n",
       "      <td>1.05</td>\n",
       "      <td>1.53</td>\n",
       "      <td>2.41</td>\n",
       "    </tr>\n",
       "  </tbody>\n",
       "</table>\n",
       "</div>"
      ],
      "text/plain": [
       "quarter_revenue  2018Q1  2018Q2  2018Q3  2018Q4\n",
       "source_id                                      \n",
       "1                  0.92    1.73    2.39    3.19\n",
       "2                  0.51    0.99    1.42    2.00\n",
       "3                  0.28    0.54    0.78    1.05\n",
       "4                  0.54    1.23    1.87    2.60\n",
       "5                  0.64    1.25    1.76    2.27\n",
       "9                  1.25    2.23    2.94    3.63\n",
       "10                 0.51    1.05    1.53    2.41"
      ]
     },
     "execution_count": 53,
     "metadata": {},
     "output_type": "execute_result"
    }
   ],
   "source": [
    "ltv_cac_div = ltv_quarters.div(cac_quarters,axis = 0)\n",
    "romi_quarters = pd.DataFrame(ltv_cac_div, columns = ltv_quarters.columns)\n",
    "romi_quarters\n",
    "\n",
    "romi_quarters.cumsum(axis=1).round(2) \n",
    "\n"
   ]
  },
  {
   "cell_type": "code",
   "execution_count": 54,
   "metadata": {},
   "outputs": [
    {
     "data": {
      "image/png": "[encoded data removed]",
      "text/plain": [
       "<Figure size 1008x432 with 1 Axes>"
      ]
     },
     "metadata": {
      "needs_background": "light"
     },
     "output_type": "display_data"
    }
   ],
   "source": [
    "quarters = romi_quarters.columns.astype(str)\n",
    "source_ids = romi_quarters.index\n",
    "plt.figure(figsize=(14, 6))\n",
    "\n",
    "for i, source_id in enumerate(romi_quarters.index):\n",
    "    plt.plot(quarters, romi_quarters.loc[source_id], label=f'Source ID {source_id}')\n",
    "plt.xlabel('Quarters')\n",
    "plt.ylabel('Return over Investiment')\n",
    "plt.title('ROMI by Quarters')\n",
    "plt.legend(loc='upper left')\n",
    "plt.tight_layout()\n",
    "plt.show()\n"
   ]
  },
  {
   "cell_type": "markdown",
   "metadata": {},
   "source": [
    "Essa é a tabela pivot de Retorno dos investimentos e o gráfico por trimestre. Quando avaliamos o gráfico, vemos que por mês os anúncios não se pagam tanto, mas quando efetuamos a soma com o intervalo anterior, encontramos o lucro. No geral, todas pagaram seu investimento ao fim do ano fiscal, porém algumas foram muito mais rentáveis do que outras. \n",
    "\n",
    "    - As fontes 1 e 9 foram as mais rentáveis no fim do ano, tendo triplicado o seu retorno final.\n",
    "    - A fonte 3 quase não se pagou, alcançando praticamente o mesmo que teve de despesa no fim do ano.\n",
    "    - As outras fontes mantiveram uma boa estabilidade se pagando no segundo ou no terceiro trimestre."
   ]
  },
  {
   "cell_type": "markdown",
   "metadata": {},
   "source": [
    "# 4.1 Conclusão"
   ]
  },
  {
   "cell_type": "markdown",
   "metadata": {},
   "source": [
    "As finanças estão indo bem no geral, pois todos anúncios se pagaram e não tivemos prejuízo no decorrer do ano. Porém algumas melhorias podem ser feitas.\n",
    "\n",
    "Ao longo do ano a média dos clientes que fazem mais de uma compra é muito relevante pra receita final. Uma parcela de 30% são clientes que compraram mais de uma vez e a soma das vendas para esses clientes é muito próxima da receita total dos clientes que compraram uma única vez.\n",
    "Uma estratégia de marketing voltada para esses clientes seria muito interessante, como algum tipo de promoção ou combo.\n",
    "\n",
    "Com relação aos anúncios para trazer clientes novos existem alguns problemas que merecem atenção.\n",
    "Mesmo todos anúncios se pagando ao longo do ano, o anúncio 3 custou muito caro e retornou muito pouco. Não é vantajoso o tamanho do investimento feito nele, quando existem outros anúncios, como o 1 e o 9 que trazem um retorno do investimento muito mais alto.\n",
    "Além desse retorno de investimento diretamente, o anúncio 4 traz uma quantia bruta de clientes muito significativa também. Por mais que o retorno dele não seja tão visível, a aquisição de grandes clientes em números absolutos também é uma métrica relevante pro negócio.\n",
    "\n",
    "Grande parte dos clientes realizam a compra na primeira hora ou no máximo no primeiro dia, então algum tipo de promoção imediatamente pós-registro também poderia ser viável pra aumentar esses clientes imediatos.\n",
    "\n",
    "Com relação a taxa de retenção, encontramos uma taxa de retenção de 15% semanal e 4% mensal. Não é uma taxa alta, "
   ]
  }
 ],
 "metadata": {
  "kernelspec": {
   "display_name": "Python 3 (ipykernel)",
   "language": "python",
   "name": "python3"
  },
  "language_info": {
   "codemirror_mode": {
    "name": "ipython",
    "version": 3
   },
   "file_extension": ".py",
   "mimetype": "text/x-python",
   "name": "python",
   "nbconvert_exporter": "python",
   "pygments_lexer": "ipython3",
   "version": "3.9.5"
  },
  "toc": {
   "base_numbering": 1,
   "nav_menu": {},
   "number_sections": true,
   "sideBar": true,
   "skip_h1_title": true,
   "title_cell": "Table of Contents",
   "title_sidebar": "Contents",
   "toc_cell": false,
   "toc_position": {},
   "toc_section_display": true,
   "toc_window_display": false
  }
 },
 "nbformat": 4,
 "nbformat_minor": 2
}
