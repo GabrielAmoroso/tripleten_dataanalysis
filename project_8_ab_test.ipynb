{
 "cells": [
  {
   "cell_type": "markdown",
   "metadata": {},
   "source": [
    "# Resumo do pedido\n",
    "\n",
    "Você é analista em uma grande loja online. Junto com o departamento de marketing, você compilou uma lista de hipóteses que podem ajudar a aumentar a receita.\n",
    "\n",
    "Você precisa priorizar essas hipóteses, lançar um teste A/B e analisar os resultados."
   ]
  },
  {
   "cell_type": "markdown",
   "metadata": {},
   "source": [
    "# 1.1 Carregando bibliotecas necessárias"
   ]
  },
  {
   "cell_type": "code",
   "execution_count": 1,
   "metadata": {},
   "outputs": [],
   "source": [
    "import pandas as pd\n",
    "from scipy import stats as st\n",
    "import matplotlib.pyplot as plt\n",
    "import numpy as np\n",
    "import datetime as dt\n",
    "import scipy.stats as stats\n"
   ]
  },
  {
   "cell_type": "markdown",
   "metadata": {},
   "source": [
    "# 1.2 Carregando dados fornecidos"
   ]
  },
  {
   "cell_type": "code",
   "execution_count": 2,
   "metadata": {},
   "outputs": [],
   "source": [
    "hypothesis_data = pd.read_csv('/datasets/hypotheses_us.csv', sep = ';')\n",
    "orders_data = pd.read_csv('/datasets/orders_us.csv')\n",
    "visits_data = pd.read_csv('/datasets/visits_us.csv')"
   ]
  },
  {
   "cell_type": "markdown",
   "metadata": {},
   "source": [
    "# 2.1 Pré-processamento dos dados"
   ]
  },
  {
   "cell_type": "markdown",
   "metadata": {},
   "source": [
    "# 2.2.1 Análises Iniciais (Hipóteses)"
   ]
  },
  {
   "cell_type": "markdown",
   "metadata": {},
   "source": [
    "Primeiro, vamos checar as informações dos datasets fornecidos: checar os dados presentes, quais são os tipos de dados que temos, checar valores ausentes e duplicatas. \n",
    "\n",
    "Após essas checagens, vamos fazer as mudanças necessárias. \n",
    "\n",
    "Como temos pedidos diferentes pros datasets, vamos primeiro analisar o dataset de hipóteses. Depois os de pedidos e os de visitantes."
   ]
  },
  {
   "cell_type": "code",
   "execution_count": 3,
   "metadata": {},
   "outputs": [
    {
     "name": "stdout",
     "output_type": "stream",
     "text": [
      "<class 'pandas.core.frame.DataFrame'>\n",
      "RangeIndex: 9 entries, 0 to 8\n",
      "Data columns (total 5 columns):\n",
      " #   Column      Non-Null Count  Dtype \n",
      "---  ------      --------------  ----- \n",
      " 0   Hypothesis  9 non-null      object\n",
      " 1   Reach       9 non-null      int64 \n",
      " 2   Impact      9 non-null      int64 \n",
      " 3   Confidence  9 non-null      int64 \n",
      " 4   Effort      9 non-null      int64 \n",
      "dtypes: int64(4), object(1)\n",
      "memory usage: 488.0+ bytes\n"
     ]
    }
   ],
   "source": [
    "hypothesis_data.info()"
   ]
  },
  {
   "cell_type": "markdown",
   "metadata": {},
   "source": [
    "Todos dados estão agrupados em uma única coluna, mas já separei no carregamento do arquivo."
   ]
  },
  {
   "cell_type": "code",
   "execution_count": 4,
   "metadata": {},
   "outputs": [
    {
     "name": "stdout",
     "output_type": "stream",
     "text": [
      "<class 'pandas.core.frame.DataFrame'>\n",
      "RangeIndex: 9 entries, 0 to 8\n",
      "Data columns (total 5 columns):\n",
      " #   Column      Non-Null Count  Dtype \n",
      "---  ------      --------------  ----- \n",
      " 0   Hypothesis  9 non-null      object\n",
      " 1   Reach       9 non-null      int64 \n",
      " 2   Impact      9 non-null      int64 \n",
      " 3   Confidence  9 non-null      int64 \n",
      " 4   Effort      9 non-null      int64 \n",
      "dtypes: int64(4), object(1)\n",
      "memory usage: 488.0+ bytes\n"
     ]
    }
   ],
   "source": [
    "hypothesis_data.info()"
   ]
  },
  {
   "cell_type": "markdown",
   "metadata": {},
   "source": [
    "Como todas colunas estão em tipo object, vamos modificar todas exceto 'hypothesis' para tipo int."
   ]
  },
  {
   "cell_type": "code",
   "execution_count": 5,
   "metadata": {},
   "outputs": [
    {
     "name": "stdout",
     "output_type": "stream",
     "text": [
      "<class 'pandas.core.frame.DataFrame'>\n",
      "RangeIndex: 9 entries, 0 to 8\n",
      "Data columns (total 5 columns):\n",
      " #   Column      Non-Null Count  Dtype \n",
      "---  ------      --------------  ----- \n",
      " 0   Hypothesis  9 non-null      object\n",
      " 1   Reach       9 non-null      int64 \n",
      " 2   Impact      9 non-null      int64 \n",
      " 3   Confidence  9 non-null      int64 \n",
      " 4   Effort      9 non-null      int64 \n",
      "dtypes: int64(4), object(1)\n",
      "memory usage: 488.0+ bytes\n"
     ]
    }
   ],
   "source": [
    "#hypothesis_data[['Hypothesis', 'Reach', 'Impact', 'Confidence', 'Effort']] = hypothesis_data[['Hypothesis', 'Reach', 'Impact', 'Confidence', 'Effort']].astype(str)\n",
    "#hypothesis_data[['Hypothesis', 'Reach', 'Impact', 'Confidence', 'Effort']] = hypothesis_data[['Hypothesis', 'Reach', 'Impact', 'Confidence', 'Effort']].apply(lambda x: x.str.lower())\n",
    "#hypothesis_data[['hypothesis', 'reach', 'impact', 'confidence', 'effort']] = hypothesis_data[['hypothesis', 'reach', 'impact', 'confidence', 'effort']].astype(int)\n",
    "hypothesis_data.info()"
   ]
  },
  {
   "cell_type": "markdown",
   "metadata": {},
   "source": [
    "Feito isso vimos que não temos nenhum problema com os dados. Agora vou analisar os pedidos e visitantes."
   ]
  },
  {
   "cell_type": "markdown",
   "metadata": {},
   "source": [
    "# 2.2.2 Análises Iniciais (Pedidos e Visitas)"
   ]
  },
  {
   "cell_type": "code",
   "execution_count": 6,
   "metadata": {},
   "outputs": [
    {
     "name": "stdout",
     "output_type": "stream",
     "text": [
      "<class 'pandas.core.frame.DataFrame'>\n",
      "RangeIndex: 1197 entries, 0 to 1196\n",
      "Data columns (total 5 columns):\n",
      " #   Column         Non-Null Count  Dtype  \n",
      "---  ------         --------------  -----  \n",
      " 0   transactionId  1197 non-null   int64  \n",
      " 1   visitorId      1197 non-null   int64  \n",
      " 2   date           1197 non-null   object \n",
      " 3   revenue        1197 non-null   float64\n",
      " 4   group          1197 non-null   object \n",
      "dtypes: float64(1), int64(2), object(2)\n",
      "memory usage: 46.9+ KB\n"
     ]
    }
   ],
   "source": [
    "orders_data.info()"
   ]
  },
  {
   "cell_type": "code",
   "execution_count": 7,
   "metadata": {},
   "outputs": [
    {
     "name": "stdout",
     "output_type": "stream",
     "text": [
      "transactionId    0\n",
      "visitorId        0\n",
      "date             0\n",
      "revenue          0\n",
      "group            0\n",
      "dtype: int64\n",
      "0\n"
     ]
    }
   ],
   "source": [
    "print(orders_data.isna().sum())\n",
    "print(orders_data.duplicated().sum())"
   ]
  },
  {
   "cell_type": "code",
   "execution_count": 8,
   "metadata": {},
   "outputs": [
    {
     "data": {
      "text/html": [
       "<div>\n",
       "<style scoped>\n",
       "    .dataframe tbody tr th:only-of-type {\n",
       "        vertical-align: middle;\n",
       "    }\n",
       "\n",
       "    .dataframe tbody tr th {\n",
       "        vertical-align: top;\n",
       "    }\n",
       "\n",
       "    .dataframe thead th {\n",
       "        text-align: right;\n",
       "    }\n",
       "</style>\n",
       "<table border=\"1\" class=\"dataframe\">\n",
       "  <thead>\n",
       "    <tr style=\"text-align: right;\">\n",
       "      <th></th>\n",
       "      <th>transactionId</th>\n",
       "      <th>visitorId</th>\n",
       "      <th>date</th>\n",
       "      <th>revenue</th>\n",
       "      <th>group</th>\n",
       "    </tr>\n",
       "  </thead>\n",
       "  <tbody>\n",
       "    <tr>\n",
       "      <th>0</th>\n",
       "      <td>3667963787</td>\n",
       "      <td>3312258926</td>\n",
       "      <td>2019-08-15</td>\n",
       "      <td>30.4</td>\n",
       "      <td>B</td>\n",
       "    </tr>\n",
       "    <tr>\n",
       "      <th>1</th>\n",
       "      <td>2804400009</td>\n",
       "      <td>3642806036</td>\n",
       "      <td>2019-08-15</td>\n",
       "      <td>15.2</td>\n",
       "      <td>B</td>\n",
       "    </tr>\n",
       "    <tr>\n",
       "      <th>2</th>\n",
       "      <td>2961555356</td>\n",
       "      <td>4069496402</td>\n",
       "      <td>2019-08-15</td>\n",
       "      <td>10.2</td>\n",
       "      <td>A</td>\n",
       "    </tr>\n",
       "    <tr>\n",
       "      <th>3</th>\n",
       "      <td>3797467345</td>\n",
       "      <td>1196621759</td>\n",
       "      <td>2019-08-15</td>\n",
       "      <td>155.1</td>\n",
       "      <td>B</td>\n",
       "    </tr>\n",
       "    <tr>\n",
       "      <th>4</th>\n",
       "      <td>2282983706</td>\n",
       "      <td>2322279887</td>\n",
       "      <td>2019-08-15</td>\n",
       "      <td>40.5</td>\n",
       "      <td>B</td>\n",
       "    </tr>\n",
       "    <tr>\n",
       "      <th>5</th>\n",
       "      <td>182168103</td>\n",
       "      <td>935554773</td>\n",
       "      <td>2019-08-15</td>\n",
       "      <td>35.0</td>\n",
       "      <td>B</td>\n",
       "    </tr>\n",
       "    <tr>\n",
       "      <th>6</th>\n",
       "      <td>398296753</td>\n",
       "      <td>2900797465</td>\n",
       "      <td>2019-08-15</td>\n",
       "      <td>30.6</td>\n",
       "      <td>B</td>\n",
       "    </tr>\n",
       "    <tr>\n",
       "      <th>7</th>\n",
       "      <td>2626614568</td>\n",
       "      <td>78758296</td>\n",
       "      <td>2019-08-15</td>\n",
       "      <td>20.1</td>\n",
       "      <td>A</td>\n",
       "    </tr>\n",
       "    <tr>\n",
       "      <th>8</th>\n",
       "      <td>1576988021</td>\n",
       "      <td>295230930</td>\n",
       "      <td>2019-08-15</td>\n",
       "      <td>215.9</td>\n",
       "      <td>A</td>\n",
       "    </tr>\n",
       "    <tr>\n",
       "      <th>9</th>\n",
       "      <td>1506739906</td>\n",
       "      <td>1882260405</td>\n",
       "      <td>2019-08-15</td>\n",
       "      <td>30.5</td>\n",
       "      <td>B</td>\n",
       "    </tr>\n",
       "    <tr>\n",
       "      <th>10</th>\n",
       "      <td>3649131742</td>\n",
       "      <td>879864040</td>\n",
       "      <td>2019-08-15</td>\n",
       "      <td>65.7</td>\n",
       "      <td>A</td>\n",
       "    </tr>\n",
       "    <tr>\n",
       "      <th>11</th>\n",
       "      <td>1919444843</td>\n",
       "      <td>927791387</td>\n",
       "      <td>2019-08-15</td>\n",
       "      <td>70.2</td>\n",
       "      <td>B</td>\n",
       "    </tr>\n",
       "    <tr>\n",
       "      <th>12</th>\n",
       "      <td>2809384911</td>\n",
       "      <td>3213223594</td>\n",
       "      <td>2019-08-15</td>\n",
       "      <td>115.4</td>\n",
       "      <td>A</td>\n",
       "    </tr>\n",
       "    <tr>\n",
       "      <th>13</th>\n",
       "      <td>3044797713</td>\n",
       "      <td>728063420</td>\n",
       "      <td>2019-08-15</td>\n",
       "      <td>185.4</td>\n",
       "      <td>B</td>\n",
       "    </tr>\n",
       "    <tr>\n",
       "      <th>14</th>\n",
       "      <td>3859315276</td>\n",
       "      <td>1565034404</td>\n",
       "      <td>2019-08-15</td>\n",
       "      <td>170.9</td>\n",
       "      <td>A</td>\n",
       "    </tr>\n",
       "    <tr>\n",
       "      <th>15</th>\n",
       "      <td>2550768810</td>\n",
       "      <td>2742574263</td>\n",
       "      <td>2019-08-15</td>\n",
       "      <td>235.0</td>\n",
       "      <td>B</td>\n",
       "    </tr>\n",
       "    <tr>\n",
       "      <th>16</th>\n",
       "      <td>1820531107</td>\n",
       "      <td>2973109265</td>\n",
       "      <td>2019-08-15</td>\n",
       "      <td>20.3</td>\n",
       "      <td>B</td>\n",
       "    </tr>\n",
       "    <tr>\n",
       "      <th>17</th>\n",
       "      <td>1108180333</td>\n",
       "      <td>222718357</td>\n",
       "      <td>2019-08-15</td>\n",
       "      <td>20.2</td>\n",
       "      <td>B</td>\n",
       "    </tr>\n",
       "    <tr>\n",
       "      <th>18</th>\n",
       "      <td>1822256754</td>\n",
       "      <td>4227830084</td>\n",
       "      <td>2019-08-15</td>\n",
       "      <td>255.7</td>\n",
       "      <td>A</td>\n",
       "    </tr>\n",
       "    <tr>\n",
       "      <th>19</th>\n",
       "      <td>674584210</td>\n",
       "      <td>3207734412</td>\n",
       "      <td>2019-08-15</td>\n",
       "      <td>20.3</td>\n",
       "      <td>A</td>\n",
       "    </tr>\n",
       "  </tbody>\n",
       "</table>\n",
       "</div>"
      ],
      "text/plain": [
       "    transactionId   visitorId        date  revenue group\n",
       "0      3667963787  3312258926  2019-08-15     30.4     B\n",
       "1      2804400009  3642806036  2019-08-15     15.2     B\n",
       "2      2961555356  4069496402  2019-08-15     10.2     A\n",
       "3      3797467345  1196621759  2019-08-15    155.1     B\n",
       "4      2282983706  2322279887  2019-08-15     40.5     B\n",
       "5       182168103   935554773  2019-08-15     35.0     B\n",
       "6       398296753  2900797465  2019-08-15     30.6     B\n",
       "7      2626614568    78758296  2019-08-15     20.1     A\n",
       "8      1576988021   295230930  2019-08-15    215.9     A\n",
       "9      1506739906  1882260405  2019-08-15     30.5     B\n",
       "10     3649131742   879864040  2019-08-15     65.7     A\n",
       "11     1919444843   927791387  2019-08-15     70.2     B\n",
       "12     2809384911  3213223594  2019-08-15    115.4     A\n",
       "13     3044797713   728063420  2019-08-15    185.4     B\n",
       "14     3859315276  1565034404  2019-08-15    170.9     A\n",
       "15     2550768810  2742574263  2019-08-15    235.0     B\n",
       "16     1820531107  2973109265  2019-08-15     20.3     B\n",
       "17     1108180333   222718357  2019-08-15     20.2     B\n",
       "18     1822256754  4227830084  2019-08-15    255.7     A\n",
       "19      674584210  3207734412  2019-08-15     20.3     A"
      ]
     },
     "execution_count": 8,
     "metadata": {},
     "output_type": "execute_result"
    }
   ],
   "source": [
    "orders_data.head(20)"
   ]
  },
  {
   "cell_type": "markdown",
   "metadata": {},
   "source": [
    "Resultados da primeira análise:\n",
    "\n",
    "1) Os nomes das colunas transactionId e visitorId não estão ideais. Vou melhora-las adicionando um \"_\".\n",
    "\n",
    "2) Com relação aos tipos de dados das colunas:\n",
    "   - Date vai ser convertido pra tipo datetime.\n",
    "    \n",
    "3) Não encontramos valores ausentes nem duplicatas."
   ]
  },
  {
   "cell_type": "code",
   "execution_count": 9,
   "metadata": {},
   "outputs": [],
   "source": [
    "orders_data = orders_data.rename(columns={'transactionId': 'transaction_id', 'visitorId': 'visitor_id'})"
   ]
  },
  {
   "cell_type": "code",
   "execution_count": 10,
   "metadata": {},
   "outputs": [],
   "source": [
    "orders_data['date'] = orders_data['date'].map(lambda x: dt.datetime.strptime(x, '%Y-%m-%d'))"
   ]
  },
  {
   "cell_type": "code",
   "execution_count": 11,
   "metadata": {},
   "outputs": [
    {
     "name": "stdout",
     "output_type": "stream",
     "text": [
      "<class 'pandas.core.frame.DataFrame'>\n",
      "RangeIndex: 1197 entries, 0 to 1196\n",
      "Data columns (total 5 columns):\n",
      " #   Column          Non-Null Count  Dtype         \n",
      "---  ------          --------------  -----         \n",
      " 0   transaction_id  1197 non-null   int64         \n",
      " 1   visitor_id      1197 non-null   int64         \n",
      " 2   date            1197 non-null   datetime64[ns]\n",
      " 3   revenue         1197 non-null   float64       \n",
      " 4   group           1197 non-null   object        \n",
      "dtypes: datetime64[ns](1), float64(1), int64(2), object(1)\n",
      "memory usage: 46.9+ KB\n"
     ]
    }
   ],
   "source": [
    "orders_data.info()"
   ]
  },
  {
   "cell_type": "code",
   "execution_count": 12,
   "metadata": {},
   "outputs": [
    {
     "name": "stdout",
     "output_type": "stream",
     "text": [
      "      transaction_id  visitor_id       date  revenue group\n",
      "0         3667963787  3312258926 2019-08-15     30.4     B\n",
      "1         2804400009  3642806036 2019-08-15     15.2     B\n",
      "2         2961555356  4069496402 2019-08-15     10.2     A\n",
      "3         3797467345  1196621759 2019-08-15    155.1     B\n",
      "4         2282983706  2322279887 2019-08-15     40.5     B\n",
      "...              ...         ...        ...      ...   ...\n",
      "1192      2662137336  3733762160 2019-08-14    100.8     B\n",
      "1193      2203539145   370388673 2019-08-14     50.1     A\n",
      "1194      1807773912   573423106 2019-08-14    165.3     A\n",
      "1195      1947021204  1614305549 2019-08-14      5.5     A\n",
      "1196      3936777065  2108080724 2019-08-15   3120.1     B\n",
      "\n",
      "[1197 rows x 5 columns]\n"
     ]
    }
   ],
   "source": [
    "print(orders_data)"
   ]
  },
  {
   "cell_type": "markdown",
   "metadata": {},
   "source": [
    "Com isso corrigido, vamos checar se algum visitor_id está presente tanto no grupo A como no B."
   ]
  },
  {
   "cell_type": "code",
   "execution_count": 13,
   "metadata": {},
   "outputs": [
    {
     "data": {
      "text/plain": [
       "group\n",
       "A    503\n",
       "B    586\n",
       "Name: visitor_id, dtype: int64"
      ]
     },
     "execution_count": 13,
     "metadata": {},
     "output_type": "execute_result"
    }
   ],
   "source": [
    "orders_data.groupby('group')['visitor_id'].nunique()"
   ]
  },
  {
   "cell_type": "markdown",
   "metadata": {},
   "source": [
    "A soma desses valores é 1089, o que mostra que temos 108 visitantes não únicos. Porém, isso não indica que eles pertecem aos dois grupos ao mesmo tempo. Um mesmo visitante pode fazer 2 visitas e ainda assim estar alocado no grupo A. Isso não é um problema. Precisamos encontrar os visitantes que possuem um primeiro acesso no grupo A e um segundo acesso no grupo B.\n",
    "\n",
    "Vamos dividir esses visitantes baseado na data de primeiro acesso, e excluir os acessos seguintes que ele se encontra em outro grupo."
   ]
  },
  {
   "cell_type": "code",
   "execution_count": 14,
   "metadata": {},
   "outputs": [
    {
     "data": {
      "text/plain": [
       "58"
      ]
     },
     "execution_count": 14,
     "metadata": {},
     "output_type": "execute_result"
    }
   ],
   "source": [
    "duplicated_visitor_ids = orders_data[orders_data.duplicated(subset='visitor_id', keep=False)]\n",
    "group_counts = duplicated_visitor_ids.groupby('visitor_id')['group'].nunique()\n",
    "conflicting_visitors = group_counts[group_counts > 1].index.tolist()\n",
    "len(conflicting_visitors)"
   ]
  },
  {
   "cell_type": "markdown",
   "metadata": {},
   "source": [
    "Então temos 58 visitantes que foram alocados em dois grupos diferentes, dos 108 que tinhamos originalmente. Então esses 50 que visitaram em datas diferentes possuem o mesmo grupo.\n",
    "\n",
    "Aqui eu tive que tomar uma decisão sobre o que fazer com esses visitantes que possuíam grupos diferentes dependendo da compra.\n",
    "\n",
    "As opções eram: \n",
    "\n",
    "    1) remover todas linhas com transações com grupos diferentes do primeiro grupo: utilizando esse método vou perder muitos dados, o que pode enviesar muito meu resultado\n",
    "    2) substituir os visitantes pertencentes à grupos diferentes do grupo de primeiro acesso: nesse caso eu vou chegar quais foram os primeiros acessos dos visitantes e setar ele como o parâmetro. Depois vou passar todos acessos subsequentes daquele visitante para o mesmo grupo do primeiro acesso.\n",
    "    3) substituir os grupos dos visitante se baseando na maior compra: se o parâmetro utilizado pra definir os grupos foi a o valor da compra, então eu poderia fazer um filtro que padroniza baseado na compra. Porém eu não tenho nenhuma informação sobre isso.\n",
    "    \n",
    "O método 2 provavelmente vai gerar algumas anomalias na minha análise, enquanto o método 3 manteria uma melhor clareza dos resultados. No entanto, vou optar pelo método 2, pois não tenho garantia do método de divisão entre os grupos.\n",
    "\n",
    "Lidarei com valores atípicos mais adiante, caso eles aconteçam."
   ]
  },
  {
   "cell_type": "code",
   "execution_count": 15,
   "metadata": {},
   "outputs": [
    {
     "name": "stdout",
     "output_type": "stream",
     "text": [
      "B    639\n",
      "A    558\n",
      "Name: group, dtype: int64\n"
     ]
    }
   ],
   "source": [
    "for visitor_id in conflicting_visitors:\n",
    "    original_group = orders_data.loc[orders_data['visitor_id'] == visitor_id, 'group'].iloc[0]\n",
    "    orders_data.loc[orders_data['visitor_id'] == visitor_id, 'group'] = original_group\n",
    "\n",
    "print(orders_data['group'].value_counts())"
   ]
  },
  {
   "cell_type": "markdown",
   "metadata": {},
   "source": [
    "Com tudo isso feito, fiz a substitução dos grupos dos visitantes que foram alocados em outro grupo diferente do primeiro de quando eles entraram. Os visitantes repetidos que se mantiveram são porque eles pertencem ao mesmo grupo em todos os seus acessos."
   ]
  },
  {
   "cell_type": "code",
   "execution_count": 16,
   "metadata": {},
   "outputs": [
    {
     "name": "stdout",
     "output_type": "stream",
     "text": [
      "<class 'pandas.core.frame.DataFrame'>\n",
      "RangeIndex: 62 entries, 0 to 61\n",
      "Data columns (total 3 columns):\n",
      " #   Column  Non-Null Count  Dtype \n",
      "---  ------  --------------  ----- \n",
      " 0   date    62 non-null     object\n",
      " 1   group   62 non-null     object\n",
      " 2   visits  62 non-null     int64 \n",
      "dtypes: int64(1), object(2)\n",
      "memory usage: 1.6+ KB\n"
     ]
    }
   ],
   "source": [
    "visits_data.info()"
   ]
  },
  {
   "cell_type": "code",
   "execution_count": 17,
   "metadata": {},
   "outputs": [
    {
     "data": {
      "text/plain": [
       "date      0\n",
       "group     0\n",
       "visits    0\n",
       "dtype: int64"
      ]
     },
     "execution_count": 17,
     "metadata": {},
     "output_type": "execute_result"
    }
   ],
   "source": [
    "visits_data.isna().sum()"
   ]
  },
  {
   "cell_type": "code",
   "execution_count": 18,
   "metadata": {},
   "outputs": [
    {
     "data": {
      "text/plain": [
       "0"
      ]
     },
     "execution_count": 18,
     "metadata": {},
     "output_type": "execute_result"
    }
   ],
   "source": [
    "visits_data.duplicated().sum()"
   ]
  },
  {
   "cell_type": "code",
   "execution_count": 19,
   "metadata": {},
   "outputs": [
    {
     "data": {
      "text/html": [
       "<div>\n",
       "<style scoped>\n",
       "    .dataframe tbody tr th:only-of-type {\n",
       "        vertical-align: middle;\n",
       "    }\n",
       "\n",
       "    .dataframe tbody tr th {\n",
       "        vertical-align: top;\n",
       "    }\n",
       "\n",
       "    .dataframe thead th {\n",
       "        text-align: right;\n",
       "    }\n",
       "</style>\n",
       "<table border=\"1\" class=\"dataframe\">\n",
       "  <thead>\n",
       "    <tr style=\"text-align: right;\">\n",
       "      <th></th>\n",
       "      <th>date</th>\n",
       "      <th>group</th>\n",
       "      <th>visits</th>\n",
       "    </tr>\n",
       "  </thead>\n",
       "  <tbody>\n",
       "    <tr>\n",
       "      <th>0</th>\n",
       "      <td>2019-08-01</td>\n",
       "      <td>A</td>\n",
       "      <td>719</td>\n",
       "    </tr>\n",
       "    <tr>\n",
       "      <th>1</th>\n",
       "      <td>2019-08-02</td>\n",
       "      <td>A</td>\n",
       "      <td>619</td>\n",
       "    </tr>\n",
       "    <tr>\n",
       "      <th>2</th>\n",
       "      <td>2019-08-03</td>\n",
       "      <td>A</td>\n",
       "      <td>507</td>\n",
       "    </tr>\n",
       "    <tr>\n",
       "      <th>3</th>\n",
       "      <td>2019-08-04</td>\n",
       "      <td>A</td>\n",
       "      <td>717</td>\n",
       "    </tr>\n",
       "    <tr>\n",
       "      <th>4</th>\n",
       "      <td>2019-08-05</td>\n",
       "      <td>A</td>\n",
       "      <td>756</td>\n",
       "    </tr>\n",
       "  </tbody>\n",
       "</table>\n",
       "</div>"
      ],
      "text/plain": [
       "         date group  visits\n",
       "0  2019-08-01     A     719\n",
       "1  2019-08-02     A     619\n",
       "2  2019-08-03     A     507\n",
       "3  2019-08-04     A     717\n",
       "4  2019-08-05     A     756"
      ]
     },
     "execution_count": 19,
     "metadata": {},
     "output_type": "execute_result"
    }
   ],
   "source": [
    "visits_data.head()"
   ]
  },
  {
   "cell_type": "markdown",
   "metadata": {},
   "source": [
    "Resultados da primeira análise:\n",
    "\n",
    "1) Sem mudanças necessárias nas colunas.\n",
    "\n",
    "2) Com relação aos tipos de dados das colunas:\n",
    "   - Date vai ser convertido pra tipo datetime.\n",
    "    \n",
    "3) Não encontramos valores ausentes nem duplicatas."
   ]
  },
  {
   "cell_type": "code",
   "execution_count": 20,
   "metadata": {},
   "outputs": [],
   "source": [
    "visits_data['date'] = visits_data['date'].map(lambda x: dt.datetime.strptime(x, '%Y-%m-%d'))"
   ]
  },
  {
   "cell_type": "code",
   "execution_count": 21,
   "metadata": {
    "scrolled": false
   },
   "outputs": [
    {
     "name": "stdout",
     "output_type": "stream",
     "text": [
      "<class 'pandas.core.frame.DataFrame'>\n",
      "RangeIndex: 62 entries, 0 to 61\n",
      "Data columns (total 3 columns):\n",
      " #   Column  Non-Null Count  Dtype         \n",
      "---  ------  --------------  -----         \n",
      " 0   date    62 non-null     datetime64[ns]\n",
      " 1   group   62 non-null     object        \n",
      " 2   visits  62 non-null     int64         \n",
      "dtypes: datetime64[ns](1), int64(1), object(1)\n",
      "memory usage: 1.6+ KB\n"
     ]
    }
   ],
   "source": [
    "visits_data.info()\n"
   ]
  },
  {
   "cell_type": "code",
   "execution_count": 22,
   "metadata": {},
   "outputs": [
    {
     "data": {
      "text/html": [
       "<div>\n",
       "<style scoped>\n",
       "    .dataframe tbody tr th:only-of-type {\n",
       "        vertical-align: middle;\n",
       "    }\n",
       "\n",
       "    .dataframe tbody tr th {\n",
       "        vertical-align: top;\n",
       "    }\n",
       "\n",
       "    .dataframe thead th {\n",
       "        text-align: right;\n",
       "    }\n",
       "</style>\n",
       "<table border=\"1\" class=\"dataframe\">\n",
       "  <thead>\n",
       "    <tr style=\"text-align: right;\">\n",
       "      <th></th>\n",
       "      <th>date</th>\n",
       "      <th>group</th>\n",
       "      <th>visits</th>\n",
       "    </tr>\n",
       "  </thead>\n",
       "  <tbody>\n",
       "    <tr>\n",
       "      <th>0</th>\n",
       "      <td>2019-08-01</td>\n",
       "      <td>A</td>\n",
       "      <td>719</td>\n",
       "    </tr>\n",
       "    <tr>\n",
       "      <th>1</th>\n",
       "      <td>2019-08-02</td>\n",
       "      <td>A</td>\n",
       "      <td>619</td>\n",
       "    </tr>\n",
       "    <tr>\n",
       "      <th>2</th>\n",
       "      <td>2019-08-03</td>\n",
       "      <td>A</td>\n",
       "      <td>507</td>\n",
       "    </tr>\n",
       "    <tr>\n",
       "      <th>3</th>\n",
       "      <td>2019-08-04</td>\n",
       "      <td>A</td>\n",
       "      <td>717</td>\n",
       "    </tr>\n",
       "    <tr>\n",
       "      <th>4</th>\n",
       "      <td>2019-08-05</td>\n",
       "      <td>A</td>\n",
       "      <td>756</td>\n",
       "    </tr>\n",
       "    <tr>\n",
       "      <th>...</th>\n",
       "      <td>...</td>\n",
       "      <td>...</td>\n",
       "      <td>...</td>\n",
       "    </tr>\n",
       "    <tr>\n",
       "      <th>57</th>\n",
       "      <td>2019-08-27</td>\n",
       "      <td>B</td>\n",
       "      <td>720</td>\n",
       "    </tr>\n",
       "    <tr>\n",
       "      <th>58</th>\n",
       "      <td>2019-08-28</td>\n",
       "      <td>B</td>\n",
       "      <td>654</td>\n",
       "    </tr>\n",
       "    <tr>\n",
       "      <th>59</th>\n",
       "      <td>2019-08-29</td>\n",
       "      <td>B</td>\n",
       "      <td>531</td>\n",
       "    </tr>\n",
       "    <tr>\n",
       "      <th>60</th>\n",
       "      <td>2019-08-30</td>\n",
       "      <td>B</td>\n",
       "      <td>490</td>\n",
       "    </tr>\n",
       "    <tr>\n",
       "      <th>61</th>\n",
       "      <td>2019-08-31</td>\n",
       "      <td>B</td>\n",
       "      <td>718</td>\n",
       "    </tr>\n",
       "  </tbody>\n",
       "</table>\n",
       "<p>62 rows × 3 columns</p>\n",
       "</div>"
      ],
      "text/plain": [
       "         date group  visits\n",
       "0  2019-08-01     A     719\n",
       "1  2019-08-02     A     619\n",
       "2  2019-08-03     A     507\n",
       "3  2019-08-04     A     717\n",
       "4  2019-08-05     A     756\n",
       "..        ...   ...     ...\n",
       "57 2019-08-27     B     720\n",
       "58 2019-08-28     B     654\n",
       "59 2019-08-29     B     531\n",
       "60 2019-08-30     B     490\n",
       "61 2019-08-31     B     718\n",
       "\n",
       "[62 rows x 3 columns]"
      ]
     },
     "execution_count": 22,
     "metadata": {},
     "output_type": "execute_result"
    }
   ],
   "source": [
    "visits_data"
   ]
  },
  {
   "cell_type": "code",
   "execution_count": 23,
   "metadata": {},
   "outputs": [
    {
     "data": {
      "text/html": [
       "<div>\n",
       "<style scoped>\n",
       "    .dataframe tbody tr th:only-of-type {\n",
       "        vertical-align: middle;\n",
       "    }\n",
       "\n",
       "    .dataframe tbody tr th {\n",
       "        vertical-align: top;\n",
       "    }\n",
       "\n",
       "    .dataframe thead th {\n",
       "        text-align: right;\n",
       "    }\n",
       "</style>\n",
       "<table border=\"1\" class=\"dataframe\">\n",
       "  <thead>\n",
       "    <tr style=\"text-align: right;\">\n",
       "      <th>group</th>\n",
       "      <th>A</th>\n",
       "      <th>B</th>\n",
       "    </tr>\n",
       "    <tr>\n",
       "      <th>date</th>\n",
       "      <th></th>\n",
       "      <th></th>\n",
       "    </tr>\n",
       "  </thead>\n",
       "  <tbody>\n",
       "    <tr>\n",
       "      <th>2019-08-01</th>\n",
       "      <td>719</td>\n",
       "      <td>713</td>\n",
       "    </tr>\n",
       "    <tr>\n",
       "      <th>2019-08-02</th>\n",
       "      <td>619</td>\n",
       "      <td>581</td>\n",
       "    </tr>\n",
       "    <tr>\n",
       "      <th>2019-08-03</th>\n",
       "      <td>507</td>\n",
       "      <td>509</td>\n",
       "    </tr>\n",
       "    <tr>\n",
       "      <th>2019-08-04</th>\n",
       "      <td>717</td>\n",
       "      <td>770</td>\n",
       "    </tr>\n",
       "    <tr>\n",
       "      <th>2019-08-05</th>\n",
       "      <td>756</td>\n",
       "      <td>707</td>\n",
       "    </tr>\n",
       "    <tr>\n",
       "      <th>2019-08-06</th>\n",
       "      <td>667</td>\n",
       "      <td>655</td>\n",
       "    </tr>\n",
       "    <tr>\n",
       "      <th>2019-08-07</th>\n",
       "      <td>644</td>\n",
       "      <td>709</td>\n",
       "    </tr>\n",
       "    <tr>\n",
       "      <th>2019-08-08</th>\n",
       "      <td>610</td>\n",
       "      <td>654</td>\n",
       "    </tr>\n",
       "    <tr>\n",
       "      <th>2019-08-09</th>\n",
       "      <td>617</td>\n",
       "      <td>610</td>\n",
       "    </tr>\n",
       "    <tr>\n",
       "      <th>2019-08-10</th>\n",
       "      <td>406</td>\n",
       "      <td>369</td>\n",
       "    </tr>\n",
       "    <tr>\n",
       "      <th>2019-08-11</th>\n",
       "      <td>718</td>\n",
       "      <td>721</td>\n",
       "    </tr>\n",
       "    <tr>\n",
       "      <th>2019-08-12</th>\n",
       "      <td>595</td>\n",
       "      <td>543</td>\n",
       "    </tr>\n",
       "    <tr>\n",
       "      <th>2019-08-13</th>\n",
       "      <td>748</td>\n",
       "      <td>769</td>\n",
       "    </tr>\n",
       "    <tr>\n",
       "      <th>2019-08-14</th>\n",
       "      <td>735</td>\n",
       "      <td>746</td>\n",
       "    </tr>\n",
       "    <tr>\n",
       "      <th>2019-08-15</th>\n",
       "      <td>628</td>\n",
       "      <td>544</td>\n",
       "    </tr>\n",
       "    <tr>\n",
       "      <th>2019-08-16</th>\n",
       "      <td>361</td>\n",
       "      <td>413</td>\n",
       "    </tr>\n",
       "    <tr>\n",
       "      <th>2019-08-17</th>\n",
       "      <td>412</td>\n",
       "      <td>421</td>\n",
       "    </tr>\n",
       "    <tr>\n",
       "      <th>2019-08-18</th>\n",
       "      <td>668</td>\n",
       "      <td>737</td>\n",
       "    </tr>\n",
       "    <tr>\n",
       "      <th>2019-08-19</th>\n",
       "      <td>502</td>\n",
       "      <td>487</td>\n",
       "    </tr>\n",
       "    <tr>\n",
       "      <th>2019-08-20</th>\n",
       "      <td>575</td>\n",
       "      <td>560</td>\n",
       "    </tr>\n",
       "    <tr>\n",
       "      <th>2019-08-21</th>\n",
       "      <td>646</td>\n",
       "      <td>656</td>\n",
       "    </tr>\n",
       "    <tr>\n",
       "      <th>2019-08-22</th>\n",
       "      <td>609</td>\n",
       "      <td>650</td>\n",
       "    </tr>\n",
       "    <tr>\n",
       "      <th>2019-08-23</th>\n",
       "      <td>468</td>\n",
       "      <td>546</td>\n",
       "    </tr>\n",
       "    <tr>\n",
       "      <th>2019-08-24</th>\n",
       "      <td>395</td>\n",
       "      <td>378</td>\n",
       "    </tr>\n",
       "    <tr>\n",
       "      <th>2019-08-25</th>\n",
       "      <td>621</td>\n",
       "      <td>679</td>\n",
       "    </tr>\n",
       "    <tr>\n",
       "      <th>2019-08-26</th>\n",
       "      <td>722</td>\n",
       "      <td>676</td>\n",
       "    </tr>\n",
       "    <tr>\n",
       "      <th>2019-08-27</th>\n",
       "      <td>711</td>\n",
       "      <td>720</td>\n",
       "    </tr>\n",
       "    <tr>\n",
       "      <th>2019-08-28</th>\n",
       "      <td>594</td>\n",
       "      <td>654</td>\n",
       "    </tr>\n",
       "    <tr>\n",
       "      <th>2019-08-29</th>\n",
       "      <td>577</td>\n",
       "      <td>531</td>\n",
       "    </tr>\n",
       "    <tr>\n",
       "      <th>2019-08-30</th>\n",
       "      <td>490</td>\n",
       "      <td>490</td>\n",
       "    </tr>\n",
       "    <tr>\n",
       "      <th>2019-08-31</th>\n",
       "      <td>699</td>\n",
       "      <td>718</td>\n",
       "    </tr>\n",
       "  </tbody>\n",
       "</table>\n",
       "</div>"
      ],
      "text/plain": [
       "group         A    B\n",
       "date                \n",
       "2019-08-01  719  713\n",
       "2019-08-02  619  581\n",
       "2019-08-03  507  509\n",
       "2019-08-04  717  770\n",
       "2019-08-05  756  707\n",
       "2019-08-06  667  655\n",
       "2019-08-07  644  709\n",
       "2019-08-08  610  654\n",
       "2019-08-09  617  610\n",
       "2019-08-10  406  369\n",
       "2019-08-11  718  721\n",
       "2019-08-12  595  543\n",
       "2019-08-13  748  769\n",
       "2019-08-14  735  746\n",
       "2019-08-15  628  544\n",
       "2019-08-16  361  413\n",
       "2019-08-17  412  421\n",
       "2019-08-18  668  737\n",
       "2019-08-19  502  487\n",
       "2019-08-20  575  560\n",
       "2019-08-21  646  656\n",
       "2019-08-22  609  650\n",
       "2019-08-23  468  546\n",
       "2019-08-24  395  378\n",
       "2019-08-25  621  679\n",
       "2019-08-26  722  676\n",
       "2019-08-27  711  720\n",
       "2019-08-28  594  654\n",
       "2019-08-29  577  531\n",
       "2019-08-30  490  490\n",
       "2019-08-31  699  718"
      ]
     },
     "execution_count": 23,
     "metadata": {},
     "output_type": "execute_result"
    }
   ],
   "source": [
    "visits_pivot = visits_data.pivot_table(index = 'date', columns = 'group', values = 'visits', aggfunc = 'sum')\n",
    "visits_pivot"
   ]
  },
  {
   "cell_type": "markdown",
   "metadata": {},
   "source": [
    "Não é necessário realizar nenhuma outra correção em visits_data."
   ]
  },
  {
   "cell_type": "markdown",
   "metadata": {},
   "source": [
    "# 3.1 Priorizando hipóteses"
   ]
  },
  {
   "cell_type": "markdown",
   "metadata": {},
   "source": [
    "Temos 9 hipóteses para checar quais são as prioritárias. Vamos analisá-las baseando nos métodos ICE e RICE.\n",
    "\n",
    "Primeiro, farei o método ICE"
   ]
  },
  {
   "cell_type": "markdown",
   "metadata": {},
   "source": [
    "# 3.1.1 Métodos ICE e RICE"
   ]
  },
  {
   "cell_type": "code",
   "execution_count": 24,
   "metadata": {},
   "outputs": [
    {
     "data": {
      "text/html": [
       "<div>\n",
       "<style scoped>\n",
       "    .dataframe tbody tr th:only-of-type {\n",
       "        vertical-align: middle;\n",
       "    }\n",
       "\n",
       "    .dataframe tbody tr th {\n",
       "        vertical-align: top;\n",
       "    }\n",
       "\n",
       "    .dataframe thead th {\n",
       "        text-align: right;\n",
       "    }\n",
       "</style>\n",
       "<table border=\"1\" class=\"dataframe\">\n",
       "  <thead>\n",
       "    <tr style=\"text-align: right;\">\n",
       "      <th></th>\n",
       "      <th>Hypothesis</th>\n",
       "      <th>Reach</th>\n",
       "      <th>Impact</th>\n",
       "      <th>Confidence</th>\n",
       "      <th>Effort</th>\n",
       "    </tr>\n",
       "  </thead>\n",
       "  <tbody>\n",
       "    <tr>\n",
       "      <th>0</th>\n",
       "      <td>Add two new channels for attracting traffic. T...</td>\n",
       "      <td>3</td>\n",
       "      <td>10</td>\n",
       "      <td>8</td>\n",
       "      <td>6</td>\n",
       "    </tr>\n",
       "    <tr>\n",
       "      <th>1</th>\n",
       "      <td>Launch your own delivery service. This will sh...</td>\n",
       "      <td>2</td>\n",
       "      <td>5</td>\n",
       "      <td>4</td>\n",
       "      <td>10</td>\n",
       "    </tr>\n",
       "    <tr>\n",
       "      <th>2</th>\n",
       "      <td>Add product recommendation blocks to the store...</td>\n",
       "      <td>8</td>\n",
       "      <td>3</td>\n",
       "      <td>7</td>\n",
       "      <td>3</td>\n",
       "    </tr>\n",
       "    <tr>\n",
       "      <th>3</th>\n",
       "      <td>Change the category structure. This will incre...</td>\n",
       "      <td>8</td>\n",
       "      <td>3</td>\n",
       "      <td>3</td>\n",
       "      <td>8</td>\n",
       "    </tr>\n",
       "    <tr>\n",
       "      <th>4</th>\n",
       "      <td>Change the background color on the main page. ...</td>\n",
       "      <td>3</td>\n",
       "      <td>1</td>\n",
       "      <td>1</td>\n",
       "      <td>1</td>\n",
       "    </tr>\n",
       "    <tr>\n",
       "      <th>5</th>\n",
       "      <td>Add a customer review page. This will increase...</td>\n",
       "      <td>3</td>\n",
       "      <td>2</td>\n",
       "      <td>2</td>\n",
       "      <td>3</td>\n",
       "    </tr>\n",
       "    <tr>\n",
       "      <th>6</th>\n",
       "      <td>Show banners with current offers and sales on ...</td>\n",
       "      <td>5</td>\n",
       "      <td>3</td>\n",
       "      <td>8</td>\n",
       "      <td>3</td>\n",
       "    </tr>\n",
       "    <tr>\n",
       "      <th>7</th>\n",
       "      <td>Add a subscription form to all the main pages....</td>\n",
       "      <td>10</td>\n",
       "      <td>7</td>\n",
       "      <td>8</td>\n",
       "      <td>5</td>\n",
       "    </tr>\n",
       "    <tr>\n",
       "      <th>8</th>\n",
       "      <td>Launch a promotion that gives users discounts ...</td>\n",
       "      <td>1</td>\n",
       "      <td>9</td>\n",
       "      <td>9</td>\n",
       "      <td>5</td>\n",
       "    </tr>\n",
       "  </tbody>\n",
       "</table>\n",
       "</div>"
      ],
      "text/plain": [
       "                                          Hypothesis  Reach  Impact  \\\n",
       "0  Add two new channels for attracting traffic. T...      3      10   \n",
       "1  Launch your own delivery service. This will sh...      2       5   \n",
       "2  Add product recommendation blocks to the store...      8       3   \n",
       "3  Change the category structure. This will incre...      8       3   \n",
       "4  Change the background color on the main page. ...      3       1   \n",
       "5  Add a customer review page. This will increase...      3       2   \n",
       "6  Show banners with current offers and sales on ...      5       3   \n",
       "7  Add a subscription form to all the main pages....     10       7   \n",
       "8  Launch a promotion that gives users discounts ...      1       9   \n",
       "\n",
       "   Confidence  Effort  \n",
       "0           8       6  \n",
       "1           4      10  \n",
       "2           7       3  \n",
       "3           3       8  \n",
       "4           1       1  \n",
       "5           2       3  \n",
       "6           8       3  \n",
       "7           8       5  \n",
       "8           9       5  "
      ]
     },
     "execution_count": 24,
     "metadata": {},
     "output_type": "execute_result"
    }
   ],
   "source": [
    "hypothesis_data"
   ]
  },
  {
   "cell_type": "code",
   "execution_count": 25,
   "metadata": {},
   "outputs": [
    {
     "name": "stdout",
     "output_type": "stream",
     "text": [
      "                                          Hypothesis        ICE\n",
      "8  Launch a promotion that gives users discounts ...  16.200000\n",
      "0  Add two new channels for attracting traffic. T...  13.333333\n",
      "7  Add a subscription form to all the main pages....  11.200000\n",
      "6  Show banners with current offers and sales on ...   8.000000\n",
      "2  Add product recommendation blocks to the store...   7.000000\n",
      "1  Launch your own delivery service. This will sh...   2.000000\n",
      "5  Add a customer review page. This will increase...   1.333333\n",
      "3  Change the category structure. This will incre...   1.125000\n",
      "4  Change the background color on the main page. ...   1.000000\n"
     ]
    }
   ],
   "source": [
    "hypothesis_data['ICE'] = (hypothesis_data['Impact'] * hypothesis_data['Confidence']) / hypothesis_data['Effort']\n",
    "print(hypothesis_data[['Hypothesis','ICE']].sort_values(by='ICE', ascending=False))"
   ]
  },
  {
   "cell_type": "code",
   "execution_count": 26,
   "metadata": {},
   "outputs": [
    {
     "name": "stdout",
     "output_type": "stream",
     "text": [
      "                                          Hypothesis   RICE\n",
      "7  Add a subscription form to all the main pages....  112.0\n",
      "2  Add product recommendation blocks to the store...   56.0\n",
      "0  Add two new channels for attracting traffic. T...   40.0\n",
      "6  Show banners with current offers and sales on ...   40.0\n",
      "8  Launch a promotion that gives users discounts ...   16.2\n",
      "3  Change the category structure. This will incre...    9.0\n",
      "1  Launch your own delivery service. This will sh...    4.0\n",
      "5  Add a customer review page. This will increase...    4.0\n",
      "4  Change the background color on the main page. ...    3.0\n"
     ]
    }
   ],
   "source": [
    "hypothesis_data['RICE'] = (hypothesis_data['Reach'] * hypothesis_data['Impact'] * hypothesis_data['Confidence']) / hypothesis_data['Effort']\n",
    "print(hypothesis_data[['Hypothesis','RICE']].sort_values(by='RICE', ascending=False))"
   ]
  },
  {
   "cell_type": "code",
   "execution_count": 27,
   "metadata": {},
   "outputs": [
    {
     "data": {
      "image/png": "[encoded data removed]",
      "text/plain": [
       "<Figure size 864x432 with 1 Axes>"
      ]
     },
     "metadata": {
      "needs_background": "light"
     },
     "output_type": "display_data"
    }
   ],
   "source": [
    "plt.figure(figsize=(12, 6))\n",
    "\n",
    "plt.bar(['Hypothesis {}'.format(i + 1) for i in range(len(hypothesis_data))], hypothesis_data['ICE'], color='blue', label='ICE')\n",
    "plt.bar(['Hypothesis {}'.format(i + 1) for i in range(len(hypothesis_data))], hypothesis_data['RICE'], color='green', alpha=0.5, label='RICE')\n",
    "\n",
    "plt.xlabel('Hypothesis')\n",
    "plt.ylabel('Values')\n",
    "plt.title('ICE and RICE Values for Hypothesis')\n",
    "plt.xticks(rotation=45, ha='right') \n",
    "plt.legend() \n",
    "plt.tight_layout() \n",
    "plt.show()\n"
   ]
  },
  {
   "cell_type": "markdown",
   "metadata": {},
   "source": [
    "Com o gráfico podemos visualizar melhor as diferenças de e ICE e RICE e encontrar exatamente os pontos que apresentam diferenças entre as duas análises.\n",
    "\n",
    "    1) Todos os valores de RICE são maiores do que ICE: isso faz sentido, pois ao fazer a multiplicação por mais um valor (reach) é plausível que a prioridade aumente. No entanto, na hipótese 9 só vemos o valor de ICE. Isso acontece pois ICE e RICE possuem o mesmo valor. É possível ver que reach apresenta valor 1 na hipótese 9, então o valor de ICE e RICE obviamente vai ser o mesmo.\n",
    "    \n",
    "    2) Inclusive, a hipótese 9 é a que apresenta o maior ICE dentre todas. Então quando não é levado em consideração o alcance, é a hipótese que apresenta o melhor resultado em questão de prioridade. Porém, como o alcance dela é mínimo, não existem muitas vantagens quando feita a análise no método RICE.\n",
    "    \n",
    "    3) As hipóteses com as menores prioridades são as mesmas para ICE e para RICE: as hipóteses 2, 4, 5 e 6 são as últimas em prioridade independente do tipo de análise. Isso acontece devido ao alto esforço para implementação da hipótese para as opções 2 e 4, e aos baixo impacto, alcance e confidência para 5 e 6. Então, utilizando esses parâmetros, essas hipóteses não possuem uma prioridade alta.\n",
    "    \n",
    "    4) As hipóteses 1, 3, 7 e 8 são as que possuem o maior alcance: isso explica o valor elevado de RICE para essas hipóteses. A hipótese 1 é a que apresenta os melhores valores de impacto e confiança, e mesmo com um alcance baixo, ainda assim consegue alcançar um alto valor de prioridade. Enquanto isso, as hipóteses 3, 7 e 8 possuem valores altos de alcance, que compensam os baixos valores de impacto e confiança. Inclusive, o alcance da hipótese 8 é tão grande (10) que no método RICE atingiu o maior valor por muito (o dobro da segunda maior prioridade). \n",
    "    \n",
    "    5) Pelo método ICE, priorizariamos a hipótese 9, enquanto pelo método RICE priorizariamos a hipótese 8 e depois a 3.\n",
    "    "
   ]
  },
  {
   "cell_type": "markdown",
   "metadata": {},
   "source": [
    "# 4.1 Teste A/B"
   ]
  },
  {
   "cell_type": "markdown",
   "metadata": {},
   "source": [
    "Vou agora realizar o passo a passo do teste A/B, explicando e fazendo conclusões a cada passo."
   ]
  },
  {
   "cell_type": "markdown",
   "metadata": {},
   "source": [
    "# 4.1.1 Gráficos de receita"
   ]
  },
  {
   "cell_type": "markdown",
   "metadata": {},
   "source": [
    "Primeiro vou fazer um gráfico de receita acumulada por grupo."
   ]
  },
  {
   "cell_type": "code",
   "execution_count": 28,
   "metadata": {},
   "outputs": [
    {
     "name": "stdout",
     "output_type": "stream",
     "text": [
      "         date group  orders  buyers  revenue  visits\n",
      "0  2019-08-01     A      23      19   2266.6     719\n",
      "1  2019-08-01     B      22      21   1710.2     713\n",
      "2  2019-08-02     A      43      37   3790.6    1338\n",
      "3  2019-08-02     B      46      43   4313.5    1294\n",
      "4  2019-08-03     A      67      61   5605.8    1845\n",
      "..        ...   ...     ...     ...      ...     ...\n",
      "57 2019-08-29     B     595     517  84860.7   17708\n",
      "58 2019-08-30     A     549     467  66152.3   18037\n",
      "59 2019-08-30     B     616     538  88147.5   18198\n",
      "60 2019-08-31     A     558     475  67241.1   18736\n",
      "61 2019-08-31     B     639     556  90154.4   18916\n",
      "\n",
      "[62 rows x 6 columns]\n"
     ]
    }
   ],
   "source": [
    "dates_groups = orders_data[['date','group']].drop_duplicates()\n",
    "orders_aggregated = dates_groups.apply(\n",
    "                   lambda x: orders_data[np.logical_and(orders_data['date'] <= x['date'], orders_data['group'] == x['group'])].agg(\n",
    "                   {'date' : 'max', 'group' : 'max', 'transaction_id' : pd.Series.nunique, 'visitor_id' : pd.Series.nunique, 'revenue' : 'sum'}\n",
    "                   ), axis=1).sort_values(by=['date','group'])\n",
    "\n",
    "visitors_aggregated = dates_groups.apply(\n",
    "                     lambda x: visits_data[np.logical_and(visits_data['date'] <= x['date'], visits_data['group'] == x['group'])].agg(\n",
    "                     {'date' : 'max', 'group' : 'max', 'visits' : 'sum'}), axis=1).sort_values(by=['date','group'])\n",
    "\n",
    "cumulative_data = orders_aggregated.merge(visitors_aggregated, left_on=['date', 'group'], right_on=['date', 'group'])\n",
    "cumulative_data.columns = ['date', 'group', 'orders', 'buyers', 'revenue', 'visits']\n",
    "\n",
    "print(cumulative_data) "
   ]
  },
  {
   "cell_type": "code",
   "execution_count": 29,
   "metadata": {},
   "outputs": [
    {
     "data": {
      "image/png": "[encoded data removed]",
      "text/plain": [
       "<Figure size 720x432 with 1 Axes>"
      ]
     },
     "metadata": {
      "needs_background": "light"
     },
     "output_type": "display_data"
    }
   ],
   "source": [
    "cumulative_revenue_A = cumulative_data[cumulative_data['group']=='A'][['date','revenue', 'orders']]\n",
    "cumulative_revenue_B = cumulative_data[cumulative_data['group']=='B'][['date','revenue', 'orders']]\n",
    "\n",
    "plt.figure(figsize=(10, 6))\n",
    "\n",
    "plt.plot(cumulative_revenue_A['date'], cumulative_revenue_A['revenue'], label='A')\n",
    "plt.plot(cumulative_revenue_B['date'], cumulative_revenue_B['revenue'], label='B')\n",
    "\n",
    "plt.xlabel('Date')\n",
    "plt.ylabel('Cumulative Revenue')\n",
    "plt.title('Cumulative Revenue Over Time')\n",
    "plt.xticks(rotation=45, ha='right')\n",
    "plt.gca().xaxis.set_major_locator(plt.matplotlib.dates.DayLocator(interval=8))\n",
    "plt.legend() \n",
    "plt.tight_layout()\n",
    "\n"
   ]
  },
  {
   "cell_type": "markdown",
   "metadata": {},
   "source": [
    "A receita está apresentando um crescimento estável ao longo do tempo para os dois grupos.\n",
    "\n",
    "No grupo A não existe nenhum pico de compra muito discrepante, o que mostra que não teve uma compra muito grande em um único dia. No entanto no grupo B isso acontece, pois existe um salto alto de venda acumulada em um certo período, mostrando que naquele ponto ocorreu uma alta receita. Isso pode ter acontecido por uma alta quantidade de pedidos ou por alguns pedidos muitos caros."
   ]
  },
  {
   "cell_type": "markdown",
   "metadata": {},
   "source": [
    "# 4.1.2 Tamanho médio acumulado dos pedidos por grupo"
   ]
  },
  {
   "cell_type": "markdown",
   "metadata": {},
   "source": [
    "Para construir o volume médio de compra por grupo eu vou dividir a receita cumulativa pela quantidade cumulativa de pedidos."
   ]
  },
  {
   "cell_type": "code",
   "execution_count": 30,
   "metadata": {},
   "outputs": [
    {
     "data": {
      "image/png": "[encoded data removed]",
      "text/plain": [
       "<Figure size 720x432 with 1 Axes>"
      ]
     },
     "metadata": {
      "needs_background": "light"
     },
     "output_type": "display_data"
    }
   ],
   "source": [
    "plt.figure(figsize=(10, 6))\n",
    "\n",
    "plt.plot(cumulative_revenue_A['date'], cumulative_revenue_A['revenue']/cumulative_revenue_A['orders'], label='A')\n",
    "plt.plot(cumulative_revenue_B['date'], cumulative_revenue_B['revenue']/cumulative_revenue_B['orders'], label='B')\n",
    "\n",
    "plt.xlabel('Date')\n",
    "plt.ylabel('Average Transactions')\n",
    "plt.title('Average Transactions Over Time')\n",
    "plt.xticks(rotation=45, ha='right')\n",
    "plt.gca().xaxis.set_major_locator(plt.matplotlib.dates.DayLocator(interval=8))\n",
    "plt.legend() \n",
    "plt.tight_layout()\n"
   ]
  },
  {
   "cell_type": "markdown",
   "metadata": {},
   "source": [
    "O tamanho médio acumulado dos grupos oscila bastante no começo do teste, mas se estabiliza a partir da segunda semana. Para o grupo B, ocorre um pico no aumento dos pedidos no mesmo período que acontece na receita acumulada, mostrando que tem algo de estranho naquele período."
   ]
  },
  {
   "cell_type": "markdown",
   "metadata": {},
   "source": [
    "# 4.1.3 Diferença relativa no tamanho médio acumulado do pedido para os grupos"
   ]
  },
  {
   "cell_type": "markdown",
   "metadata": {},
   "source": [
    "Agora farei um gráfico de diferença relativa, que representa a variação percentual entre os dois grupos."
   ]
  },
  {
   "cell_type": "code",
   "execution_count": 31,
   "metadata": {},
   "outputs": [
    {
     "data": {
      "image/png": "[encoded data removed]",
      "text/plain": [
       "<Figure size 720x432 with 1 Axes>"
      ]
     },
     "metadata": {
      "needs_background": "light"
     },
     "output_type": "display_data"
    }
   ],
   "source": [
    "merged_cumulative_revenue = cumulative_revenue_A.merge(cumulative_revenue_B, left_on='date', right_on='date', how='left', suffixes=['A', 'B'])\n",
    "\n",
    "plt.figure(figsize=(10, 6))\n",
    "\n",
    "plt.plot(merged_cumulative_revenue['date'], (merged_cumulative_revenue['revenueB']/merged_cumulative_revenue['ordersB'])/(merged_cumulative_revenue['revenueA']/merged_cumulative_revenue['ordersA'])-1)\n",
    "plt.axhline(y=0, color='black', linestyle='--') \n",
    "\n",
    "plt.xlabel('Date')\n",
    "plt.ylabel('Percentual')\n",
    "plt.title('Percentual Variation Over Time')\n",
    "plt.xticks(rotation=45, ha='right')\n",
    "plt.gca().xaxis.set_major_locator(plt.matplotlib.dates.DayLocator(interval=8))\n",
    "plt.tight_layout()\n"
   ]
  },
  {
   "cell_type": "markdown",
   "metadata": {},
   "source": [
    "A variação percentual da receita ao longo do tempo oscila com alguns picos, indicando as variações de alterações percentuais atípicos ao longo do período. Podemos detectar uma nova variação na primeira semana, e a ja vista antes variação na segunda/terceira semana."
   ]
  },
  {
   "cell_type": "markdown",
   "metadata": {},
   "source": [
    "# 4.1.4 Taxa de conversão de cada grupo e diferença relativa das taxas"
   ]
  },
  {
   "cell_type": "markdown",
   "metadata": {},
   "source": [
    "A taxa de conversão de cada grupo mostra a conversão diária de visitantes que realizam a transação. Podemos a partir dai encontrar a diferença entre as taxas de conversões dos dois grupos."
   ]
  },
  {
   "cell_type": "code",
   "execution_count": 32,
   "metadata": {},
   "outputs": [
    {
     "data": {
      "text/plain": [
       "<matplotlib.legend.Legend at 0x7f3e4df35cd0>"
      ]
     },
     "execution_count": 32,
     "metadata": {},
     "output_type": "execute_result"
    },
    {
     "data": {
      "image/png": "[encoded data removed]",
      "text/plain": [
       "<Figure size 720x432 with 1 Axes>"
      ]
     },
     "metadata": {
      "needs_background": "light"
     },
     "output_type": "display_data"
    }
   ],
   "source": [
    "cumulative_data['conversion'] = cumulative_data['orders']/cumulative_data['visits']\n",
    "cumulative_data_A = cumulative_data[cumulative_data['group']=='A']\n",
    "cumulative_data_B = cumulative_data[cumulative_data['group']=='B']\n",
    "\n",
    "\n",
    "plt.figure(figsize=(10, 6))\n",
    "\n",
    "plt.plot(cumulative_data_A['date'], cumulative_data_A['conversion'], label='A')\n",
    "plt.plot(cumulative_data_B['date'], cumulative_data_B['conversion'], label='B')\n",
    "\n",
    "plt.xlabel('Date')\n",
    "plt.ylabel('Conversion')\n",
    "plt.title('Conversion Over Time')\n",
    "plt.xticks(rotation=45, ha='right')\n",
    "plt.gca().xaxis.set_major_locator(plt.matplotlib.dates.DayLocator(interval=8))\n",
    "plt.tight_layout()\n",
    "plt.legend()"
   ]
  },
  {
   "cell_type": "markdown",
   "metadata": {},
   "source": [
    "No início da análise ambos grupos mostraram um pico na conversão antes de cair ao valor base. Após isso a taxa de conversão do grupo A caiu radicalmente, enquanto a do grupo B aumentou e se manteve, apesar das oscilações, a uma certa taxa constante. Apesar disso, nenhum dos dois grupos parecem estar apresentando uma estabilidade."
   ]
  },
  {
   "cell_type": "markdown",
   "metadata": {},
   "source": [
    "Visualizando agora o gráfico de diferença relativa na taxa de conversão:"
   ]
  },
  {
   "cell_type": "code",
   "execution_count": 33,
   "metadata": {
    "scrolled": false
   },
   "outputs": [
    {
     "data": {
      "image/png": "[encoded data removed]",
      "text/plain": [
       "<Figure size 720x432 with 1 Axes>"
      ]
     },
     "metadata": {
      "needs_background": "light"
     },
     "output_type": "display_data"
    }
   ],
   "source": [
    "merged_cumulative_conversions = cumulative_data_A[['date','conversion']].merge(\n",
    "                                cumulative_data_B[['date','conversion']],\n",
    "                                                    left_on='date', \n",
    "                                                    right_on='date', how='left', suffixes=['A', 'B'])\n",
    "\n",
    "plt.figure(figsize=(10, 6))\n",
    "\n",
    "plt.plot(merged_cumulative_conversions['date'], \n",
    "         merged_cumulative_conversions['conversionB']/merged_cumulative_conversions['conversionA']-1)\n",
    "plt.axhline(y=0, color='black', linestyle='--')\n",
    "plt.axhline(y=-0.1, color='grey', linestyle='--')\n",
    "\n",
    "plt.xlabel('Date')\n",
    "plt.ylabel('Conversion')\n",
    "plt.title('Difference between Conversion Over Time')\n",
    "plt.xticks(rotation=45, ha='right')\n",
    "plt.gca().xaxis.set_major_locator(plt.matplotlib.dates.DayLocator(interval=8))\n",
    "plt.tight_layout()\n"
   ]
  },
  {
   "cell_type": "markdown",
   "metadata": {},
   "source": [
    "O gráfico de diferença relativa entre os grupos B e A mostra que o grupo B possui uma diferença positiva em relação ao grupo A, o que indica que a taxa de conversão dele é positiva e superior ao outro grupo. \n",
    "\n",
    "No entanto, não podemos indicar uma estabilidade com base nessa taxa, pois ao fim do experimento o grupo não apresentou sinais de estabilidade."
   ]
  },
  {
   "cell_type": "markdown",
   "metadata": {},
   "source": [
    "# 4.1.5 Calculos de percentis 95 e 99 para o número de pedidos por usuário"
   ]
  },
  {
   "cell_type": "markdown",
   "metadata": {},
   "source": [
    "Como dito anteriormente, a presença de valores atípicos/extremos é esperada. Vou utilizar os percentis pra encontrar o ponto em que um valor se torna um valor extremo."
   ]
  },
  {
   "cell_type": "code",
   "execution_count": 34,
   "metadata": {},
   "outputs": [
    {
     "name": "stdout",
     "output_type": "stream",
     "text": [
      "[282.48  435.54  900.904]\n"
     ]
    }
   ],
   "source": [
    "print(np.percentile(orders_data['revenue'], [90, 95, 99])) \n"
   ]
  },
  {
   "cell_type": "markdown",
   "metadata": {},
   "source": [
    "Menos que 5% dos pedidos custou mais do que 435, e menos de 1% custou mais do que 900.\n",
    "Como sabemos que usuários que fizeram mais de um pedido estão modificando resultado dos percentis, vou encontrar quantos pedidos foram feitos por usuários."
   ]
  },
  {
   "cell_type": "code",
   "execution_count": 35,
   "metadata": {},
   "outputs": [
    {
     "name": "stdout",
     "output_type": "stream",
     "text": [
      "      visitor_id  orders\n",
      "1023  4256040402      11\n",
      "591   2458001652      11\n",
      "569   2378935119       9\n",
      "487   2038680547       8\n",
      "44     199603092       5\n",
      "744   3062433592       5\n",
      "55     237748145       5\n",
      "917   3803269165       5\n",
      "299   1230306981       5\n",
      "897   3717692402       5\n"
     ]
    }
   ],
   "source": [
    "orders_users = (orders_data.drop(['group', 'revenue', 'date'], axis=1)\n",
    "                .groupby('visitor_id', as_index=False)\n",
    "                .agg({'transaction_id': pd.Series.nunique}))\n",
    "\n",
    "orders_users.columns = ['visitor_id', 'orders']\n",
    "\n",
    "print(orders_users.sort_values(by='orders', ascending=False).head(10))"
   ]
  },
  {
   "cell_type": "markdown",
   "metadata": {},
   "source": [
    "Existem usuários com 11 pedidos ao mesmo tempo que existem usuários com muito menos pedidos ao longo do mês.\n",
    "Visualizando em um gráfico:"
   ]
  },
  {
   "cell_type": "code",
   "execution_count": 36,
   "metadata": {},
   "outputs": [
    {
     "data": {
      "image/png": "[encoded data removed]",
      "text/plain": [
       "<Figure size 720x432 with 1 Axes>"
      ]
     },
     "metadata": {
      "needs_background": "light"
     },
     "output_type": "display_data"
    }
   ],
   "source": [
    "plt.figure(figsize=(10, 6))\n",
    "\n",
    "x_values = pd.Series(range(0,len(orders_users)))\n",
    "\n",
    "plt.scatter(x_values, orders_users['orders']) \n",
    "plt.xlabel('Repeated Transactions')\n",
    "plt.ylabel('Visitors')\n",
    "plt.title('Visitors that repeated transactions')\n",
    "plt.tight_layout()\n"
   ]
  },
  {
   "cell_type": "markdown",
   "metadata": {},
   "source": [
    "A imensa maioria dos pedidos foi feito apenas uma vez por cliente. embora existam clientes que fizeram mais de um pedido, não são a grande parte."
   ]
  },
  {
   "cell_type": "markdown",
   "metadata": {},
   "source": [
    "Vou agora encontrar os percentis para a quantidade de pedidos por usuários."
   ]
  },
  {
   "cell_type": "code",
   "execution_count": 37,
   "metadata": {},
   "outputs": [
    {
     "name": "stdout",
     "output_type": "stream",
     "text": [
      "[1. 2. 4.]\n"
     ]
    }
   ],
   "source": [
    "print(np.percentile(orders_users['orders'], [90, 95, 99])) \n"
   ]
  },
  {
   "cell_type": "markdown",
   "metadata": {},
   "source": [
    "10% dos usuários fizeram mais do que 1 pedido, 5% fez mais do que 2 pedidos e 1% fez mais de 4 pedidos.\n",
    "\n",
    "Desse modo, vamos considerar as anomalias como sendo mais do que 2 pedidos (pelo menos 3)."
   ]
  },
  {
   "cell_type": "markdown",
   "metadata": {},
   "source": [
    "Vou checar agora quais são os valores extremos que temos nos valores dos pedidos."
   ]
  },
  {
   "cell_type": "code",
   "execution_count": 38,
   "metadata": {},
   "outputs": [
    {
     "data": {
      "image/png": "[encoded data removed]",
      "text/plain": [
       "<Figure size 720x432 with 1 Axes>"
      ]
     },
     "metadata": {
      "needs_background": "light"
     },
     "output_type": "display_data"
    }
   ],
   "source": [
    "plt.figure(figsize=(10, 6))\n",
    "\n",
    "x_values = pd.Series(range(0, len(orders_data['revenue'])))\n",
    "\n",
    "plt.scatter(x_values, orders_data['revenue']) \n",
    "plt.xlabel('Revenue')\n",
    "plt.ylabel('Transactions')\n",
    "plt.title('Revenue per Transactions')\n",
    "plt.tight_layout()\n"
   ]
  },
  {
   "cell_type": "markdown",
   "metadata": {},
   "source": [
    "Claramente temos 2 pontos muito isolados que são extremamente fora do normal. Além desses, temos alguns outros poucos que se destacam. \n",
    "\n",
    "Podemos checar os percentis dos pedidos usando o mesmo método:"
   ]
  },
  {
   "cell_type": "code",
   "execution_count": 39,
   "metadata": {},
   "outputs": [
    {
     "name": "stdout",
     "output_type": "stream",
     "text": [
      "[282.48  435.54  900.904]\n"
     ]
    }
   ],
   "source": [
    "print(np.percentile(orders_data['revenue'], [90, 95, 99])) \n"
   ]
  },
  {
   "cell_type": "markdown",
   "metadata": {},
   "source": [
    "Menos que 5% dos pedidos custou mais do que 435, e menos de 1% custou mais do que 900.\n",
    "Como sabemos, usuários que fizeram mais de um pedido estão modificando resultado dos percentis. Desse modo, vamos admitir que valores acima de 435 (5%) são considerados valores extremos."
   ]
  },
  {
   "cell_type": "markdown",
   "metadata": {},
   "source": [
    "# 4.1.6 Significância estatística da diferença na conversão (dados brutos)"
   ]
  },
  {
   "cell_type": "markdown",
   "metadata": {},
   "source": [
    "Vou calcular agora a significância estatística, que vai mostrar se a diferença nas taxas de conversão é grande o suficiente para não ser aleatória.\n",
    "\n",
    "Vamos testar as hipóteses que: \n",
    "\n",
    "    - H0: as distribuições das duas amostras são iguais\n",
    "    - H1: as distribuições das duas amostras não são iguais"
   ]
  },
  {
   "cell_type": "code",
   "execution_count": 40,
   "metadata": {},
   "outputs": [
    {
     "name": "stdout",
     "output_type": "stream",
     "text": [
      "0.01666\n",
      "0.134\n"
     ]
    }
   ],
   "source": [
    "orders_users_A = orders_data[orders_data['group']=='A'].groupby('visitor_id', as_index=False).agg({'transaction_id' : pd.Series.nunique})\n",
    "orders_users_A.columns = ['visitor_id', 'orders']\n",
    "\n",
    "orders_users_B = orders_data[orders_data['group']=='B'].groupby('visitor_id', as_index=False).agg({'transaction_id' : pd.Series.nunique})\n",
    "orders_users_B.columns = ['visitor_id', 'orders']\n",
    "\n",
    "sample_A = pd.concat([orders_users_A['orders'],pd.Series(0, index=np.arange(visits_data[visits_data['group']=='A']['visits'].sum() - len(orders_users_A['orders'])), name='orders')],axis=0)\n",
    "sample_B = pd.concat([orders_users_B['orders'],pd.Series(0, index=np.arange(visits_data[visits_data['group']=='B']['visits'].sum() - len(orders_users_B['orders'])), name='orders')],axis=0) \n",
    "\n",
    "print(\"{0:.5f}\".format(stats.mannwhitneyu(sample_A, sample_B)[1]))\n",
    "print(\"{0:.3f}\".format(sample_B.mean()/sample_A.mean()-1)) \n"
   ]
  },
  {
   "cell_type": "markdown",
   "metadata": {},
   "source": [
    "Comparei as duas amostras utilizand o teste de Mann-Whitney, e encontrei o p-valor de 0.0166. Esse valor mostra que existem evidências estatísticas que nos permitem rejeitar H0, ou seja, podemos rejeitar a hipótese que as duas amostras são iguais.\n",
    "\n",
    "Enquanto isso, a diferença percentual das médias foi de 0.134, ou seja, 13.4%. Isso mostra que a média de conversão do grupo B é 13.4% maior do que a média do grupo A."
   ]
  },
  {
   "cell_type": "markdown",
   "metadata": {},
   "source": [
    "# 4.1.7 Significância estatística da diferença no tamanho médio dos pedidos (dados brutos)"
   ]
  },
  {
   "cell_type": "markdown",
   "metadata": {},
   "source": [
    "Utilizando a mesma metodologia podemos encontrar a significância estatística da diferença no tamanho médio dos pedidos:\n",
    "\n",
    "Vamos testar as hipóteses que: \n",
    "\n",
    "    - H0: as distribuições das duas amostras são iguais\n",
    "    - H1: as distribuições das duas amostras não são iguais"
   ]
  },
  {
   "cell_type": "code",
   "execution_count": 41,
   "metadata": {
    "scrolled": true
   },
   "outputs": [
    {
     "name": "stdout",
     "output_type": "stream",
     "text": [
      "0.67256\n",
      "0.171\n"
     ]
    }
   ],
   "source": [
    "print('{0:.5f}'.format(stats.mannwhitneyu(orders_data[orders_data['group']=='A']['revenue'], orders_data[orders_data['group']=='B']['revenue'])[1]))\n",
    "print('{0:.3f}'.format(orders_data[orders_data['group']=='B']['revenue'].mean()/orders_data[orders_data['group']=='A']['revenue'].mean()-1)) \n"
   ]
  },
  {
   "cell_type": "markdown",
   "metadata": {},
   "source": [
    "Nesse caso, o p-valor é significativamente maior, o que mostra que não podemos rejeitar a hipótese que as distribuição são iguais.\n",
    "\n",
    "Enquanto isso, encontramos que a média de receita no grupo B é 17.1% maior do que a m´dia da receita no grupo A."
   ]
  },
  {
   "cell_type": "markdown",
   "metadata": {},
   "source": [
    "# 4.1.8 Significância estatística da diferença na conversão (dados filtrados)"
   ]
  },
  {
   "cell_type": "markdown",
   "metadata": {},
   "source": [
    "Agora vou realizar os mesmos testes estatísticos, mas realizando a filtragem dos dados atípicos/extremos. Eu selecionei quais são esses valores anteriormente: para os pedidos são mais do que 2 pedidos, e para a receita é maior do que 435."
   ]
  },
  {
   "cell_type": "code",
   "execution_count": 42,
   "metadata": {},
   "outputs": [
    {
     "name": "stdout",
     "output_type": "stream",
     "text": [
      "1099    148427295\n",
      "17      199603092\n",
      "928     204675465\n",
      "34      237748145\n",
      "36      249864742\n",
      "Name: visitor_id, dtype: int64\n",
      "(84,)\n"
     ]
    }
   ],
   "source": [
    "extreme_users_orders = pd.concat([orders_users_A[orders_users_A['orders'] > 2]['visitor_id'], orders_users_B[orders_users_B['orders'] > 2]['visitor_id']], axis = 0)\n",
    "extreme_users_revenue = orders_data[orders_data['revenue'] > 435]['visitor_id']\n",
    "extreme_users = pd.concat([extreme_users_orders, extreme_users_revenue], axis = 0).drop_duplicates().sort_values()\n",
    "print(extreme_users.head(5))\n",
    "print(extreme_users.shape) "
   ]
  },
  {
   "cell_type": "markdown",
   "metadata": {},
   "source": [
    "Temos 84 usuários que apresentam comportamento anômalo. Vou filtra-los:"
   ]
  },
  {
   "cell_type": "code",
   "execution_count": 43,
   "metadata": {},
   "outputs": [],
   "source": [
    "sample_A_filtered = pd.concat(\n",
    "    [orders_users_A[np.logical_not(\n",
    "        orders_users_A['visitor_id'].isin(extreme_users))][\n",
    "        'orders'],pd.Series(0, index=np.arange(visits_data[visits_data['group']=='A']['visits'].sum() - len(orders_users_A['orders'])),name='orders')],axis=0)\n",
    "sample_B_filtered = pd.concat([orders_users_B[np.logical_not(orders_users_B['visitor_id'].isin(extreme_users))]['orders'],pd.Series(0, index=np.arange(visits_data[visits_data['group']=='B']['visits'].sum() - len(orders_users_B['orders'])),name='orders')],axis=0)"
   ]
  },
  {
   "cell_type": "markdown",
   "metadata": {},
   "source": [
    "Novamente vou testar as mesmas hipóteses:\n",
    "\n",
    "    - H0: as distribuições das duas amostras são iguais\n",
    "    - H1: as distribuições das duas amostras não são iguais\n",
    "\n"
   ]
  },
  {
   "cell_type": "code",
   "execution_count": 44,
   "metadata": {},
   "outputs": [
    {
     "name": "stdout",
     "output_type": "stream",
     "text": [
      "0.01428\n",
      "0.164\n"
     ]
    }
   ],
   "source": [
    "print(\"{0:.5f}\".format(stats.mannwhitneyu(sample_A_filtered, sample_B_filtered)[1]))\n",
    "print(\"{0:.3f}\".format(sample_B_filtered.mean()/sample_A_filtered.mean()-1)) "
   ]
  },
  {
   "cell_type": "markdown",
   "metadata": {},
   "source": [
    "O p-valor nesse caso é menor ainda do que no teste anterior, sem realizar a filtragem. Isso indica ainda mais que a hipótese nula pode ser rejeitada, mostrando que a remoção dos usuários extremos impactou a significância do teste. \n",
    "\n",
    "Já em relação ao percentual da estatistica de conversão, obtivemos 16.4%  que também é maior em comparação aos 13.4% anteriores."
   ]
  },
  {
   "cell_type": "markdown",
   "metadata": {},
   "source": [
    "# 4.1.9 Significância estatística da diferença na tamanho médio dos pedidos  (dados filtrados)"
   ]
  },
  {
   "cell_type": "markdown",
   "metadata": {},
   "source": [
    "Utilizando a mesma metodologia podemos encontrar a significância estatística da diferença no tamanho médio dos pedidos para os valores filtrados:\n",
    "\n",
    "Vamos testar as hipóteses que: \n",
    "\n",
    "    - H0: as distribuições das duas amostras são iguais\n",
    "    - H1: as distribuições das duas amostras não são iguais"
   ]
  },
  {
   "cell_type": "code",
   "execution_count": 45,
   "metadata": {},
   "outputs": [
    {
     "name": "stdout",
     "output_type": "stream",
     "text": [
      "0.68503\n",
      "-0.047\n"
     ]
    }
   ],
   "source": [
    "print('{0:.5f}'.format(stats.mannwhitneyu(orders_data[np.logical_and(orders_data['group']=='A',\n",
    "        np.logical_not(orders_data['visitor_id'].isin(extreme_users)))]['revenue'],\n",
    "        orders_data[np.logical_and(orders_data['group']=='B',\n",
    "        np.logical_not(orders_data['visitor_id'].isin(extreme_users)))]['revenue'])[1]))\n",
    "\n",
    "print('{0:.3f}'.format(\n",
    "    orders_data[np.logical_and(orders_data['group']=='B',np.logical_not(orders_data['visitor_id'].isin(extreme_users)))]['revenue'].mean()/\n",
    "    orders_data[np.logical_and(\n",
    "        orders_data['group']=='A',\n",
    "        np.logical_not(orders_data['visitor_id'].isin(extreme_users)))]['revenue'].mean() - 1)) "
   ]
  },
  {
   "cell_type": "markdown",
   "metadata": {},
   "source": [
    "O p-valor nesse caso não nos permite rejeitar a hipótese nula, o que mostra que não podemos rejeitar a hipótese de que as distribuições das duas amostras são iguais.\n",
    "\n",
    "E com relação a diferença percentual da media de -0.047, ela não possui significância estatística por ser uma variação percentual muito pequena."
   ]
  },
  {
   "cell_type": "markdown",
   "metadata": {},
   "source": [
    "# 4.2 Tomada de decisão"
   ]
  },
  {
   "cell_type": "markdown",
   "metadata": {},
   "source": [
    "Por fim, preciso tomar uma decisão sobre interromper o Teste A/B e mostrar qual grupo apresentou uma melhor performance, parar o teste e concluir que não há diferença entre os grupos, ou continuar o teste.\n",
    "\n",
    "Para a análise de Conversão (antes e depois da filtragem dos dados) podemos garantir que existe uma diferença significativa do grupo B em relação ao grupo A. O grupo B apresentou uma maior taxa de conversão e de receita ao longo do tempo, e tudo indica que é o grupo líder e que apresenta um melhor resultado.\n",
    "\n",
    "No entanto, não consegui rejeitar a hipótese que as distribuições são iguais na análise da receitasignificância estatística com relação à receita, tanto para os dados brutos como para os dados filtrados.\n",
    "\n",
    "No entanto, mesmo assim minha decisão final é de interromper o teste e declarar o grupo B como mais vantajoso. Foi o grupo superior em todas análises e mesmo não garantindo a hipótese no teste com relação à receita, ele apresenta um melhor resultado."
   ]
  },
  {
   "cell_type": "markdown",
   "metadata": {},
   "source": [
    "# 5.1 Conclusões"
   ]
  },
  {
   "cell_type": "markdown",
   "metadata": {},
   "source": [
    "Com relação aos testes de hipóteses, verificamos quais eram os testes que, de acordo com os parâmetros indicados, apresentavam maior nível de prioridade. \n",
    "\n",
    "    - Com o método ICE, verifiquei que a hipótese que deve ser priorizada é a hipótese 9.\n",
    "    - Com o método RICE, verifiquei que a hipótese que deve ser priorizada é primeiro a 8, e depois a 3\n",
    "    \n",
    "Sobre o Teste A/B, a decisão que eu tomei foi de interromper o teste A/B decretando que o grupo B trouxe mais retornos positivos. Devemos investigar o motivo de não conseguirmos rejeitar a hipótese nula, mas não existe motivo evidente para continuar fazendo os testes, devido ao gasto de manter o mesmo. Acredito que com os resultados atuais já é possível cravar a eficácia do grupo B."
   ]
  }
 ],
 "metadata": {
  "kernelspec": {
   "display_name": "Python 3 (ipykernel)",
   "language": "python",
   "name": "python3"
  },
  "language_info": {
   "codemirror_mode": {
    "name": "ipython",
    "version": 3
   },
   "file_extension": ".py",
   "mimetype": "text/x-python",
   "name": "python",
   "nbconvert_exporter": "python",
   "pygments_lexer": "ipython3",
   "version": "3.9.5"
  },
  "toc": {
   "base_numbering": 1,
   "nav_menu": {},
   "number_sections": true,
   "sideBar": true,
   "skip_h1_title": true,
   "title_cell": "Table of Contents",
   "title_sidebar": "Contents",
   "toc_cell": false,
   "toc_position": {},
   "toc_section_display": true,
   "toc_window_display": false
  }
 },
 "nbformat": 4,
 "nbformat_minor": 2
}
