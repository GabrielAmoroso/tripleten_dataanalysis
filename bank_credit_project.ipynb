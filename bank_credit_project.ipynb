{
 "cells": [
  {
   "cell_type": "markdown",
   "metadata": {},
   "source": [
    "# Análise do risco de inadimplência dos mutuários\n",
    "\n",
    "Seu projeto é preparar um relatório para a divisão de empréstimos de um banco. Você precisará descobrir se o estado civil de um cliente e o número de filhos têm impacto sobre se ele deixará de pagar um empréstimo. O banco já tem alguns dados sobre a capacidade de crédito dos clientes.\n",
    "\n",
    "Seu relatório será considerado ao criar uma **pontuação de crédito** de um cliente em potencial. A **contagem de crédito** é usada para avaliar a capacidade de um devedor em potencial de pagar seu empréstimo.\n",
    "\n",
    "[Neste caderno, você recebe dicas e instruções breves e sugestões de raciocínio. Não os ignore, pois eles são projetados para te equipar com a estrutura do projeto e o ajudarão a analisar o que você está fazendo em um nível mais profundo. Antes de enviar seu projeto, certifique-se de remover todas as dicas e descrições fornecidas a você. Em vez disso, faça com que este relatório pareça que você está enviando para seus colegas de equipe para demonstrar suas descobertas - eles não devem saber que você teve qualquer ajuda externa nossa! Para ajudá-lo, colocamos as dicas que você deve remover entre colchetes.]\n",
    "\n",
    "[Antes de mergulhar na análise de seus dados, explique os propósitos do projeto e as hipóteses que você testará.]"
   ]
  },
  {
   "cell_type": "markdown",
   "metadata": {},
   "source": [
    "## Abra o arquivo de dados e veja as informações gerais.\n"
   ]
  },
  {
   "cell_type": "code",
   "execution_count": 2,
   "metadata": {},
   "outputs": [],
   "source": [
    "import pandas as pd\n",
    "\n",
    "\n",
    "try:\n",
    "    credit_score = pd.read_csv('E:/credit_scoring_eng.csv')\n",
    "except:\n",
    "    credit_score = pd.read_csv('/datasets/credit_scoring_eng.csv')\n"
   ]
  },
  {
   "cell_type": "markdown",
   "metadata": {},
   "source": [
    "## Tarefa 1. Exploração de dados\n",
    "\n",
    "**Descrição dos dados**\n",
    "- `children` - o número de crianças na família\n",
    "- `days_employed` - experiência de trabalho em dias\n",
    "- `dob_years` - idade do cliente em anos\n",
    "- `education` - educação do cliente\n",
    "- `education_id` - identificador de educação\n",
    "- `family_status` - estado civil do cliente\n",
    "- `family_status_id` - identificador de estado civil\n",
    "- `gender` - gênero do cliente\n",
    "- `income_type` - tipo de emprego\n",
    "- `debt` - havia alguma dívida no pagamento do empréstimo\n",
    "- `total_income` - renda mensal\n",
    "- `purpose` - o objetivo de obter um empréstimo\n",
    "\n",
    "Explorando as informações dos dados obtive as seguintes colunas"
   ]
  },
  {
   "cell_type": "code",
   "execution_count": 3,
   "metadata": {},
   "outputs": [
    {
     "name": "stdout",
     "output_type": "stream",
     "text": [
      "<class 'pandas.core.frame.DataFrame'>\n",
      "RangeIndex: 21525 entries, 0 to 21524\n",
      "Data columns (total 12 columns):\n",
      " #   Column            Non-Null Count  Dtype  \n",
      "---  ------            --------------  -----  \n",
      " 0   children          21525 non-null  int64  \n",
      " 1   days_employed     19351 non-null  float64\n",
      " 2   dob_years         21525 non-null  int64  \n",
      " 3   education         21525 non-null  object \n",
      " 4   education_id      21525 non-null  int64  \n",
      " 5   family_status     21525 non-null  object \n",
      " 6   family_status_id  21525 non-null  int64  \n",
      " 7   gender            21525 non-null  object \n",
      " 8   income_type       21525 non-null  object \n",
      " 9   debt              21525 non-null  int64  \n",
      " 10  total_income      19351 non-null  float64\n",
      " 11  purpose           21525 non-null  object \n",
      "dtypes: float64(2), int64(5), object(5)\n",
      "memory usage: 2.0+ MB\n"
     ]
    }
   ],
   "source": [
    "# Vamos ver quantas linhas e colunas nosso conjunto de dados tem\n",
    "\n",
    "credit_score.info()\n",
    "\n"
   ]
  },
  {
   "cell_type": "code",
   "execution_count": 4,
   "metadata": {
    "scrolled": true
   },
   "outputs": [
    {
     "name": "stdout",
     "output_type": "stream",
     "text": [
      "    children  days_employed  dob_years            education  education_id  \\\n",
      "0          1   -8437.673028         42    bachelor's degree             0   \n",
      "1          1   -4024.803754         36  secondary education             1   \n",
      "2          0   -5623.422610         33  Secondary Education             1   \n",
      "3          3   -4124.747207         32  secondary education             1   \n",
      "4          0  340266.072047         53  secondary education             1   \n",
      "5          0    -926.185831         27    bachelor's degree             0   \n",
      "6          0   -2879.202052         43    bachelor's degree             0   \n",
      "7          0    -152.779569         50  SECONDARY EDUCATION             1   \n",
      "8          2   -6929.865299         35    BACHELOR'S DEGREE             0   \n",
      "9          0   -2188.756445         41  secondary education             1   \n",
      "10         2   -4171.483647         36    bachelor's degree             0   \n",
      "11         0    -792.701887         40  secondary education             1   \n",
      "12         0            NaN         65  secondary education             1   \n",
      "13         0   -1846.641941         54         some college             2   \n",
      "14         0   -1844.956182         56    bachelor's degree             0   \n",
      "15         1    -972.364419         26  secondary education             1   \n",
      "16         0   -1719.934226         35  secondary education             1   \n",
      "17         0   -2369.999720         33    bachelor's degree             0   \n",
      "18         0  400281.136913         53  secondary education             1   \n",
      "19         0  -10038.818549         48  SECONDARY EDUCATION             1   \n",
      "20         1   -1311.604166         36  secondary education             1   \n",
      "21         1    -253.685166         33  secondary education             1   \n",
      "22         1   -1766.644138         24  secondary education             1   \n",
      "23         0    -272.981385         21    bachelor's degree             0   \n",
      "24         1  338551.952911         57  secondary education             1   \n",
      "25         0  363548.489348         67  secondary education             1   \n",
      "26         0            NaN         41  secondary education             1   \n",
      "27         0    -529.191635         28    bachelor's degree             0   \n",
      "28         1    -717.274324         26    bachelor's degree             0   \n",
      "29         0            NaN         63  secondary education             1   \n",
      "30         1  335581.668515         62  secondary education             1   \n",
      "31         0   -1682.083438         47    primary education             3   \n",
      "32         0   -4649.910832         34  SECONDARY EDUCATION             1   \n",
      "33         0   -1548.637544         48  secondary education             1   \n",
      "34         0   -4488.067031         35  secondary education             1   \n",
      "35         0  394021.072184         68  secondary education             1   \n",
      "36         0    -176.216688         33  secondary education             1   \n",
      "37         0   -6448.810860         43    BACHELOR'S DEGREE             0   \n",
      "38         0    -597.881827         25    bachelor's degree             0   \n",
      "39         0    -650.587796         31    bachelor's degree             0   \n",
      "40         0   -1030.362606         30  secondary education             1   \n",
      "41         0            NaN         50  secondary education             1   \n",
      "42         0   -1257.496190         20         some college             2   \n",
      "43         0   -4375.681384         43         some college             2   \n",
      "44         1   -1362.041728         26  SECONDARY EDUCATION             1   \n",
      "45         1   -1039.451741         49  secondary education             1   \n",
      "46         2   -2262.712304         37  secondary education             1   \n",
      "47         1   -2689.137274         33    bachelor's degree             0   \n",
      "48         0   -3341.067886         45  secondary education             1   \n",
      "49         0   -1181.443228         54  secondary education             1   \n",
      "\n",
      "        family_status  family_status_id gender    income_type  debt  \\\n",
      "0             married                 0      F       employee     0   \n",
      "1             married                 0      F       employee     0   \n",
      "2             married                 0      M       employee     0   \n",
      "3             married                 0      M       employee     0   \n",
      "4   civil partnership                 1      F        retiree     0   \n",
      "5   civil partnership                 1      M       business     0   \n",
      "6             married                 0      F       business     0   \n",
      "7             married                 0      M       employee     0   \n",
      "8   civil partnership                 1      F       employee     0   \n",
      "9             married                 0      M       employee     0   \n",
      "10            married                 0      M       business     0   \n",
      "11            married                 0      F       employee     0   \n",
      "12  civil partnership                 1      M        retiree     0   \n",
      "13            married                 0      F       employee     0   \n",
      "14  civil partnership                 1      F       business     1   \n",
      "15            married                 0      F       employee     0   \n",
      "16            married                 0      F       employee     0   \n",
      "17  civil partnership                 1      M       employee     0   \n",
      "18    widow / widower                 2      F        retiree     0   \n",
      "19           divorced                 3      F       employee     0   \n",
      "20            married                 0      M       employee     0   \n",
      "21  civil partnership                 1      F       employee     0   \n",
      "22  civil partnership                 1      F       employee     0   \n",
      "23  civil partnership                 1      M       employee     0   \n",
      "24          unmarried                 4      F        retiree     0   \n",
      "25            married                 0      M        retiree     0   \n",
      "26            married                 0      M  civil servant     0   \n",
      "27            married                 0      M       employee     0   \n",
      "28            married                 0      F       employee     0   \n",
      "29          unmarried                 4      F        retiree     0   \n",
      "30            married                 0      F        retiree     0   \n",
      "31            married                 0      F       employee     0   \n",
      "32  civil partnership                 1      F       employee     1   \n",
      "33            married                 0      F       business     0   \n",
      "34            married                 0      F       employee     0   \n",
      "35  civil partnership                 1      M        retiree     0   \n",
      "36          unmarried                 4      M       employee     0   \n",
      "37  civil partnership                 1      F       business     0   \n",
      "38          unmarried                 4      M       employee     1   \n",
      "39  civil partnership                 1      F       business     0   \n",
      "40          unmarried                 4      M       business     0   \n",
      "41            married                 0      F  civil servant     0   \n",
      "42          unmarried                 4      F       employee     0   \n",
      "43           divorced                 3      F       business     0   \n",
      "44            married                 0      F       employee     0   \n",
      "45          unmarried                 4      F       employee     0   \n",
      "46            married                 0      F       business     0   \n",
      "47  civil partnership                 1      M  civil servant     0   \n",
      "48            married                 0      F       employee     0   \n",
      "49            married                 0      F       employee     0   \n",
      "\n",
      "    total_income                                   purpose  \n",
      "0      40620.102                     purchase of the house  \n",
      "1      17932.802                              car purchase  \n",
      "2      23341.752                     purchase of the house  \n",
      "3      42820.568                   supplementary education  \n",
      "4      25378.572                         to have a wedding  \n",
      "5      40922.170                     purchase of the house  \n",
      "6      38484.156                      housing transactions  \n",
      "7      21731.829                                 education  \n",
      "8      15337.093                          having a wedding  \n",
      "9      23108.150       purchase of the house for my family  \n",
      "10     18230.959                           buy real estate  \n",
      "11     12331.077                buy commercial real estate  \n",
      "12           NaN                         to have a wedding  \n",
      "13     20873.317                              car purchase  \n",
      "14     26420.466               buy residential real estate  \n",
      "15     18691.345              construction of own property  \n",
      "16     46272.433                                  property  \n",
      "17     14465.694                       building a property  \n",
      "18      9091.804                  buying a second-hand car  \n",
      "19     38852.977                         buying my own car  \n",
      "20     33528.423                                  property  \n",
      "21     21089.953                              car purchase  \n",
      "22     23948.983                  buying a second-hand car  \n",
      "23     20522.515                         to have a wedding  \n",
      "24     46487.558  transactions with commercial real estate  \n",
      "25      8818.041                           buy real estate  \n",
      "26           NaN                                 education  \n",
      "27     49415.837              construction of own property  \n",
      "28     30058.118              construction of own property  \n",
      "29           NaN                    building a real estate  \n",
      "30     27432.971  transactions with commercial real estate  \n",
      "31     44077.710                                   housing  \n",
      "32     22249.194                          having a wedding  \n",
      "33     25159.326                     purchase of the house  \n",
      "34     16745.672          transactions with my real estate  \n",
      "35     12448.908                          having a wedding  \n",
      "36     22212.904                                      cars  \n",
      "37     24660.621                              car purchase  \n",
      "38     30759.568                                 education  \n",
      "39    120678.528                        to become educated  \n",
      "40     22858.493                           buy real estate  \n",
      "41           NaN                  second-hand car purchase  \n",
      "42     13130.414                      getting an education  \n",
      "43     43673.141                              car purchase  \n",
      "44     16124.879                         buying my own car  \n",
      "45     17021.747                        to become educated  \n",
      "46     29229.194                  second-hand car purchase  \n",
      "47     57004.465                          having a wedding  \n",
      "48     25930.483              construction of own property  \n",
      "49      7134.689                                       car  \n"
     ]
    }
   ],
   "source": [
    "# vamos exibir as primeiras 50 linhas\n",
    "\n",
    "print(credit_score.head(50))\n"
   ]
  },
  {
   "cell_type": "markdown",
   "metadata": {},
   "source": [
    "Primeiramente: o número de dias empregados está com valores negativos em diversos indíviduos. Além disso é um tipo float\n",
    "o que não faz sentido para uma análise de dias trabalhados.\n",
    "\n",
    "Segundo: O tipo float para a coluna de renda (total_income) não é propriamente necessária. Equivale ao salário anual\n",
    "e os centavos não serão relevantes para a análise de crédito nesse caso.\n",
    "\n",
    "Terceiro: na coluna de propósito do empréstimo (purpose) existem diversos propósitos em duplicata porém com escritas diferentes. Precisa ser feita uma padronização dos motivos e fazer o agrupamento deles.\n",
    "\n",
    "Quarto: a coluna education precisa de uma padronização de letras minúsculas."
   ]
  },
  {
   "cell_type": "markdown",
   "metadata": {},
   "source": [
    "Existem valores ausentes nas colunas days_employed e total_income\n",
    "\n",
    "Vejamos a tabela filtrada com valores ausentes na primeira coluna com dados ausentes\n",
    "\n",
    "A quantidade de valores ausentes corresponde a um pouco mais de 10% dos dados totais do Dataframe. Se a média dos valores de dias trabalhados com e sem os valores ausentes não for muito discrepante, podemos apenas remover esses valores.\n"
   ]
  },
  {
   "cell_type": "code",
   "execution_count": 5,
   "metadata": {
    "scrolled": true
   },
   "outputs": [
    {
     "name": "stdout",
     "output_type": "stream",
     "text": [
      "       children  days_employed  dob_years            education  education_id  \\\n",
      "12            0            NaN         65  secondary education             1   \n",
      "26            0            NaN         41  secondary education             1   \n",
      "29            0            NaN         63  secondary education             1   \n",
      "41            0            NaN         50  secondary education             1   \n",
      "55            0            NaN         54  secondary education             1   \n",
      "...         ...            ...        ...                  ...           ...   \n",
      "21489         2            NaN         47  Secondary Education             1   \n",
      "21495         1            NaN         50  secondary education             1   \n",
      "21497         0            NaN         48    BACHELOR'S DEGREE             0   \n",
      "21502         1            NaN         42  secondary education             1   \n",
      "21510         2            NaN         28  secondary education             1   \n",
      "\n",
      "           family_status  family_status_id gender    income_type  debt  \\\n",
      "12     civil partnership                 1      M        retiree     0   \n",
      "26               married                 0      M  civil servant     0   \n",
      "29             unmarried                 4      F        retiree     0   \n",
      "41               married                 0      F  civil servant     0   \n",
      "55     civil partnership                 1      F        retiree     1   \n",
      "...                  ...               ...    ...            ...   ...   \n",
      "21489            married                 0      M       business     0   \n",
      "21495  civil partnership                 1      F       employee     0   \n",
      "21497            married                 0      F       business     0   \n",
      "21502            married                 0      F       employee     0   \n",
      "21510            married                 0      F       employee     0   \n",
      "\n",
      "       total_income                   purpose  \n",
      "12              NaN         to have a wedding  \n",
      "26              NaN                 education  \n",
      "29              NaN    building a real estate  \n",
      "41              NaN  second-hand car purchase  \n",
      "55              NaN         to have a wedding  \n",
      "...             ...                       ...  \n",
      "21489           NaN         purchase of a car  \n",
      "21495           NaN          wedding ceremony  \n",
      "21497           NaN       building a property  \n",
      "21502           NaN    building a real estate  \n",
      "21510           NaN              car purchase  \n",
      "\n",
      "[2174 rows x 12 columns]\n"
     ]
    }
   ],
   "source": [
    "print(credit_score[(credit_score['days_employed'].isna())|credit_score['total_income'].isna()])\n"
   ]
  },
  {
   "cell_type": "markdown",
   "metadata": {},
   "source": [
    "Com isso podemos checar que os valores ausentes para days_employed e total_income são os mesmos.\n",
    "\n",
    "Como estamos criando uma padronização para selecionar se um cliente é ou não é apto a receber o crédito, e esses valores não\n",
    "irão abaixar muito a média, podemos então remove-los do dataframe sem afetar nossa análise."
   ]
  },
  {
   "cell_type": "code",
   "execution_count": 6,
   "metadata": {},
   "outputs": [
    {
     "name": "stdout",
     "output_type": "stream",
     "text": [
      "(2174, 12)\n"
     ]
    }
   ],
   "source": [
    "# Vamos aplicar várias condições para filtrar dados e observar o número de linhas na tabela filtrada.\n",
    "\n",
    "print(credit_score[(credit_score['days_employed'].isna()) & credit_score['total_income'].isna()].shape)\n",
    "\n",
    "\n",
    "\n",
    "\n"
   ]
  },
  {
   "cell_type": "markdown",
   "metadata": {},
   "source": [
    "\n",
    "Os valores ausentes são simétricos. Confirmei que as linhas que possuem valores ausentes são as mesmas tanto para a coluna\n",
    "de dias empregados quanto para a coluna de renda. \n"
   ]
  },
  {
   "cell_type": "code",
   "execution_count": 7,
   "metadata": {},
   "outputs": [
    {
     "name": "stdout",
     "output_type": "stream",
     "text": [
      "     children  days_employed  dob_years            education  education_id  \\\n",
      "12          0            NaN         65  secondary education             1   \n",
      "26          0            NaN         41  secondary education             1   \n",
      "29          0            NaN         63  secondary education             1   \n",
      "41          0            NaN         50  secondary education             1   \n",
      "55          0            NaN         54  secondary education             1   \n",
      "65          0            NaN         21  secondary education             1   \n",
      "67          0            NaN         52    bachelor's degree             0   \n",
      "72          1            NaN         32    bachelor's degree             0   \n",
      "82          2            NaN         50    bachelor's degree             0   \n",
      "83          0            NaN         52  secondary education             1   \n",
      "90          2            NaN         35    bachelor's degree             0   \n",
      "94          1            NaN         34    bachelor's degree             0   \n",
      "96          0            NaN         44  SECONDARY EDUCATION             1   \n",
      "97          0            NaN         47    bachelor's degree             0   \n",
      "120         0            NaN         46  secondary education             1   \n",
      "121         0            NaN         29    bachelor's degree             0   \n",
      "135         0            NaN         27  secondary education             1   \n",
      "141         0            NaN         39  secondary education             1   \n",
      "145         0            NaN         62  secondary education             1   \n",
      "174         0            NaN         55    bachelor's degree             0   \n",
      "181         0            NaN         26  secondary education             1   \n",
      "189         1            NaN         30  secondary education             1   \n",
      "205         1            NaN         31    bachelor's degree             0   \n",
      "220         1            NaN         23         some college             2   \n",
      "241         0            NaN         47  secondary education             1   \n",
      "242         0            NaN         58  secondary education             1   \n",
      "247         1            NaN         60    bachelor's degree             0   \n",
      "250         0            NaN         54    bachelor's degree             0   \n",
      "264         2            NaN         40  secondary education             1   \n",
      "278         1            NaN         23  Secondary Education             1   \n",
      "279         0            NaN         44  Secondary Education             1   \n",
      "280         0            NaN         66  secondary education             1   \n",
      "312         1            NaN         33  secondary education             1   \n",
      "317         0            NaN         21    bachelor's degree             0   \n",
      "320         0            NaN         63  secondary education             1   \n",
      "321         1            NaN         34    bachelor's degree             0   \n",
      "322         0            NaN         56  SECONDARY EDUCATION             1   \n",
      "328         0            NaN         69  secondary education             1   \n",
      "360         0            NaN         27  secondary education             1   \n",
      "361         0            NaN         59  secondary education             1   \n",
      "364         0            NaN         57  secondary education             1   \n",
      "376         0            NaN         23         Some College             2   \n",
      "383         0            NaN         55    bachelor's degree             0   \n",
      "389         1            NaN         31  SECONDARY EDUCATION             1   \n",
      "415         0            NaN         57    bachelor's degree             0   \n",
      "416         0            NaN         58  secondary education             1   \n",
      "421         0            NaN         45  secondary education             1   \n",
      "444         0            NaN         53  secondary education             1   \n",
      "458         0            NaN         48  secondary education             1   \n",
      "466         0            NaN         56  secondary education             1   \n",
      "\n",
      "         family_status  family_status_id gender    income_type  debt  \\\n",
      "12   civil partnership                 1      M        retiree     0   \n",
      "26             married                 0      M  civil servant     0   \n",
      "29           unmarried                 4      F        retiree     0   \n",
      "41             married                 0      F  civil servant     0   \n",
      "55   civil partnership                 1      F        retiree     1   \n",
      "65           unmarried                 4      M       business     0   \n",
      "67             married                 0      F        retiree     0   \n",
      "72             married                 0      M  civil servant     0   \n",
      "82             married                 0      F       employee     0   \n",
      "83             married                 0      M       employee     0   \n",
      "90             married                 0      F       employee     0   \n",
      "94   civil partnership                 1      F       business     0   \n",
      "96             married                 0      F       employee     0   \n",
      "97             married                 0      F       employee     0   \n",
      "120            married                 0      F       employee     0   \n",
      "121            married                 0      F       business     0   \n",
      "135            married                 0      M       business     0   \n",
      "141  civil partnership                 1      M       employee     0   \n",
      "145            married                 0      M        retiree     0   \n",
      "174    widow / widower                 2      F       business     0   \n",
      "181  civil partnership                 1      F       business     1   \n",
      "189          unmarried                 4      F       employee     0   \n",
      "205            married                 0      F       employee     0   \n",
      "220  civil partnership                 1      F       business     0   \n",
      "241            married                 0      M       employee     0   \n",
      "242            married                 0      F  civil servant     0   \n",
      "247            married                 0      F        retiree     1   \n",
      "250            married                 0      F       employee     0   \n",
      "264           divorced                 3      F       employee     0   \n",
      "278  civil partnership                 1      F       employee     1   \n",
      "279  civil partnership                 1      F       employee     0   \n",
      "280            married                 0      F        retiree     0   \n",
      "312  civil partnership                 1      M       employee     1   \n",
      "317          unmarried                 4      M       employee     0   \n",
      "320    widow / widower                 2      F       employee     0   \n",
      "321  civil partnership                 1      M       business     0   \n",
      "322  civil partnership                 1      F        retiree     1   \n",
      "328    widow / widower                 2      F       employee     0   \n",
      "360            married                 0      M       business     0   \n",
      "361    widow / widower                 2      F        retiree     0   \n",
      "364  civil partnership                 1      F       business     0   \n",
      "376          unmarried                 4      M       employee     0   \n",
      "383  civil partnership                 1      F       business     0   \n",
      "389           divorced                 3      M  civil servant     0   \n",
      "415    widow / widower                 2      F        retiree     0   \n",
      "416  civil partnership                 1      F        retiree     0   \n",
      "421            married                 0      F       employee     0   \n",
      "444    widow / widower                 2      F       employee     1   \n",
      "458  civil partnership                 1      F       business     0   \n",
      "466            married                 0      F        retiree     0   \n",
      "\n",
      "     total_income                                   purpose  \n",
      "12            NaN                         to have a wedding  \n",
      "26            NaN                                 education  \n",
      "29            NaN                    building a real estate  \n",
      "41            NaN                  second-hand car purchase  \n",
      "55            NaN                         to have a wedding  \n",
      "65            NaN  transactions with commercial real estate  \n",
      "67            NaN       purchase of the house for my family  \n",
      "72            NaN  transactions with commercial real estate  \n",
      "82            NaN                                   housing  \n",
      "83            NaN                                   housing  \n",
      "90            NaN                      housing transactions  \n",
      "94            NaN                          having a wedding  \n",
      "96            NaN               buy residential real estate  \n",
      "97            NaN                         profile education  \n",
      "120           NaN                      university education  \n",
      "121           NaN                                       car  \n",
      "135           NaN                                   housing  \n",
      "141           NaN                          wedding ceremony  \n",
      "145           NaN                       building a property  \n",
      "174           NaN                              to own a car  \n",
      "181           NaN       purchase of the house for my family  \n",
      "189           NaN                              to own a car  \n",
      "205           NaN                  buying a second-hand car  \n",
      "220           NaN                         to have a wedding  \n",
      "241           NaN              construction of own property  \n",
      "242           NaN                  purchase of my own house  \n",
      "247           NaN                       going to university  \n",
      "250           NaN                  second-hand car purchase  \n",
      "264           NaN                                  property  \n",
      "278           NaN                                       car  \n",
      "279           NaN          transactions with my real estate  \n",
      "280           NaN                      housing transactions  \n",
      "312           NaN           buying property for renting out  \n",
      "317           NaN                         purchase of a car  \n",
      "320           NaN                  buying a second-hand car  \n",
      "321           NaN                          having a wedding  \n",
      "322           NaN                         to have a wedding  \n",
      "328           NaN                              car purchase  \n",
      "360           NaN           buying property for renting out  \n",
      "361           NaN                                   housing  \n",
      "364           NaN                       going to university  \n",
      "376           NaN                  getting higher education  \n",
      "383           NaN                         to have a wedding  \n",
      "389           NaN                   supplementary education  \n",
      "415           NaN                                   housing  \n",
      "416           NaN                         profile education  \n",
      "421           NaN                         profile education  \n",
      "444           NaN                              to own a car  \n",
      "458           NaN                          wedding ceremony  \n",
      "466           NaN                   supplementary education  \n"
     ]
    }
   ],
   "source": [
    "# Vamos investigar clientes que não possuem dados sobre as características identificadas e a coluna com os valores ausentes\n",
    "\n",
    "filtered_cred_score = credit_score[(credit_score['days_employed'].isna())|credit_score['total_income'].isna()]\n",
    "print(filtered_cred_score.head(50))\n",
    "\n"
   ]
  },
  {
   "cell_type": "markdown",
   "metadata": {},
   "source": [
    "A porcentagem de valores ausentes é de pouco mais de 10%, o que indica que os valores ausentes não constituem um pedaço\n",
    "tão grande dos dados, não afetando tanto a distribuição se forem excluídos. Além disso, aparentemente os valores ausentes são\n",
    "realmente aleatórios, sendo que não encontrei nenhuma correlação entre as colunas que indicasse um padrão.\n"
   ]
  },
  {
   "cell_type": "markdown",
   "metadata": {},
   "source": [
    "## Transformação de dados\n"
   ]
  },
  {
   "cell_type": "code",
   "execution_count": 8,
   "metadata": {},
   "outputs": [
    {
     "name": "stdout",
     "output_type": "stream",
     "text": [
      "[\"bachelor's degree\" 'secondary education' 'Secondary Education'\n",
      " 'SECONDARY EDUCATION' \"BACHELOR'S DEGREE\" 'some college'\n",
      " 'primary education' \"Bachelor's Degree\" 'SOME COLLEGE' 'Some College'\n",
      " 'PRIMARY EDUCATION' 'Primary Education' 'Graduate Degree'\n",
      " 'GRADUATE DEGREE' 'graduate degree']\n"
     ]
    }
   ],
   "source": [
    "# Vamos ver todos os valores na coluna de educação para verificar se e quais grafias precisarão ser corrigidas\n",
    "\n",
    "print(credit_score['education'].unique())"
   ]
  },
  {
   "cell_type": "code",
   "execution_count": 9,
   "metadata": {
    "scrolled": true
   },
   "outputs": [],
   "source": [
    "\n",
    "credit_score['education'] = credit_score['education'].str.lower()\n",
    "credit_score = credit_score.replace(\"graduate degree\", \"bachelor's degree\")"
   ]
  },
  {
   "cell_type": "code",
   "execution_count": 10,
   "metadata": {},
   "outputs": [
    {
     "name": "stdout",
     "output_type": "stream",
     "text": [
      "[\"bachelor's degree\" 'secondary education' 'some college'\n",
      " 'primary education']\n"
     ]
    }
   ],
   "source": [
    "# Verificando todos os valores na coluna para ter certeza de que os corrigimos\n",
    "\n",
    "print(credit_score['education'].unique())\n"
   ]
  },
  {
   "cell_type": "code",
   "execution_count": 11,
   "metadata": {},
   "outputs": [
    {
     "name": "stdout",
     "output_type": "stream",
     "text": [
      " 0     14149\n",
      " 1      4818\n",
      " 2      2055\n",
      " 3       330\n",
      " 20       76\n",
      "-1        47\n",
      " 4        41\n",
      " 5         9\n",
      "Name: children, dtype: int64\n"
     ]
    }
   ],
   "source": [
    "# Vamos ver a distribuição de valores na coluna `children`\n",
    "\n",
    "print(credit_score['children'].value_counts())\n"
   ]
  },
  {
   "cell_type": "markdown",
   "metadata": {},
   "source": [
    "Tem muitas famílias com 20 filhos ou com -1 filhos. Isso implica que houve um erro de digitação, sendo a maior possibilidade que quiseram digitar 2 e 1 e digitaram errado. Por isso troquei os números de filhos pra 2 e 1 e não creio que isso vá \n",
    "impactar negativamente na análise."
   ]
  },
  {
   "cell_type": "code",
   "execution_count": 12,
   "metadata": {},
   "outputs": [],
   "source": [
    "\n",
    "\n",
    "credit_score['children'] = credit_score['children'].replace(20,2)\n",
    "credit_score['children'] = credit_score['children'].replace(-1,1)\n"
   ]
  },
  {
   "cell_type": "code",
   "execution_count": 13,
   "metadata": {},
   "outputs": [
    {
     "name": "stdout",
     "output_type": "stream",
     "text": [
      "0    14149\n",
      "1     4865\n",
      "2     2131\n",
      "3      330\n",
      "4       41\n",
      "5        9\n",
      "Name: children, dtype: int64\n"
     ]
    }
   ],
   "source": [
    "# Verificando a coluna `children` novamente para ter certeza de que está tudo corrigido\n",
    "\n",
    "print(credit_score['children'].value_counts())\n"
   ]
  },
  {
   "cell_type": "code",
   "execution_count": 14,
   "metadata": {},
   "outputs": [
    {
     "name": "stdout",
     "output_type": "stream",
     "text": [
      "[-8437.67302776 -4024.80375385 -5623.42261023 ... -2113.3468877\n",
      " -3112.4817052  -1984.50758853]\n"
     ]
    }
   ],
   "source": [
    "# Encontrando dados problemáticos em `days_employed`\n",
    "\n",
    "print(credit_score['days_employed'].unique())\n"
   ]
  },
  {
   "cell_type": "markdown",
   "metadata": {},
   "source": [
    "Os valores na coluna 'days_employed' estão negativos, o que não faz sentido. Provavelmente estava configurado pra multiplicar\n",
    "o valor inserido por -1. Por isso o valor certo tem que ser positivo, então mudei pra valores absolutos.\n",
    "Além disso, os valores estão em float, e deveriam ser inteiros, pois não existe um valor float de um dia.\n"
   ]
  },
  {
   "cell_type": "code",
   "execution_count": 15,
   "metadata": {},
   "outputs": [],
   "source": [
    "credit_score['days_employed'] = abs(credit_score['days_employed'])"
   ]
  },
  {
   "cell_type": "code",
   "execution_count": 16,
   "metadata": {},
   "outputs": [
    {
     "name": "stdout",
     "output_type": "stream",
     "text": [
      "0          8437.673028\n",
      "1          4024.803754\n",
      "2          5623.422610\n",
      "3          4124.747207\n",
      "4        340266.072047\n",
      "             ...      \n",
      "21520      4529.316663\n",
      "21521    343937.404131\n",
      "21522      2113.346888\n",
      "21523      3112.481705\n",
      "21524      1984.507589\n",
      "Name: days_employed, Length: 21525, dtype: float64\n"
     ]
    }
   ],
   "source": [
    "# Verificando o resultado\n",
    "\n",
    "print(credit_score['days_employed'])\n"
   ]
  },
  {
   "cell_type": "code",
   "execution_count": 17,
   "metadata": {
    "scrolled": true
   },
   "outputs": [
    {
     "name": "stdout",
     "output_type": "stream",
     "text": [
      "35    617\n",
      "40    609\n",
      "41    607\n",
      "34    603\n",
      "38    598\n",
      "42    597\n",
      "33    581\n",
      "39    573\n",
      "31    560\n",
      "36    555\n",
      "44    547\n",
      "29    545\n",
      "30    540\n",
      "48    538\n",
      "37    537\n",
      "50    514\n",
      "43    513\n",
      "32    510\n",
      "49    508\n",
      "28    503\n",
      "45    497\n",
      "27    493\n",
      "56    487\n",
      "52    484\n",
      "47    480\n",
      "54    479\n",
      "46    475\n",
      "58    461\n",
      "57    460\n",
      "53    459\n",
      "51    448\n",
      "59    444\n",
      "55    443\n",
      "26    408\n",
      "60    377\n",
      "25    357\n",
      "61    355\n",
      "62    352\n",
      "63    269\n",
      "64    265\n",
      "24    264\n",
      "23    254\n",
      "65    194\n",
      "66    183\n",
      "22    183\n",
      "67    167\n",
      "21    111\n",
      "0     101\n",
      "68     99\n",
      "69     85\n",
      "70     65\n",
      "71     58\n",
      "20     51\n",
      "72     33\n",
      "19     14\n",
      "73      8\n",
      "74      6\n",
      "75      1\n",
      "Name: dob_years, dtype: int64\n"
     ]
    }
   ],
   "source": [
    "# Verificando `dob_years` para valores suspeitos e contando a porcentagem\n",
    "\n",
    "print(credit_score['dob_years'].value_counts())"
   ]
  },
  {
   "cell_type": "markdown",
   "metadata": {},
   "source": [
    "Existe um valor de idade = 0 na coluna. Nesse caso o mais viável é calcular a média e subsitituir os valores de idade 0\n",
    "pela média."
   ]
  },
  {
   "cell_type": "code",
   "execution_count": 18,
   "metadata": {},
   "outputs": [],
   "source": [
    "credit_score['dob_years'] = (credit_score['dob_years'].replace(0,credit_score['dob_years'].mean().astype('int')))"
   ]
  },
  {
   "cell_type": "code",
   "execution_count": 19,
   "metadata": {},
   "outputs": [
    {
     "name": "stdout",
     "output_type": "stream",
     "text": [
      "35    617\n",
      "43    614\n",
      "40    609\n",
      "41    607\n",
      "34    603\n",
      "38    598\n",
      "42    597\n",
      "33    581\n",
      "39    573\n",
      "31    560\n",
      "36    555\n",
      "44    547\n",
      "29    545\n",
      "30    540\n",
      "48    538\n",
      "37    537\n",
      "50    514\n",
      "32    510\n",
      "49    508\n",
      "28    503\n",
      "45    497\n",
      "27    493\n",
      "56    487\n",
      "52    484\n",
      "47    480\n",
      "54    479\n",
      "46    475\n",
      "58    461\n",
      "57    460\n",
      "53    459\n",
      "51    448\n",
      "59    444\n",
      "55    443\n",
      "26    408\n",
      "60    377\n",
      "25    357\n",
      "61    355\n",
      "62    352\n",
      "63    269\n",
      "64    265\n",
      "24    264\n",
      "23    254\n",
      "65    194\n",
      "22    183\n",
      "66    183\n",
      "67    167\n",
      "21    111\n",
      "68     99\n",
      "69     85\n",
      "70     65\n",
      "71     58\n",
      "20     51\n",
      "72     33\n",
      "19     14\n",
      "73      8\n",
      "74      6\n",
      "75      1\n",
      "Name: dob_years, dtype: int64\n"
     ]
    }
   ],
   "source": [
    "print(credit_score['dob_years'].value_counts())\n",
    "\n",
    "#A média de idade é 43 anos.\n"
   ]
  },
  {
   "cell_type": "code",
   "execution_count": 20,
   "metadata": {},
   "outputs": [
    {
     "name": "stdout",
     "output_type": "stream",
     "text": [
      "['married' 'civil partnership' 'widow / widower' 'divorced' 'unmarried']\n"
     ]
    }
   ],
   "source": [
    "# Vamos ver os valores da coluna\n",
    "\n",
    "print(credit_score['family_status'].unique())"
   ]
  },
  {
   "cell_type": "code",
   "execution_count": 21,
   "metadata": {},
   "outputs": [],
   "source": [
    "#Nesse caso, pra esse estudo, creio que married e civil partnership contem como sendo da mesma categoria, logo podem ser \n",
    "#agrupados\n",
    "\n",
    "credit_score['family_status'] = credit_score['family_status'].replace('civil partnership', 'married')"
   ]
  },
  {
   "cell_type": "code",
   "execution_count": 22,
   "metadata": {},
   "outputs": [
    {
     "name": "stdout",
     "output_type": "stream",
     "text": [
      "['married' 'widow / widower' 'divorced' 'unmarried']\n"
     ]
    }
   ],
   "source": [
    "\n",
    "print(credit_score['family_status'].unique())"
   ]
  },
  {
   "cell_type": "code",
   "execution_count": 23,
   "metadata": {},
   "outputs": [
    {
     "name": "stdout",
     "output_type": "stream",
     "text": [
      "['F' 'M' 'XNA']\n"
     ]
    }
   ],
   "source": [
    "# Vamos ver os valores na coluna\n",
    "\n",
    "print(credit_score['gender'].unique())"
   ]
  },
  {
   "cell_type": "code",
   "execution_count": 24,
   "metadata": {},
   "outputs": [],
   "source": [
    "#Não existe o genero XNA, mas não acho que seja um problema nesse caso, podemos ignorar esse valor problemático"
   ]
  },
  {
   "cell_type": "code",
   "execution_count": 25,
   "metadata": {},
   "outputs": [
    {
     "name": "stdout",
     "output_type": "stream",
     "text": [
      "['F' 'M' 'XNA']\n"
     ]
    }
   ],
   "source": [
    "print(credit_score['gender'].unique())"
   ]
  },
  {
   "cell_type": "code",
   "execution_count": 26,
   "metadata": {},
   "outputs": [
    {
     "name": "stdout",
     "output_type": "stream",
     "text": [
      "employee                       11119\n",
      "business                        5085\n",
      "retiree                         3856\n",
      "civil servant                   1459\n",
      "entrepreneur                       2\n",
      "unemployed                         2\n",
      "student                            1\n",
      "paternity / maternity leave        1\n",
      "Name: income_type, dtype: int64\n"
     ]
    }
   ],
   "source": [
    "# Vamos ver os valores na coluna\n",
    "\n",
    "print(credit_score['income_type'].value_counts())\n"
   ]
  },
  {
   "cell_type": "code",
   "execution_count": 27,
   "metadata": {},
   "outputs": [],
   "source": [
    "\n",
    "#Para essa coluna os tipos de renda importam. Os únicos que podem ser agrupados são entrepreneur com business e civil servant\n",
    "#com employee\n",
    "\n",
    "credit_score['income_type'] = credit_score['income_type'].replace('entrepreneur', 'business')\n",
    "credit_score['income_type'] = credit_score['income_type'].replace('civil servant', 'employee')"
   ]
  },
  {
   "cell_type": "code",
   "execution_count": 28,
   "metadata": {},
   "outputs": [
    {
     "name": "stdout",
     "output_type": "stream",
     "text": [
      "employee                       12578\n",
      "business                        5087\n",
      "retiree                         3856\n",
      "unemployed                         2\n",
      "student                            1\n",
      "paternity / maternity leave        1\n",
      "Name: income_type, dtype: int64\n"
     ]
    }
   ],
   "source": [
    "print(credit_score['income_type'].value_counts())\n"
   ]
  },
  {
   "cell_type": "code",
   "execution_count": 29,
   "metadata": {},
   "outputs": [
    {
     "data": {
      "text/plain": [
       "74"
      ]
     },
     "execution_count": 29,
     "metadata": {},
     "output_type": "execute_result"
    }
   ],
   "source": [
    "credit_score.duplicated().sum()\n",
    "\n",
    "#Existem 74 linhas duplicadas, e elas podem ser removidas sem problemas pois não irão afetar a análise final\n"
   ]
  },
  {
   "cell_type": "code",
   "execution_count": 30,
   "metadata": {},
   "outputs": [],
   "source": [
    "credit_score = credit_score.drop_duplicates()"
   ]
  },
  {
   "cell_type": "code",
   "execution_count": 31,
   "metadata": {},
   "outputs": [
    {
     "data": {
      "text/plain": [
       "0"
      ]
     },
     "execution_count": 31,
     "metadata": {},
     "output_type": "execute_result"
    }
   ],
   "source": [
    "# Última verificação se temos duplicatas\n",
    "\n",
    "credit_score.duplicated().sum()"
   ]
  },
  {
   "cell_type": "code",
   "execution_count": 32,
   "metadata": {},
   "outputs": [
    {
     "name": "stdout",
     "output_type": "stream",
     "text": [
      "<class 'pandas.core.frame.DataFrame'>\n",
      "Int64Index: 21451 entries, 0 to 21524\n",
      "Data columns (total 12 columns):\n",
      " #   Column            Non-Null Count  Dtype  \n",
      "---  ------            --------------  -----  \n",
      " 0   children          21451 non-null  int64  \n",
      " 1   days_employed     19351 non-null  float64\n",
      " 2   dob_years         21451 non-null  int64  \n",
      " 3   education         21451 non-null  object \n",
      " 4   education_id      21451 non-null  int64  \n",
      " 5   family_status     21451 non-null  object \n",
      " 6   family_status_id  21451 non-null  int64  \n",
      " 7   gender            21451 non-null  object \n",
      " 8   income_type       21451 non-null  object \n",
      " 9   debt              21451 non-null  int64  \n",
      " 10  total_income      19351 non-null  float64\n",
      " 11  purpose           21451 non-null  object \n",
      "dtypes: float64(2), int64(5), object(5)\n",
      "memory usage: 2.1+ MB\n"
     ]
    }
   ],
   "source": [
    "credit_score.info()\n"
   ]
  },
  {
   "cell_type": "markdown",
   "metadata": {},
   "source": [
    "O dataframe inicial possuia 21525 linhas. Após filtragem e seleção dos melhores dados para serem trabalhados terminamos com um dataframe com 21451 linhas."
   ]
  },
  {
   "cell_type": "markdown",
   "metadata": {},
   "source": [
    "# Trabalhando com valores ausentes"
   ]
  },
  {
   "cell_type": "markdown",
   "metadata": {},
   "source": [
    "### Restaurar valores ausentes em `total_income`"
   ]
  },
  {
   "cell_type": "markdown",
   "metadata": {},
   "source": [
    "As colunas que exigem correção são as colunas 'days_employed' e 'total_income'. Para resolver esse problema vou substituir os valores ausentes pela média ou pela mediana, dependendo da que manter um valor mais próximo da realidade, para cada uma das colunas.\n",
    "\n"
   ]
  },
  {
   "cell_type": "code",
   "execution_count": 33,
   "metadata": {},
   "outputs": [],
   "source": [
    "# Vamos escrever uma função que calcule a categoria de idade\n",
    "\n",
    "def age_group(age):\n",
    "    if age <= 24:\n",
    "        return 'young adult'\n",
    "    if age <= 60:\n",
    "        return 'adult'\n",
    "    return 'elder'"
   ]
  },
  {
   "cell_type": "code",
   "execution_count": 34,
   "metadata": {},
   "outputs": [
    {
     "name": "stdout",
     "output_type": "stream",
     "text": [
      "adult          18450\n",
      "elder           2126\n",
      "young adult      875\n",
      "Name: age_group, dtype: int64\n"
     ]
    }
   ],
   "source": [
    "# Testando se a função funciona\n",
    "\n",
    "credit_score['age_group'] = credit_score['dob_years'].apply(age_group)\n",
    "print(credit_score['age_group'].value_counts())"
   ]
  },
  {
   "cell_type": "code",
   "execution_count": 35,
   "metadata": {},
   "outputs": [
    {
     "name": "stdout",
     "output_type": "stream",
     "text": [
      "    children  days_employed  dob_years            education  education_id  \\\n",
      "0          1    8437.673028         42    bachelor's degree             0   \n",
      "1          1    4024.803754         36  secondary education             1   \n",
      "2          0    5623.422610         33  secondary education             1   \n",
      "3          3    4124.747207         32  secondary education             1   \n",
      "4          0  340266.072047         53  secondary education             1   \n",
      "5          0     926.185831         27    bachelor's degree             0   \n",
      "6          0    2879.202052         43    bachelor's degree             0   \n",
      "7          0     152.779569         50  secondary education             1   \n",
      "8          2    6929.865299         35    bachelor's degree             0   \n",
      "9          0    2188.756445         41  secondary education             1   \n",
      "10         2    4171.483647         36    bachelor's degree             0   \n",
      "11         0     792.701887         40  secondary education             1   \n",
      "13         0    1846.641941         54         some college             2   \n",
      "14         0    1844.956182         56    bachelor's degree             0   \n",
      "15         1     972.364419         26  secondary education             1   \n",
      "16         0    1719.934226         35  secondary education             1   \n",
      "17         0    2369.999720         33    bachelor's degree             0   \n",
      "18         0  400281.136913         53  secondary education             1   \n",
      "19         0   10038.818549         48  secondary education             1   \n",
      "20         1    1311.604166         36  secondary education             1   \n",
      "21         1     253.685166         33  secondary education             1   \n",
      "22         1    1766.644138         24  secondary education             1   \n",
      "23         0     272.981385         21    bachelor's degree             0   \n",
      "24         1  338551.952911         57  secondary education             1   \n",
      "25         0  363548.489348         67  secondary education             1   \n",
      "27         0     529.191635         28    bachelor's degree             0   \n",
      "28         1     717.274324         26    bachelor's degree             0   \n",
      "30         1  335581.668515         62  secondary education             1   \n",
      "31         0    1682.083438         47    primary education             3   \n",
      "32         0    4649.910832         34  secondary education             1   \n",
      "33         0    1548.637544         48  secondary education             1   \n",
      "34         0    4488.067031         35  secondary education             1   \n",
      "35         0  394021.072184         68  secondary education             1   \n",
      "36         0     176.216688         33  secondary education             1   \n",
      "37         0    6448.810860         43    bachelor's degree             0   \n",
      "38         0     597.881827         25    bachelor's degree             0   \n",
      "39         0     650.587796         31    bachelor's degree             0   \n",
      "40         0    1030.362606         30  secondary education             1   \n",
      "42         0    1257.496190         20         some college             2   \n",
      "43         0    4375.681384         43         some college             2   \n",
      "44         1    1362.041728         26  secondary education             1   \n",
      "45         1    1039.451741         49  secondary education             1   \n",
      "46         2    2262.712304         37  secondary education             1   \n",
      "47         1    2689.137274         33    bachelor's degree             0   \n",
      "48         0    3341.067886         45  secondary education             1   \n",
      "49         0    1181.443228         54  secondary education             1   \n",
      "50         0  353731.432338         63  secondary education             1   \n",
      "51         1    6953.631655         50    bachelor's degree             0   \n",
      "52         1    3554.671526         28  secondary education             1   \n",
      "53         0    4219.883386         61  secondary education             1   \n",
      "\n",
      "      family_status  family_status_id gender income_type  debt  total_income  \\\n",
      "0           married                 0      F    employee     0     40620.102   \n",
      "1           married                 0      F    employee     0     17932.802   \n",
      "2           married                 0      M    employee     0     23341.752   \n",
      "3           married                 0      M    employee     0     42820.568   \n",
      "4           married                 1      F     retiree     0     25378.572   \n",
      "5           married                 1      M    business     0     40922.170   \n",
      "6           married                 0      F    business     0     38484.156   \n",
      "7           married                 0      M    employee     0     21731.829   \n",
      "8           married                 1      F    employee     0     15337.093   \n",
      "9           married                 0      M    employee     0     23108.150   \n",
      "10          married                 0      M    business     0     18230.959   \n",
      "11          married                 0      F    employee     0     12331.077   \n",
      "13          married                 0      F    employee     0     20873.317   \n",
      "14          married                 1      F    business     1     26420.466   \n",
      "15          married                 0      F    employee     0     18691.345   \n",
      "16          married                 0      F    employee     0     46272.433   \n",
      "17          married                 1      M    employee     0     14465.694   \n",
      "18  widow / widower                 2      F     retiree     0      9091.804   \n",
      "19         divorced                 3      F    employee     0     38852.977   \n",
      "20          married                 0      M    employee     0     33528.423   \n",
      "21          married                 1      F    employee     0     21089.953   \n",
      "22          married                 1      F    employee     0     23948.983   \n",
      "23          married                 1      M    employee     0     20522.515   \n",
      "24        unmarried                 4      F     retiree     0     46487.558   \n",
      "25          married                 0      M     retiree     0      8818.041   \n",
      "27          married                 0      M    employee     0     49415.837   \n",
      "28          married                 0      F    employee     0     30058.118   \n",
      "30          married                 0      F     retiree     0     27432.971   \n",
      "31          married                 0      F    employee     0     44077.710   \n",
      "32          married                 1      F    employee     1     22249.194   \n",
      "33          married                 0      F    business     0     25159.326   \n",
      "34          married                 0      F    employee     0     16745.672   \n",
      "35          married                 1      M     retiree     0     12448.908   \n",
      "36        unmarried                 4      M    employee     0     22212.904   \n",
      "37          married                 1      F    business     0     24660.621   \n",
      "38        unmarried                 4      M    employee     1     30759.568   \n",
      "39          married                 1      F    business     0    120678.528   \n",
      "40        unmarried                 4      M    business     0     22858.493   \n",
      "42        unmarried                 4      F    employee     0     13130.414   \n",
      "43         divorced                 3      F    business     0     43673.141   \n",
      "44          married                 0      F    employee     0     16124.879   \n",
      "45        unmarried                 4      F    employee     0     17021.747   \n",
      "46          married                 0      F    business     0     29229.194   \n",
      "47          married                 1      M    employee     0     57004.465   \n",
      "48          married                 0      F    employee     0     25930.483   \n",
      "49          married                 0      F    employee     0      7134.689   \n",
      "50          married                 0      F     retiree     0     14774.837   \n",
      "51          married                 1      F    employee     0     32511.949   \n",
      "52          married                 0      F    employee     0      8439.428   \n",
      "53         divorced                 3      F    business     0     49832.576   \n",
      "\n",
      "                                     purpose    age_group  \n",
      "0                      purchase of the house        adult  \n",
      "1                               car purchase        adult  \n",
      "2                      purchase of the house        adult  \n",
      "3                    supplementary education        adult  \n",
      "4                          to have a wedding        adult  \n",
      "5                      purchase of the house        adult  \n",
      "6                       housing transactions        adult  \n",
      "7                                  education        adult  \n",
      "8                           having a wedding        adult  \n",
      "9        purchase of the house for my family        adult  \n",
      "10                           buy real estate        adult  \n",
      "11                buy commercial real estate        adult  \n",
      "13                              car purchase        adult  \n",
      "14               buy residential real estate        adult  \n",
      "15              construction of own property        adult  \n",
      "16                                  property        adult  \n",
      "17                       building a property        adult  \n",
      "18                  buying a second-hand car        adult  \n",
      "19                         buying my own car        adult  \n",
      "20                                  property        adult  \n",
      "21                              car purchase        adult  \n",
      "22                  buying a second-hand car  young adult  \n",
      "23                         to have a wedding  young adult  \n",
      "24  transactions with commercial real estate        adult  \n",
      "25                           buy real estate        elder  \n",
      "27              construction of own property        adult  \n",
      "28              construction of own property        adult  \n",
      "30  transactions with commercial real estate        elder  \n",
      "31                                   housing        adult  \n",
      "32                          having a wedding        adult  \n",
      "33                     purchase of the house        adult  \n",
      "34          transactions with my real estate        adult  \n",
      "35                          having a wedding        elder  \n",
      "36                                      cars        adult  \n",
      "37                              car purchase        adult  \n",
      "38                                 education        adult  \n",
      "39                        to become educated        adult  \n",
      "40                           buy real estate        adult  \n",
      "42                      getting an education  young adult  \n",
      "43                              car purchase        adult  \n",
      "44                         buying my own car        adult  \n",
      "45                        to become educated        adult  \n",
      "46                  second-hand car purchase        adult  \n",
      "47                          having a wedding        adult  \n",
      "48              construction of own property        adult  \n",
      "49                                       car        adult  \n",
      "50                                      cars        elder  \n",
      "51                          wedding ceremony        adult  \n",
      "52          to get a supplementary education        adult  \n",
      "53                  purchase of my own house        elder  \n"
     ]
    }
   ],
   "source": [
    "credit_score_xna = credit_score.dropna()\n",
    "print(credit_score_xna.head(50))"
   ]
  },
  {
   "cell_type": "code",
   "execution_count": 36,
   "metadata": {},
   "outputs": [
    {
     "name": "stdout",
     "output_type": "stream",
     "text": [
      "33142.80243405428\n",
      "24594.50303709925\n",
      "29045.443644444447\n",
      "['employee' 'retiree' 'business' 'unemployed' 'student'\n",
      " 'paternity / maternity leave']\n",
      "25997.252501147803\n",
      "21940.39450304967\n",
      "32397.165025557017\n",
      "21014.360500000003\n",
      "15712.26\n",
      "8612.661\n",
      "25997.252501147803\n",
      "21940.39450304967\n",
      "32397.165025557017\n",
      "21014.360500000003\n",
      "15712.26\n",
      "8612.661\n"
     ]
    }
   ],
   "source": [
    "#Os fatores mais impactantes na renda total de alguém são o tipo de educação que a pessoa teve e também o tipo de renda dela.\n",
    "#Desse modo, vou calcular a média para cada nível de educação e a média para cada tipo de fonte de renda.\n",
    "\n",
    "print(credit_score_xna.loc[credit_score_xna['education_id']==0]['total_income'].mean())\n",
    "print(credit_score_xna.loc[credit_score_xna['education_id']==1]['total_income'].mean())\n",
    "print(credit_score_xna.loc[credit_score_xna['education_id']==2]['total_income'].mean())\n",
    "\n",
    "#Os valores foram exatamente os esperados. O grupo com maior renda é o que possui uma graduação em faculdade, seguido \n",
    "# pelo grupo que possui algum nível de aprendizado em faculdade e por último os que possuem nível escolar\n",
    "\n",
    "print(credit_score_xna['income_type'].unique())\n",
    "print(credit_score_xna.loc[credit_score_xna['income_type']=='employee']['total_income'].mean())\n",
    "print(credit_score_xna.loc[credit_score_xna['income_type']=='retiree']['total_income'].mean())\n",
    "print(credit_score_xna.loc[credit_score_xna['income_type']=='business']['total_income'].mean())\n",
    "print(credit_score_xna.loc[credit_score_xna['income_type']=='unemployed']['total_income'].mean())\n",
    "print(credit_score_xna.loc[credit_score_xna['income_type']=='student']['total_income'].mean())\n",
    "print(credit_score_xna.loc[credit_score_xna['income_type']=='paternity / maternity leave']['total_income'].mean())\n",
    "\n",
    "#Aqui novamente foram os valores esperados. A maior renda é de quem possui um negócio, seguido por empregados, aposentados,\n",
    "#desempregados, estudantes e pais que recebem pensão\n",
    "\n",
    "#Também é possivel fazer com um for\n",
    "for i in credit_score_xna['income_type'].unique():\n",
    "    print(credit_score_xna.loc[credit_score_xna['income_type'] == i]['total_income'].mean())\n"
   ]
  },
  {
   "cell_type": "code",
   "execution_count": 37,
   "metadata": {
    "scrolled": true
   },
   "outputs": [
    {
     "name": "stdout",
     "output_type": "stream",
     "text": [
      "28054.531000000003\n",
      "21836.583\n",
      "25618.464\n",
      "['employee' 'retiree' 'business' 'unemployed' 'student'\n",
      " 'paternity / maternity leave']\n",
      "22927.388\n",
      "18962.318\n",
      "27583.36\n",
      "21014.360500000003\n",
      "15712.26\n",
      "8612.661\n",
      "\n",
      "22927.388\n",
      "18962.318\n",
      "27583.36\n",
      "21014.360500000003\n",
      "15712.26\n",
      "8612.661\n"
     ]
    }
   ],
   "source": [
    "print(credit_score_xna.loc[credit_score_xna['education_id']==0]['total_income'].median())\n",
    "print(credit_score_xna.loc[credit_score_xna['education_id']==1]['total_income'].median())\n",
    "print(credit_score_xna.loc[credit_score_xna['education_id']==2]['total_income'].median())\n",
    "\n",
    "# Os valores foram exatamente os esperados. O grupo com maior renda é o que possui uma graduação em faculdade, seguido \n",
    "# pelo grupo que possui algum nível de aprendizado em faculdade e por último os que possuem nível escolar\n",
    "\n",
    "print(credit_score_xna['income_type'].unique())\n",
    "print(credit_score_xna.loc[credit_score_xna['income_type']=='employee']['total_income'].median())\n",
    "print(credit_score_xna.loc[credit_score_xna['income_type']=='retiree']['total_income'].median())\n",
    "print(credit_score_xna.loc[credit_score_xna['income_type']=='business']['total_income'].median())\n",
    "print(credit_score_xna.loc[credit_score_xna['income_type']=='unemployed']['total_income'].median())\n",
    "print(credit_score_xna.loc[credit_score_xna['income_type']=='student']['total_income'].median())\n",
    "print(credit_score_xna.loc[credit_score_xna['income_type']=='paternity / maternity leave']['total_income'].median())\n",
    "\n",
    "print('')\n",
    "\n",
    "#também é possível usar um for se forem muitos valores únicos\n",
    "for i in credit_score_xna['income_type'].unique():\n",
    "    print(credit_score_xna.loc[credit_score_xna['income_type'] == i]['total_income'].median())"
   ]
  },
  {
   "cell_type": "markdown",
   "metadata": {},
   "source": [
    "Eu fiz as comparações entre o tipo de renda e para o tipo de educação que cada pessoa teve, pra analisar se a renda de cada individuo estava diretamente ligada à sua educação e seu tipo de renda.\n",
    "\n"
   ]
  },
  {
   "cell_type": "markdown",
   "metadata": {},
   "source": [
    "As características que eu defini que mais impactam na renda são o grau de escolaridade e o tipo de renda. Os valores da mediana são muito abaixo do valor da média para cada grupo diferente, pois eu realizei agrupamentos pra checar a média e a mediana, e eu só poderia escolher a média se a média fosse próxima em todas categorias. Como não é, a médiana é mais condizente com a realidade."
   ]
  },
  {
   "cell_type": "code",
   "execution_count": 38,
   "metadata": {},
   "outputs": [],
   "source": [
    "def fill_nan(df, col, parametro1, parametro2):\n",
    "    credit_score_xna = credit_score.groupby([parametro1, parametro2])[col].median().reset_index()\n",
    "    credit_score_xna[col] = credit_score_xna[col].fillna(credit_score[col].median())\n",
    "    \n",
    "    for i in range(credit_score_xna.shape[0]):\n",
    "        grupo1 = credit_score_xna.loc[i, parametro1]\n",
    "        grupo2 = credit_score_xna.loc[i, parametro2]\n",
    "        valor = credit_score_xna.loc[i, col]\n",
    "        \n",
    "        credit_score.loc[(credit_score[parametro1]==grupo1) & (credit_score[parametro2]==grupo2), col] = credit_score.loc[(credit_score[parametro1]==grupo1) & (credit_score[parametro2]==grupo2), col].fillna(valor)\n",
    "    \n",
    "    return credit_score"
   ]
  },
  {
   "cell_type": "code",
   "execution_count": 39,
   "metadata": {},
   "outputs": [
    {
     "data": {
      "text/plain": [
       "children               0\n",
       "days_employed       2100\n",
       "dob_years              0\n",
       "education              0\n",
       "education_id           0\n",
       "family_status          0\n",
       "family_status_id       0\n",
       "gender                 0\n",
       "income_type            0\n",
       "debt                   0\n",
       "total_income           0\n",
       "purpose                0\n",
       "age_group              0\n",
       "dtype: int64"
      ]
     },
     "execution_count": 39,
     "metadata": {},
     "output_type": "execute_result"
    }
   ],
   "source": [
    "fill_nan(credit_score,'total_income','education_id','income_type')\n",
    "credit_score.isna().sum()\n"
   ]
  },
  {
   "cell_type": "markdown",
   "metadata": {},
   "source": [
    "###  Restaurar valores em `days_employed`"
   ]
  },
  {
   "cell_type": "markdown",
   "metadata": {},
   "source": [
    "Do mesmo modo, chequei se os grupos de idade mais avançada não possuem mais dias trabalhados em relação aos adultos."
   ]
  },
  {
   "cell_type": "code",
   "execution_count": 40,
   "metadata": {
    "pycharm": {
     "name": "#%%\n"
    }
   },
   "outputs": [
    {
     "name": "stdout",
     "output_type": "stream",
     "text": [
      "employee                       11326\n",
      "business                        4578\n",
      "retiree                         3443\n",
      "unemployed                         2\n",
      "student                            1\n",
      "paternity / maternity leave        1\n",
      "Name: income_type, dtype: int64\n",
      "1673.3520511213108\n",
      "365213.3062657312\n",
      "1546.3332141566746\n",
      "366413.65274420456\n",
      "578.7515535382181\n",
      "3296.7599620220594\n",
      "adult          16655\n",
      "elder           1917\n",
      "young adult      779\n",
      "Name: age_group, dtype: int64\n",
      "2020.3878080900597\n",
      "744.5421298923785\n",
      "356191.1376668496\n"
     ]
    }
   ],
   "source": [
    "# Distribuição de `days_employed` medianos com base em seus parâmetros identificados\n",
    "\n",
    "#Os parametros que influenciam nos dias empregados são: o tipo de emprego/renda e o grupo etário que a pessoa pertence. \n",
    "\n",
    "print(credit_score_xna['income_type'].value_counts())\n",
    "for i in credit_score_xna['income_type'].unique():\n",
    "    print(credit_score_xna.loc[credit_score_xna['income_type'] == i]['days_employed'].median())\n",
    "    \n",
    "#Pessoas que são donas do próprio negócio tem mais dias trabalhados.\n",
    "\n",
    "print(credit_score_xna['age_group'].value_counts())\n",
    "for i in credit_score_xna['age_group'].unique():\n",
    "    print(credit_score_xna.loc[credit_score_xna['age_group'] == i]['days_employed'].median())\n",
    "\n",
    "#Aqui vejo um problema, a mediana naõ reflete os dias trabalhados do grupo de idosos nem dos jovens adultos"
   ]
  },
  {
   "cell_type": "code",
   "execution_count": 41,
   "metadata": {},
   "outputs": [
    {
     "name": "stdout",
     "output_type": "stream",
     "text": [
      "employee                       11326\n",
      "business                        4578\n",
      "retiree                         3443\n",
      "unemployed                         2\n",
      "student                            1\n",
      "paternity / maternity leave        1\n",
      "Name: income_type, dtype: int64\n",
      "2450.8412399581803\n",
      "365003.4912448612\n",
      "2111.176937329012\n",
      "366413.65274420456\n",
      "578.7515535382181\n",
      "3296.7599620220594\n",
      "adult          16655\n",
      "elder           1917\n",
      "young adult      779\n",
      "Name: age_group, dtype: int64\n",
      "44225.724093366334\n",
      "1282.6504205713256\n",
      "290708.5548373909\n"
     ]
    }
   ],
   "source": [
    "# Distribuição de `days_employed` médios com base em seus parâmetros identificados\n",
    "\n",
    "print(credit_score_xna['income_type'].value_counts())\n",
    "for i in credit_score_xna['income_type'].unique():\n",
    "    print(credit_score_xna.loc[credit_score_xna['income_type'] == i]['days_employed'].mean())\n",
    "\n",
    "#A média de dias trabalhados pessoas que tem um emprego é a maior novamente, e todos outros valores estão bem próximos    \n",
    "    \n",
    "print(credit_score_xna['age_group'].value_counts())\n",
    "for i in credit_score_xna['age_group'].unique():\n",
    "    print(credit_score_xna.loc[credit_score_xna['age_group'] == i]['days_employed'].mean())\n",
    "    \n",
    "#Apesar do número de dias trabalhados de jovens adultos continuar sendo o maior, os dias empregados de adultos fazem muito mais sentido"
   ]
  },
  {
   "cell_type": "markdown",
   "metadata": {},
   "source": [
    "Vou usar as médias, devido aos dias trabalhados de adultos serem mais condinzentes"
   ]
  },
  {
   "cell_type": "code",
   "execution_count": 42,
   "metadata": {},
   "outputs": [],
   "source": [
    "\n",
    "def fill_nan2(df, col, parametro1, parametro2):\n",
    "    credit_score_xna = credit_score.groupby([parametro1, parametro2])[col].mean().reset_index()\n",
    "    credit_score_xna[col] = credit_score_xna[col].fillna(credit_score[col].mean())\n",
    "    \n",
    "    for i in range(credit_score_xna.shape[0]):\n",
    "        grupo1 = credit_score_xna.loc[i, parametro1]\n",
    "        grupo2 = credit_score_xna.loc[i, parametro2]\n",
    "        valor = credit_score_xna.loc[i, col]\n",
    "        \n",
    "        credit_score.loc[(credit_score[parametro1]==grupo1) & (credit_score[parametro2]==grupo2), col] = credit_score.loc[(credit_score[parametro1]==grupo1) & (credit_score[parametro2]==grupo2), col].fillna(valor)\n",
    "    \n",
    "    return credit_score"
   ]
  },
  {
   "cell_type": "code",
   "execution_count": 43,
   "metadata": {},
   "outputs": [
    {
     "data": {
      "text/plain": [
       "children            0\n",
       "days_employed       0\n",
       "dob_years           0\n",
       "education           0\n",
       "education_id        0\n",
       "family_status       0\n",
       "family_status_id    0\n",
       "gender              0\n",
       "income_type         0\n",
       "debt                0\n",
       "total_income        0\n",
       "purpose             0\n",
       "age_group           0\n",
       "dtype: int64"
      ]
     },
     "execution_count": 43,
     "metadata": {},
     "output_type": "execute_result"
    }
   ],
   "source": [
    "# Aplicar função ao income_type\n",
    "\n",
    "fill_nan2(credit_score,'days_employed','income_type','age_group')\n",
    "credit_score.isna().sum()\n",
    "\n"
   ]
  },
  {
   "cell_type": "markdown",
   "metadata": {},
   "source": [
    "Funcionou, não tenho mais valores ausentes\n",
    "\n"
   ]
  },
  {
   "cell_type": "markdown",
   "metadata": {},
   "source": [
    "## Categorização de dados\n",
    "\n",
    "É importante agora categorizar os dados de propósito do empréstimo, pois existem muitos propositos iguais escritos de maneira diferente, assim como um ranqueamento pro tipo de renda de cada pessoa.\n"
   ]
  },
  {
   "cell_type": "code",
   "execution_count": 44,
   "metadata": {
    "scrolled": true
   },
   "outputs": [
    {
     "name": "stdout",
     "output_type": "stream",
     "text": [
      "wedding ceremony                            791\n",
      "having a wedding                            768\n",
      "to have a wedding                           765\n",
      "real estate transactions                    675\n",
      "buy commercial real estate                  661\n",
      "housing transactions                        652\n",
      "buying property for renting out             651\n",
      "transactions with commercial real estate    650\n",
      "housing                                     646\n",
      "purchase of the house                       646\n",
      "purchase of the house for my family         638\n",
      "construction of own property                634\n",
      "property                                    633\n",
      "transactions with my real estate            627\n",
      "building a real estate                      624\n",
      "buy real estate                             621\n",
      "purchase of my own house                    620\n",
      "building a property                         618\n",
      "housing renovation                          607\n",
      "buy residential real estate                 606\n",
      "buying my own car                           505\n",
      "going to university                         496\n",
      "car                                         494\n",
      "second-hand car purchase                    486\n",
      "to own a car                                478\n",
      "buying a second-hand car                    478\n",
      "cars                                        478\n",
      "to buy a car                                471\n",
      "car purchase                                461\n",
      "supplementary education                     460\n",
      "purchase of a car                           455\n",
      "university education                        452\n",
      "education                                   447\n",
      "to get a supplementary education            446\n",
      "getting an education                        442\n",
      "profile education                           435\n",
      "getting higher education                    426\n",
      "to become educated                          408\n",
      "Name: purpose, dtype: int64\n"
     ]
    }
   ],
   "source": [
    "print(credit_score['purpose'].value_counts())"
   ]
  },
  {
   "cell_type": "code",
   "execution_count": 45,
   "metadata": {},
   "outputs": [
    {
     "name": "stdout",
     "output_type": "stream",
     "text": [
      "['purchase of the house' 'car purchase' 'supplementary education'\n",
      " 'to have a wedding' 'housing transactions' 'education' 'having a wedding'\n",
      " 'purchase of the house for my family' 'buy real estate'\n",
      " 'buy commercial real estate' 'buy residential real estate'\n",
      " 'construction of own property' 'property' 'building a property'\n",
      " 'buying a second-hand car' 'buying my own car'\n",
      " 'transactions with commercial real estate' 'building a real estate'\n",
      " 'housing' 'transactions with my real estate' 'cars' 'to become educated'\n",
      " 'second-hand car purchase' 'getting an education' 'car'\n",
      " 'wedding ceremony' 'to get a supplementary education'\n",
      " 'purchase of my own house' 'real estate transactions'\n",
      " 'getting higher education' 'to own a car' 'purchase of a car'\n",
      " 'profile education' 'university education'\n",
      " 'buying property for renting out' 'to buy a car' 'housing renovation'\n",
      " 'going to university']\n"
     ]
    }
   ],
   "source": [
    "print(credit_score['purpose'].unique())"
   ]
  },
  {
   "cell_type": "code",
   "execution_count": 46,
   "metadata": {},
   "outputs": [],
   "source": [
    "# Vamos escrever uma função para categorizar os dados com base em tópicos comunss\n",
    "\n",
    "def proposito(x):\n",
    "    if 'wedding ceremony' in x:\n",
    "        return 1\n",
    "    if 'having a wedding' in x:\n",
    "        return 1\n",
    "    if 'to have a wedding' in x:\n",
    "        return 1\n",
    "    if 'real estate transactions' in x:\n",
    "        return 2\n",
    "    if 'buy commercial real estate' in x:\n",
    "        return 2\n",
    "    if 'housing transactions' in x:\n",
    "        return 2\n",
    "    if 'buying property for renting out' in x:\n",
    "        return 2\n",
    "    if 'transactions with commercial real estate' in x:\n",
    "        return 2\n",
    "    if 'purchase of the house' in x:\n",
    "        return 2\n",
    "    if 'housing' in x:\n",
    "        return 2\n",
    "    if 'purchase of the house for my family' in x:\n",
    "        return 2\n",
    "    if 'construction of own property' in x:\n",
    "        return 2\n",
    "    if 'property' in x:\n",
    "        return 2\n",
    "    if 'transactions with my real estate' in x:\n",
    "        return 2\n",
    "    if 'building a real estate' in x:\n",
    "        return 2\n",
    "    if 'buy real estate' in x:\n",
    "        return 2\n",
    "    if 'purchase of my own house' in x:\n",
    "        return 2\n",
    "    if 'building a property' in x:\n",
    "        return 2\n",
    "    if 'housing renovation' in x:\n",
    "        return 2\n",
    "    if 'buy residential real estate' in x:\n",
    "        return 2\n",
    "    if 'buying my own car' in x:\n",
    "        return 3\n",
    "    if 'car' in x:\n",
    "        return 3\n",
    "    if 'second-hand car purchase' in x:\n",
    "        return 3\n",
    "    if 'cars' in x:\n",
    "        return 3\n",
    "    if 'to own a car' in x:\n",
    "        return 3\n",
    "    if 'buying a second-hand car' in x:\n",
    "        return 3\n",
    "    if 'to buy a car' in x:\n",
    "        return 3\n",
    "    if 'car purchase' in x:\n",
    "        return 3\n",
    "    if 'purchase of a car' in x:\n",
    "        return 3\n",
    "    if 'going to university' in x:\n",
    "        return 4\n",
    "    if 'supplementary education' in x:\n",
    "        return 4\n",
    "    if 'university education' in x:\n",
    "        return 4\n",
    "    if 'education' in x:\n",
    "        return 4\n",
    "    if 'to get a supplementary education' in x:\n",
    "        return 4\n",
    "    if 'getting an education' in x:\n",
    "        return 4\n",
    "    if 'profile education' in x:\n",
    "        return 4\n",
    "    if 'getting higher education' in x:\n",
    "        return 4\n",
    "    if 'to become educated' in x:\n",
    "        return 4\n",
    "    return credit_score\n",
    "    \n"
   ]
  },
  {
   "cell_type": "code",
   "execution_count": 47,
   "metadata": {},
   "outputs": [
    {
     "name": "stdout",
     "output_type": "stream",
     "text": [
      "2    10809\n",
      "3     4306\n",
      "4     4012\n",
      "1     2324\n",
      "Name: purpose_id, dtype: int64\n",
      "   children  days_employed  dob_years            education  education_id  \\\n",
      "0         1    8437.673028         42    bachelor's degree             0   \n",
      "1         1    4024.803754         36  secondary education             1   \n",
      "2         0    5623.422610         33  secondary education             1   \n",
      "3         3    4124.747207         32  secondary education             1   \n",
      "4         0  340266.072047         53  secondary education             1   \n",
      "5         0     926.185831         27    bachelor's degree             0   \n",
      "6         0    2879.202052         43    bachelor's degree             0   \n",
      "7         0     152.779569         50  secondary education             1   \n",
      "8         2    6929.865299         35    bachelor's degree             0   \n",
      "9         0    2188.756445         41  secondary education             1   \n",
      "\n",
      "  family_status  family_status_id gender income_type  debt  total_income  \\\n",
      "0       married                 0      F    employee     0     40620.102   \n",
      "1       married                 0      F    employee     0     17932.802   \n",
      "2       married                 0      M    employee     0     23341.752   \n",
      "3       married                 0      M    employee     0     42820.568   \n",
      "4       married                 1      F     retiree     0     25378.572   \n",
      "5       married                 1      M    business     0     40922.170   \n",
      "6       married                 0      F    business     0     38484.156   \n",
      "7       married                 0      M    employee     0     21731.829   \n",
      "8       married                 1      F    employee     0     15337.093   \n",
      "9       married                 0      M    employee     0     23108.150   \n",
      "\n",
      "                               purpose age_group  purpose_id  \n",
      "0                purchase of the house     adult           2  \n",
      "1                         car purchase     adult           3  \n",
      "2                purchase of the house     adult           2  \n",
      "3              supplementary education     adult           4  \n",
      "4                    to have a wedding     adult           1  \n",
      "5                purchase of the house     adult           2  \n",
      "6                 housing transactions     adult           2  \n",
      "7                            education     adult           4  \n",
      "8                     having a wedding     adult           1  \n",
      "9  purchase of the house for my family     adult           2  \n"
     ]
    }
   ],
   "source": [
    "# Criando uma coluna com as categorias e contando os valores para elas\n",
    "\n",
    "credit_score['purpose_id'] = credit_score['purpose'].apply(proposito).astype('int')\n",
    "print(credit_score['purpose_id'].value_counts())\n",
    "print(credit_score.head(10))\n",
    "\n"
   ]
  },
  {
   "cell_type": "code",
   "execution_count": 48,
   "metadata": {},
   "outputs": [],
   "source": [
    "# Examinar todos os dados numéricos em sua coluna selecionada para categorização\n",
    "\n",
    "def income_total_type(income):\n",
    "    if income <= 10000:\n",
    "        return 'low income'\n",
    "    if income <= 30000:\n",
    "        return 'medium income'\n",
    "    return 'high income'\n"
   ]
  },
  {
   "cell_type": "code",
   "execution_count": 49,
   "metadata": {},
   "outputs": [
    {
     "name": "stdout",
     "output_type": "stream",
     "text": [
      "   children  days_employed  dob_years            education  education_id  \\\n",
      "0         1    8437.673028         42    bachelor's degree             0   \n",
      "1         1    4024.803754         36  secondary education             1   \n",
      "2         0    5623.422610         33  secondary education             1   \n",
      "3         3    4124.747207         32  secondary education             1   \n",
      "4         0  340266.072047         53  secondary education             1   \n",
      "5         0     926.185831         27    bachelor's degree             0   \n",
      "6         0    2879.202052         43    bachelor's degree             0   \n",
      "7         0     152.779569         50  secondary education             1   \n",
      "8         2    6929.865299         35    bachelor's degree             0   \n",
      "9         0    2188.756445         41  secondary education             1   \n",
      "\n",
      "  family_status  family_status_id gender income_type  debt  total_income  \\\n",
      "0       married                 0      F    employee     0     40620.102   \n",
      "1       married                 0      F    employee     0     17932.802   \n",
      "2       married                 0      M    employee     0     23341.752   \n",
      "3       married                 0      M    employee     0     42820.568   \n",
      "4       married                 1      F     retiree     0     25378.572   \n",
      "5       married                 1      M    business     0     40922.170   \n",
      "6       married                 0      F    business     0     38484.156   \n",
      "7       married                 0      M    employee     0     21731.829   \n",
      "8       married                 1      F    employee     0     15337.093   \n",
      "9       married                 0      M    employee     0     23108.150   \n",
      "\n",
      "                               purpose age_group  purpose_id income_total_id  \n",
      "0                purchase of the house     adult           2     high income  \n",
      "1                         car purchase     adult           3   medium income  \n",
      "2                purchase of the house     adult           2   medium income  \n",
      "3              supplementary education     adult           4     high income  \n",
      "4                    to have a wedding     adult           1   medium income  \n",
      "5                purchase of the house     adult           2     high income  \n",
      "6                 housing transactions     adult           2     high income  \n",
      "7                            education     adult           4   medium income  \n",
      "8                     having a wedding     adult           1   medium income  \n",
      "9  purchase of the house for my family     adult           2   medium income  \n"
     ]
    }
   ],
   "source": [
    "# Obtendo estatísticas resumidas para a coluna\n",
    "\n",
    "credit_score['income_total_id'] = credit_score['total_income'].apply(income_total_type)\n",
    "print(credit_score.head(10))"
   ]
  },
  {
   "cell_type": "code",
   "execution_count": 50,
   "metadata": {},
   "outputs": [],
   "source": [
    "#Criei grupos baseados na quantidade de renda de cada pessoa e defini grupos de tamanho de renda em baixo, media e alta."
   ]
  },
  {
   "cell_type": "code",
   "execution_count": 51,
   "metadata": {},
   "outputs": [
    {
     "name": "stdout",
     "output_type": "stream",
     "text": [
      "0      high income\n",
      "1    medium income\n",
      "2    medium income\n",
      "3      high income\n",
      "4    medium income\n",
      "5      high income\n",
      "6      high income\n",
      "7    medium income\n",
      "8    medium income\n",
      "9    medium income\n",
      "Name: income_total_id, dtype: object\n"
     ]
    }
   ],
   "source": [
    "print(credit_score['income_total_id'].head(10))"
   ]
  },
  {
   "cell_type": "code",
   "execution_count": 52,
   "metadata": {
    "scrolled": true
   },
   "outputs": [
    {
     "name": "stdout",
     "output_type": "stream",
     "text": [
      "medium income    14419\n",
      "high income       6106\n",
      "low income         926\n",
      "Name: income_total_id, dtype: int64\n"
     ]
    }
   ],
   "source": [
    "# Contando os valores de cada categoria para ver a distribuição\n",
    "\n",
    "print(credit_score['income_total_id'].value_counts())"
   ]
  },
  {
   "cell_type": "markdown",
   "metadata": {},
   "source": [
    "## Verificar as Hipóteses\n"
   ]
  },
  {
   "cell_type": "markdown",
   "metadata": {},
   "source": [
    "**Existe uma correlação entre o nível de renda e do pagamento em dia?**"
   ]
  },
  {
   "cell_type": "code",
   "execution_count": 53,
   "metadata": {},
   "outputs": [
    {
     "name": "stdout",
     "output_type": "stream",
     "text": [
      "sem filhos e sem dividas    13026\n",
      "com filhos e sem dividas     6684\n",
      "sem filhos e com dividas     1063\n",
      "com filhos e com dividas      678\n",
      "Name: filhos_inad, dtype: int64\n",
      "0.07544893179075875\n",
      "0.09209453952730236\n"
     ]
    }
   ],
   "source": [
    "# Verificando os dados das crianças e do pagamento em dia\n",
    "\n",
    "def children_debt(row):\n",
    "    \n",
    "    children = row['children']\n",
    "    debt = row['debt']\n",
    "    \n",
    "    if children == 0:\n",
    "        if debt == 0:\n",
    "            return 'sem filhos e sem dividas'\n",
    "    if children == 0:\n",
    "        if debt == 1:\n",
    "            return 'sem filhos e com dividas'\n",
    "    if children >= 1:\n",
    "        if debt == 0:\n",
    "            return 'com filhos e sem dividas'\n",
    "    if children >= 1:\n",
    "        if debt == 1:\n",
    "            return 'com filhos e com dividas'\n",
    "\n",
    "credit_score['filhos_inad'] = credit_score.apply(children_debt, axis=1)\n",
    "print(credit_score['filhos_inad'].value_counts())\n",
    "\n",
    "# Calculando a taxa de inadimplência com base no número de filhos\n",
    "\n",
    "#Para calcular a taxa de inadimplência fazemos a comparação entre as duas razões\n",
    "print(1063/(13026+1063))\n",
    "print(678/(6684+678))\n",
    "\n",
    "#A taxa de inadimplência é maior em famílias com filhos."
   ]
  },
  {
   "cell_type": "markdown",
   "metadata": {},
   "source": [
    "**Conclusão**\n",
    "\n",
    "Após análise, verifiquei que a taxa de inadimplência é de 9.2% em famílias com filhos, em comparação com 7.5% em famílias sem filhos"
   ]
  },
  {
   "cell_type": "markdown",
   "metadata": {},
   "source": [
    "**Existe uma correlação entre o status familiar e o pagamento em dia?**"
   ]
  },
  {
   "cell_type": "code",
   "execution_count": 54,
   "metadata": {},
   "outputs": [
    {
     "name": "stdout",
     "output_type": "stream",
     "text": [
      "casado e sem dívidas        17704\n",
      "casado e com dividas         1593\n",
      "divorciado e sem dividas     1110\n",
      "viúvo e sem dividas           896\n",
      "divorciado e com dividas       85\n",
      "viúvo e com dividas            63\n",
      "Name: familia_inad, dtype: int64\n",
      "0.08255169197284552\n",
      "0.07112970711297072\n",
      "0.06569343065693431\n"
     ]
    }
   ],
   "source": [
    "# Verificando os dados de status da família e do pagamento em dia\n",
    "\n",
    "def familystat_debt(row):\n",
    "    \n",
    "    familystat = row['family_status']\n",
    "    debt = row['debt']\n",
    "    \n",
    "    if 'married' in familystat:\n",
    "        if debt == 0:\n",
    "            return 'casado e sem dívidas'\n",
    "    if 'married' in familystat:\n",
    "        if debt == 1:\n",
    "            return 'casado e com dividas'\n",
    "    if 'widow / widower' in familystat:\n",
    "        if debt == 0:\n",
    "            return 'viúvo e sem dividas'\n",
    "    if 'widow / widower' in familystat:\n",
    "        if debt == 1:\n",
    "            return 'viúvo e com dividas'\n",
    "    if 'divorced' in familystat:\n",
    "        if debt == 0:\n",
    "            return 'divorciado e sem dividas'\n",
    "    if 'divorced' in familystat:\n",
    "        if debt == 1:\n",
    "            return 'divorciado e com dividas'\n",
    "    if 'unmarried' in familystat:\n",
    "        if debt == 0:\n",
    "            return 'solteiro e sem dividas'\n",
    "    if 'unmarried' in familystat:\n",
    "        if debt == 1:\n",
    "            return 'solteiro e com dividas'\n",
    "        \n",
    "credit_score['familia_inad'] = credit_score.apply(familystat_debt, axis=1)\n",
    "print(credit_score['familia_inad'].value_counts())\n",
    "\n",
    "# Calculando a taxa padrão com base no status da família\n",
    "\n",
    "#Calculando a taxa de inadimplência\n",
    "\n",
    "print(1593/(17704+1593))\n",
    "print(85/(85+1110))\n",
    "print(63/(896+63))"
   ]
  },
  {
   "cell_type": "markdown",
   "metadata": {},
   "source": [
    "**Conclusão**\n",
    "\n",
    "As taxas de inadimplência são: \n",
    "8.2% para clientes casados\n",
    "7.1% para clientes divorciados\n",
    "6.5% para clientes viúvos"
   ]
  },
  {
   "cell_type": "markdown",
   "metadata": {},
   "source": [
    "**Existe uma correlação entre o status familiar e o pagamento em dia?**"
   ]
  },
  {
   "cell_type": "code",
   "execution_count": 55,
   "metadata": {},
   "outputs": [
    {
     "name": "stdout",
     "output_type": "stream",
     "text": [
      "['high income' 'medium income' 'low income']\n",
      "media renda e sem dividas    13180\n",
      "alta renda e sem dividas      5662\n",
      "media renda e com dividas     1239\n",
      "baixa renda e sem dívidas      868\n",
      "alta renda e com dividas       444\n",
      "baixa renda e com dividas       58\n",
      "Name: incomerank_inad, dtype: int64\n",
      "0.06263498920086392\n",
      "0.08592828906304183\n",
      "0.07271536193907632\n"
     ]
    }
   ],
   "source": [
    "# Verifiquei os dados do nível de renda e do pagamento em dia\n",
    "\n",
    "print(credit_score['income_total_id'].unique())\n",
    "\n",
    "def incomerank_debt(row):\n",
    "    \n",
    "    incomerank = row['income_total_id']\n",
    "    debt = row['debt']\n",
    "\n",
    "    if 'low income' in incomerank:\n",
    "        if debt == 0:\n",
    "            return 'baixa renda e sem dívidas'\n",
    "    if 'low income' in incomerank:\n",
    "        if debt == 1:\n",
    "            return 'baixa renda e com dividas'\n",
    "    if 'medium income' in incomerank:\n",
    "        if debt == 0:\n",
    "            return 'media renda e sem dividas'\n",
    "    if 'medium income' in incomerank:\n",
    "        if debt == 1:\n",
    "            return 'media renda e com dividas'\n",
    "    if 'high income' in incomerank:\n",
    "        if debt == 0:\n",
    "            return 'alta renda e sem dividas'\n",
    "    if 'high income' in incomerank:\n",
    "        if debt == 1:\n",
    "            return 'alta renda e com dividas'\n",
    "\n",
    "credit_score['incomerank_inad'] = credit_score.apply(incomerank_debt, axis=1)\n",
    "print(credit_score['incomerank_inad'].value_counts())\n",
    "\n",
    "\n",
    "# Calculei a taxa de inadimplência com base no nível de renda\n",
    "\n",
    "print(58/(58+868))\n",
    "print(1239/(13180+1239))\n",
    "print(444/(444+5662))\n"
   ]
  },
  {
   "cell_type": "markdown",
   "metadata": {},
   "source": [
    "**Conclusão**\n",
    "\n",
    "As taxas de inadimplência são as seguintes:\n",
    "6.2% para clientes com baixa renda\n",
    "8.5% para clientes com média renda\n",
    "7.2% para clientes com alta renda"
   ]
  },
  {
   "cell_type": "markdown",
   "metadata": {},
   "source": [
    "**Como a finalidade do crédito afeta a taxa de inadimplência?**"
   ]
  },
  {
   "cell_type": "code",
   "execution_count": 56,
   "metadata": {},
   "outputs": [
    {
     "name": "stdout",
     "output_type": "stream",
     "text": [
      "comprar uma casa e sem dividas    10027\n",
      "comprar um carro e sem dividas     3903\n",
      "estudar e sem dividas              3642\n",
      "casar e sem dívidas                2138\n",
      "comprar uma casa e com dividas      782\n",
      "comprar um carro e com dividas      403\n",
      "estudar e com dividas               370\n",
      "casar e com dividas                 186\n",
      "Name: purpose_inad, dtype: int64\n",
      "0.08003442340791739\n",
      "0.07234711814228884\n",
      "0.09359033906177427\n",
      "0.09222333000997009\n"
     ]
    }
   ],
   "source": [
    "# Confira os percentuais de inadimplência para cada finalidade de crédito e analise-os\n",
    "\n",
    "def purpose_debt(row):\n",
    "    \n",
    "    purposeid = row['purpose_id']\n",
    "    debt = row['debt']\n",
    "\n",
    "    if purposeid == 1:\n",
    "        if debt == 0:\n",
    "            return 'casar e sem dívidas'\n",
    "    if purposeid == 1:\n",
    "        if debt == 1:\n",
    "            return 'casar e com dividas'\n",
    "    if purposeid == 2:\n",
    "        if debt == 0:\n",
    "            return 'comprar uma casa e sem dividas'\n",
    "    if purposeid == 2:\n",
    "        if debt == 1:\n",
    "            return 'comprar uma casa e com dividas'\n",
    "    if purposeid == 3:\n",
    "        if debt == 0:\n",
    "            return 'comprar um carro e sem dividas'\n",
    "    if purposeid == 3:\n",
    "        if debt == 1:\n",
    "            return 'comprar um carro e com dividas'\n",
    "    if purposeid == 4:\n",
    "        if debt == 0:\n",
    "            return 'estudar e sem dividas'\n",
    "    if purposeid == 4:\n",
    "        if debt == 1:\n",
    "            return 'estudar e com dividas'\n",
    "\n",
    "credit_score['purpose_inad'] = credit_score.apply(purpose_debt, axis=1)\n",
    "print(credit_score['purpose_inad'].value_counts())\n",
    "\n",
    "#Taxas de inadimplencia\n",
    "\n",
    "print(186/(186+2138))\n",
    "print(782/(782+10027))\n",
    "print(403/(403+3903))\n",
    "print(370/(370+3642))"
   ]
  },
  {
   "cell_type": "markdown",
   "metadata": {},
   "source": [
    "**Conclusão**\n",
    "\n",
    "As taxas de inadimplência são:\n",
    "8% para quem usa o dinheiro pra casar\n",
    "7.2% pra quem usa o dinheiro pra comprar uma casa\n",
    "9.3% pra quem usa o dinheiro pra comprar um carro\n",
    "9.2% pra quem usa o dinheiro pra estudar"
   ]
  },
  {
   "cell_type": "markdown",
   "metadata": {},
   "source": [
    "# Conclusão Geral \n",
    "\n",
    "O primeiro ponto a ser levantado é a grande presença de dados ausentes. Após descobrir como lidar com os dados ausentes, pude realizar comparações que levavam em consideração o tipo de emprego de cada pessoa, a característica familiar (casado, se tem filhos, etc) e relacionar como cada tipo de informação estava diretamente vinculado ao quanto cada individuo recebia. \n",
    "Com isso pude definir alguns clientes ideais para receber empréstimo:\n",
    "\n",
    "Clientes com alta renda, alto grau de escolaridade, sem filhos, casados, e com propósito de comprar uma casa irão possuir uma menor taxa de inadimplência dentre todos analisados."
   ]
  }
 ],
 "metadata": {
  "ExecuteTimeLog": [
   {
    "duration": 2741,
    "start_time": "2021-10-21T01:08:49.480Z"
   },
   {
    "duration": 52,
    "start_time": "2021-10-21T01:08:53.315Z"
   },
   {
    "duration": 49,
    "start_time": "2021-10-21T01:08:57.432Z"
   },
   {
    "duration": 70,
    "start_time": "2021-10-21T01:09:07.706Z"
   }
  ],
  "kernelspec": {
   "display_name": "Python 3 (ipykernel)",
   "language": "python",
   "name": "python3"
  },
  "language_info": {
   "codemirror_mode": {
    "name": "ipython",
    "version": 3
   },
   "file_extension": ".py",
   "mimetype": "text/x-python",
   "name": "python",
   "nbconvert_exporter": "python",
   "pygments_lexer": "ipython3",
   "version": "3.9.5"
  },
  "toc": {
   "base_numbering": 1,
   "nav_menu": {},
   "number_sections": true,
   "sideBar": true,
   "skip_h1_title": true,
   "title_cell": "Table of Contents",
   "title_sidebar": "Contents",
   "toc_cell": false,
   "toc_position": {},
   "toc_section_display": true,
   "toc_window_display": false
  }
 },
 "nbformat": 4,
 "nbformat_minor": 2
}
